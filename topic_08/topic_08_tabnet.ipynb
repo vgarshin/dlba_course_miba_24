{
 "cells": [
  {
   "cell_type": "markdown",
   "id": "560d957f-33ed-4294-a426-7dca47463dc4",
   "metadata": {
    "tags": []
   },
   "source": [
    "# Deep Learning for Business Applications course"
   ]
  },
  {
   "cell_type": "markdown",
   "id": "7672f50f-7305-4751-863f-621f7a9c81a6",
   "metadata": {
    "tags": []
   },
   "source": [
    "## TOPIC 8: More Tasks for Deep Learning. TabNet for data analysis"
   ]
  },
  {
   "cell_type": "markdown",
   "id": "5a47448e-331f-4612-82f0-3eb14c809713",
   "metadata": {},
   "source": [
    "### 1. Libraries and parameters"
   ]
  },
  {
   "cell_type": "code",
   "execution_count": null,
   "id": "4f4519d0-f74a-40ad-a6df-5b5b161fbece",
   "metadata": {
    "tags": []
   },
   "outputs": [],
   "source": [
    "!pip install pytorch-tabnet"
   ]
  },
  {
   "cell_type": "code",
   "execution_count": null,
   "id": "6eed1be7-ddc3-42f3-a4ea-559913527a3e",
   "metadata": {
    "tags": []
   },
   "outputs": [],
   "source": [
    "import os\n",
    "import torch\n",
    "import numpy as np\n",
    "import pandas as pd\n",
    "import seaborn as sns\n",
    "from matplotlib import pyplot as plt\n",
    "from pytorch_tabnet.tab_model import TabNetClassifier\n",
    "from sklearn.preprocessing import LabelEncoder\n",
    "from sklearn.metrics import accuracy_score, roc_auc_score\n",
    "from sklearn.model_selection import train_test_split, KFold"
   ]
  },
  {
   "cell_type": "markdown",
   "id": "15a224eb-e2d8-4305-a309-f519e78b12bc",
   "metadata": {},
   "source": [
    "### 2. Titanic challenge"
   ]
  },
  {
   "cell_type": "markdown",
   "id": "5f2287f4-26f5-4f62-8af5-59c7d1a9ecba",
   "metadata": {},
   "source": [
    "Famous [Titanic challenge](https://www.kaggle.com/competitions/titanic) will help us to try [TabNet](https://github.com/dreamquark-ai/tabnet). Let's also use [this notebook](https://www.kaggle.com/code/masaonda/titanic-how-to-use-tabnet) as an example."
   ]
  },
  {
   "cell_type": "markdown",
   "id": "6a949727-df3f-45ec-a7cf-653a88d98f02",
   "metadata": {},
   "source": [
    "#### 2.1. Dataset"
   ]
  },
  {
   "cell_type": "code",
   "execution_count": null,
   "id": "f940f48f-c465-4e22-ab84-b953225519cd",
   "metadata": {
    "tags": []
   },
   "outputs": [],
   "source": [
    "train = pd.read_csv('~/__DATA/DLBA_F24/topic_08/train.csv', header=0)\n",
    "test = pd.read_csv('~/__DATA/DLBA_F24/topic_08/test.csv', header=0)"
   ]
  },
  {
   "cell_type": "code",
   "execution_count": null,
   "id": "69f13e33-97b2-429e-9560-eae72bf48cab",
   "metadata": {
    "tags": []
   },
   "outputs": [],
   "source": [
    "# data preprocessing and basic feature engineering\n",
    "train.fillna({'Age': train.Age.mean()}, inplace=True)\n",
    "test.fillna({'Age': train.Age.mean()}, inplace=True)\n",
    "test.fillna({'Fare': train.Fare.mean()}, inplace=True)\n",
    "train.drop('Cabin', axis=1, inplace=True)\n",
    "test.drop('Cabin', axis=1, inplace=True)\n",
    "train.fillna({'Embarked': 'S'}, inplace=True)\n",
    "test.fillna({'Embarked': 'S'}, inplace=True)\n",
    "train.replace({'Sex': {'male': 0, 'female': 1}}, inplace=True)\n",
    "test.replace({'Sex': {'male': 0, 'female': 1}}, inplace=True)\n",
    "train.replace({'Title': {'Mr': 0, 'Mrs': 1, 'Miss': 2, 'Master': 3}}, inplace=True)\n",
    "test.replace({'Title': {'Mr': 0, 'Mrs': 1, 'Miss': 2, 'Master': 3}}, inplace=True)\n",
    "\n",
    "# one-hot encoding\n",
    "embarked = pd.concat([train['Embarked'], test['Embarked']])\n",
    "embarked_ohe = pd.get_dummies(embarked)\n",
    "embarked_ohe_train = embarked_ohe[:891]\n",
    "embarked_ohe_test = embarked_ohe[891:]\n",
    "train = pd.concat([train, embarked_ohe_train], axis=1)\n",
    "test = pd.concat([test, embarked_ohe_test], axis=1)"
   ]
  },
  {
   "cell_type": "code",
   "execution_count": null,
   "id": "c27aa539-d7f1-4118-bac4-936d574faccb",
   "metadata": {
    "tags": []
   },
   "outputs": [],
   "source": [
    "# drop useless columns\n",
    "train.drop('Embarked', axis=1, inplace=True)\n",
    "test.drop('Embarked', axis=1, inplace=True)\n",
    "train.drop('Name', axis=1, inplace=True)\n",
    "test.drop('Name', axis=1, inplace=True)\n",
    "train.drop('Ticket', axis=1, inplace=True)\n",
    "test.drop('Ticket', axis=1, inplace=True)"
   ]
  },
  {
   "cell_type": "markdown",
   "id": "3ed01d85-aa9d-4dba-91d8-46db2060e4eb",
   "metadata": {},
   "source": [
    "#### 2.2. Train-test split"
   ]
  },
  {
   "cell_type": "code",
   "execution_count": null,
   "id": "c134452c-6f27-4180-9217-45a78b6df2a8",
   "metadata": {
    "tags": []
   },
   "outputs": [],
   "source": [
    "X = train.iloc[:, 2:].values.astype(float)\n",
    "y = train.iloc[:, 1].values.astype(float)\n",
    "\n",
    "X_train, X_valid, y_train, y_valid = train_test_split(X, y, test_size=.3)"
   ]
  },
  {
   "cell_type": "markdown",
   "id": "b6bdeec0-5a83-448a-b21e-acf01f147164",
   "metadata": {},
   "source": [
    "#### 2.3. Training TabNet"
   ]
  },
  {
   "cell_type": "code",
   "execution_count": null,
   "id": "6025f364-015b-44b8-b322-52255c0eb725",
   "metadata": {
    "tags": []
   },
   "outputs": [],
   "source": [
    "tabnet_params = dict(\n",
    "    n_d=16,\n",
    "    n_a=16,\n",
    "    n_steps=5,\n",
    "    gamma=1.3,\n",
    "    lambda_sparse=0,\n",
    "    optimizer_fn=torch.optim.Adam,\n",
    "    optimizer_params=dict(lr=2e-2, weight_decay=1e-5),\n",
    "    mask_type='entmax',\n",
    "    scheduler_params=dict(\n",
    "        mode='min',\n",
    "        patience=5,\n",
    "        min_lr=1e-5,\n",
    "        factor=.9\n",
    "    ),\n",
    "    scheduler_fn=torch.optim.lr_scheduler.ReduceLROnPlateau,\n",
    "    seed=2024,\n",
    "    verbose=10\n",
    ")"
   ]
  },
  {
   "cell_type": "code",
   "execution_count": null,
   "id": "f3fa12e2-566a-47c3-a3d9-4b0370a413ef",
   "metadata": {
    "tags": []
   },
   "outputs": [],
   "source": [
    "EPOCH = 100\n",
    "BATCH_SIZE = 32\n",
    "model = TabNetClassifier(**tabnet_params)\n",
    "model.fit(\n",
    "    X_train, y_train,\n",
    "    eval_set=[(X_valid, y_valid)],\n",
    "    max_epochs=EPOCH,\n",
    "    batch_size=BATCH_SIZE,\n",
    "    patience=10\n",
    ")"
   ]
  },
  {
   "cell_type": "markdown",
   "id": "df9d6647-daf0-459b-b1a0-ae81f387991c",
   "metadata": {},
   "source": [
    "#### 2.4. Feature importances analysis"
   ]
  },
  {
   "cell_type": "code",
   "execution_count": null,
   "id": "4c80d9c3-bed2-4015-90b2-9b68e1ea9841",
   "metadata": {
    "tags": []
   },
   "outputs": [],
   "source": [
    "importance = pd.DataFrame()\n",
    "importance['feature'] = train.iloc[:, 2:].columns\n",
    "importance['importance'] = model.feature_importances_\n",
    "\n",
    "sns.barplot(x='importance', y='feature', data=importance.sort_values(by='importance', ascending=False))"
   ]
  },
  {
   "cell_type": "markdown",
   "id": "54b7cdaa-11be-40f1-8ceb-35ff83035699",
   "metadata": {},
   "source": [
    "### 3. Covertype task"
   ]
  },
  {
   "cell_type": "markdown",
   "id": "daaf2340-39c6-4476-977a-9a03f7ca1287",
   "metadata": {},
   "source": [
    "[Here](https://archive.ics.uci.edu/dataset/31/covertype) you can get info about the Cocertype task. Our example is based on [this code](https://www.kaggle.com/code/mrisdal/pytorch-tabnet-example)."
   ]
  },
  {
   "cell_type": "markdown",
   "id": "0059c5af-bc3d-4770-a4ba-7ea340bdb25f",
   "metadata": {},
   "source": [
    "#### 3.1. Dataset"
   ]
  },
  {
   "cell_type": "code",
   "execution_count": null,
   "id": "adfe989f-d365-465f-9f16-942a380eb1c9",
   "metadata": {
    "tags": []
   },
   "outputs": [],
   "source": [
    "target = 'Covertype'\n",
    "bool_columns = [\n",
    "    'Wilderness_Area1', 'Wilderness_Area2', 'Wilderness_Area3',\n",
    "    'Wilderness_Area4', 'Soil_Type1', 'Soil_Type2', 'Soil_Type3', 'Soil_Type4',\n",
    "    'Soil_Type5', 'Soil_Type6', 'Soil_Type7', 'Soil_Type8', 'Soil_Type9',\n",
    "    'Soil_Type10', 'Soil_Type11', 'Soil_Type12', 'Soil_Type13', 'Soil_Type14',\n",
    "    'Soil_Type15', 'Soil_Type16', 'Soil_Type17', 'Soil_Type18', 'Soil_Type19',\n",
    "    'Soil_Type20', 'Soil_Type21', 'Soil_Type22', 'Soil_Type23', 'Soil_Type24',\n",
    "    'Soil_Type25', 'Soil_Type26', 'Soil_Type27', 'Soil_Type28', 'Soil_Type29',\n",
    "    'Soil_Type30', 'Soil_Type31', 'Soil_Type32', 'Soil_Type33', 'Soil_Type34',\n",
    "    'Soil_Type35', 'Soil_Type36', 'Soil_Type37', 'Soil_Type38', 'Soil_Type39',\n",
    "    'Soil_Type40'\n",
    "]\n",
    "int_columns = [\n",
    "    'Elevation', 'Aspect', 'Slope', 'Horizontal_Distance_To_Hydrology',\n",
    "    'Vertical_Distance_To_Hydrology', 'Horizontal_Distance_To_Roadways',\n",
    "    'Hillshade_9am', 'Hillshade_Noon', 'Hillshade_3pm',\n",
    "    'Horizontal_Distance_To_Fire_Points'\n",
    "]\n",
    "feature_columns = (int_columns + bool_columns + [target])"
   ]
  },
  {
   "cell_type": "code",
   "execution_count": null,
   "id": "45b51ab6-8f01-4164-bd50-514ce83d2a76",
   "metadata": {
    "tags": []
   },
   "outputs": [],
   "source": [
    "file_path = '~/__DATA/DLBA_F24/topic_08/covtype.data.gz'\n",
    "train = pd.read_csv(file_path, header=None, names=feature_columns)\n",
    "\n",
    "# Train, val and test split follows\n",
    "# Rory Mitchell, Andrey Adinets, Thejaswi Rao, and Eibe Frank.\n",
    "# Xgboost: Scalable GPU accelerated learning. arXiv:1806.11248, 2018.\n",
    "\n",
    "n_total = len(train)\n",
    "train_val_indices, test_indices = train_test_split(\n",
    "    range(n_total),\n",
    "    test_size=.2,\n",
    "    random_state=2024\n",
    ")\n",
    "train_indices, valid_indices = train_test_split(\n",
    "    train_val_indices,\n",
    "    test_size=.2 / .6,\n",
    "    random_state=2024\n",
    ")\n",
    "display(train.head())"
   ]
  },
  {
   "cell_type": "markdown",
   "id": "1445c77b-3482-49c7-9827-3f727847935e",
   "metadata": {},
   "source": [
    "#### 3.2. Features"
   ]
  },
  {
   "cell_type": "code",
   "execution_count": null,
   "id": "2e83fd01-fc2c-4768-ba24-ca15685c0b0e",
   "metadata": {
    "tags": []
   },
   "outputs": [],
   "source": [
    "categorical_columns = []\n",
    "categorical_dims = {}\n",
    "\n",
    "for col in train.columns[train.dtypes == object]:\n",
    "    print(col, train[col].nunique())\n",
    "    l_enc = LabelEncoder()\n",
    "    train[col] = train[col].fillna('VV_likely')\n",
    "    train[col] = l_enc.fit_transform(train[col].values)\n",
    "    categorical_columns.append(col)\n",
    "    categorical_dims[col] = len(l_enc.classes_)\n",
    "\n",
    "for col in train.columns[train.dtypes == 'float64']:\n",
    "    train.fillna(train.loc[train_indices, col].mean(), inplace=True)"
   ]
  },
  {
   "cell_type": "code",
   "execution_count": null,
   "id": "c923f8b2-8cd5-4c30-ad87-51c379eae4dd",
   "metadata": {
    "tags": []
   },
   "outputs": [],
   "source": [
    "features = [col for col in train.columns if col not in target]\n",
    "cat_idxs = [i for i, f in enumerate(features) if f in categorical_columns]\n",
    "cat_dims = [categorical_dims[f] for i, f\n",
    "            in enumerate(features)\n",
    "            if f in categorical_columns]"
   ]
  },
  {
   "cell_type": "markdown",
   "id": "44d3326d-4cc5-4df2-9213-f6b9cc2fdc0a",
   "metadata": {},
   "source": [
    "#### 3.3. Train-test dplit"
   ]
  },
  {
   "cell_type": "code",
   "execution_count": null,
   "id": "baf230c7-ad08-4b70-a580-1ed059a3ba4d",
   "metadata": {
    "tags": []
   },
   "outputs": [],
   "source": [
    "X_train = train[features].values[train_indices]\n",
    "y_train = train[target].values[train_indices]\n",
    "\n",
    "X_valid = train[features].values[valid_indices]\n",
    "y_valid = train[target].values[valid_indices]\n",
    "\n",
    "X_test = train[features].values[test_indices]\n",
    "y_test = train[target].values[test_indices]"
   ]
  },
  {
   "cell_type": "markdown",
   "id": "56278959-83a6-4fe1-81b8-3291cd0e91eb",
   "metadata": {},
   "source": [
    "#### 3.4. Training TabNet"
   ]
  },
  {
   "cell_type": "code",
   "execution_count": null,
   "id": "26069209-d04c-4f81-9e81-5545c8ddb39d",
   "metadata": {
    "tags": []
   },
   "outputs": [],
   "source": [
    "clf = TabNetClassifier(\n",
    "    cat_idxs=cat_idxs,\n",
    "    cat_dims=cat_dims,\n",
    "    optimizer_fn=torch.optim.Adam\n",
    ")"
   ]
  },
  {
   "cell_type": "code",
   "execution_count": null,
   "id": "6473f3ef-a3e6-47f2-b05f-59eb4cb73ab7",
   "metadata": {
    "tags": []
   },
   "outputs": [],
   "source": [
    "MAX_EPOCHS = 5  # 100 epochs recommended\n",
    "clf.fit(\n",
    "    X_train=X_train, y_train=y_train,\n",
    "    eval_set=[(X_train, y_train), (X_valid, y_valid)],\n",
    "    eval_name=['train', 'valid'],\n",
    "    max_epochs=MAX_EPOCHS,\n",
    "    patience=10,\n",
    "    batch_size=16384\n",
    ")"
   ]
  },
  {
   "cell_type": "code",
   "execution_count": null,
   "id": "109386c5-ff91-4a2b-bc41-57525afb6f93",
   "metadata": {
    "tags": []
   },
   "outputs": [],
   "source": [
    "plt.plot(clf.history['loss'])"
   ]
  },
  {
   "cell_type": "code",
   "execution_count": null,
   "id": "10664c6d-7116-4007-a17c-340b70ccc87a",
   "metadata": {
    "tags": []
   },
   "outputs": [],
   "source": [
    "plt.plot(clf.history['valid_accuracy'])"
   ]
  },
  {
   "cell_type": "code",
   "execution_count": null,
   "id": "53f35b71-7faf-4cfe-8158-95d4180bfa42",
   "metadata": {
    "tags": []
   },
   "outputs": [],
   "source": [
    "y_pred = clf.predict(X_test)\n",
    "test_acc = accuracy_score(y_pred=y_pred, y_true=y_test)\n",
    "print(f'final test accuracyE: {test_acc}')"
   ]
  },
  {
   "cell_type": "markdown",
   "id": "81ae7c3e-6109-49f3-9c18-628a55486ee1",
   "metadata": {
    "tags": []
   },
   "source": [
    "#### 3.5. Feature importances analysis"
   ]
  },
  {
   "cell_type": "code",
   "execution_count": null,
   "id": "5f24a56d-820f-44ed-841f-379ff15e7ba9",
   "metadata": {
    "tags": []
   },
   "outputs": [],
   "source": [
    "len(clf.feature_importances_)"
   ]
  },
  {
   "cell_type": "code",
   "execution_count": null,
   "id": "9f4fd1c0-1d54-4018-aedc-7382ba7c33e7",
   "metadata": {
    "tags": []
   },
   "outputs": [],
   "source": [
    "len(train.columns[:-1])"
   ]
  },
  {
   "cell_type": "code",
   "execution_count": null,
   "id": "853a6c6e-a392-46c2-a326-47ce45c68d7d",
   "metadata": {
    "tags": []
   },
   "outputs": [],
   "source": [
    "importance = pd.DataFrame()\n",
    "importance['feature'] = train.columns[:-1]\n",
    "importance['importance'] = clf.feature_importances_\n",
    "\n",
    "plt.figure(figsize=(16, 24))\n",
    "sns.barplot(\n",
    "    x='importance',\n",
    "    y='feature',\n",
    "    data=importance.sort_values(by='importance', ascending=False)\n",
    ")\n",
    "plt.show()"
   ]
  },
  {
   "cell_type": "code",
   "execution_count": null,
   "id": "0bd824f4-3b86-4421-8384-c2657e342273",
   "metadata": {
    "tags": []
   },
   "outputs": [],
   "source": [
    "explain_matrix, masks = clf.explain(X_test)\n",
    "fig, axs = plt.subplots(1, 3, figsize=(20, 20))\n",
    "\n",
    "for i in range(3):\n",
    "    axs[i].imshow(masks[i][:50])\n",
    "    axs[i].set_title(f'mask {i}')"
   ]
  },
  {
   "cell_type": "code",
   "execution_count": null,
   "id": "f9167b53-c150-43b9-92e1-0eafaf802459",
   "metadata": {},
   "outputs": [],
   "source": []
  }
 ],
 "metadata": {
  "kernelspec": {
   "display_name": "Python 3 (ipykernel)",
   "language": "python",
   "name": "python3"
  },
  "language_info": {
   "codemirror_mode": {
    "name": "ipython",
    "version": 3
   },
   "file_extension": ".py",
   "mimetype": "text/x-python",
   "name": "python",
   "nbconvert_exporter": "python",
   "pygments_lexer": "ipython3",
   "version": "3.10.8"
  },
  "widgets": {
   "application/vnd.jupyter.widget-state+json": {
    "state": {},
    "version_major": 2,
    "version_minor": 0
   }
  }
 },
 "nbformat": 4,
 "nbformat_minor": 5
}
