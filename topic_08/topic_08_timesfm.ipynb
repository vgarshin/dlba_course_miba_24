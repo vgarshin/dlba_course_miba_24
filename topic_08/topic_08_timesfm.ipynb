{
 "cells": [
  {
   "cell_type": "markdown",
   "id": "61cc959d-7d1f-4fe8-8134-c837bad82185",
   "metadata": {
    "tags": []
   },
   "source": [
    "# Deep Learning for Business Applications course"
   ]
  },
  {
   "cell_type": "markdown",
   "id": "8730658f-e7d2-4bc2-a87b-b4fe7712cc46",
   "metadata": {
    "tags": []
   },
   "source": [
    "## TOPIC 8: More Tasks for Deep Learning. Time-series prediction with TimesFM"
   ]
  },
  {
   "cell_type": "markdown",
   "id": "fe8736f9-8fae-4abf-b252-efb217aa161b",
   "metadata": {},
   "source": [
    "### 1. Libraries and parameters"
   ]
  },
  {
   "cell_type": "code",
   "execution_count": null,
   "id": "be55febb-b861-49b6-9445-459121b1c50d",
   "metadata": {
    "tags": []
   },
   "outputs": [],
   "source": [
    "!pip install statsforecast timesfm\n",
    "!pip install --upgrade pandas \"dask[complete]\""
   ]
  },
  {
   "cell_type": "code",
   "execution_count": null,
   "id": "dc0ab132-9c7d-4494-92c4-da85f611034e",
   "metadata": {
    "tags": []
   },
   "outputs": [],
   "source": [
    "import os\n",
    "import timesfm\n",
    "import numpy as np\n",
    "import pandas as pd\n",
    "import matplotlib.pyplot as plt\n",
    "from statsmodels.tsa.seasonal import seasonal_decompose\n",
    "from statsforecast import StatsForecast\n",
    "from statsforecast.models import AutoARIMA, AutoETS\n",
    "\n",
    "DEVICE = 'cpu'"
   ]
  },
  {
   "cell_type": "markdown",
   "id": "1afe0034-cd3f-440a-a135-057d1a8b13c7",
   "metadata": {},
   "source": [
    "### 2. Dataset"
   ]
  },
  {
   "cell_type": "code",
   "execution_count": null,
   "id": "9fce5d32-e2df-4d99-8ef4-ebd30a1dab23",
   "metadata": {
    "tags": []
   },
   "outputs": [],
   "source": [
    "# dataset is related to world gold prices\n",
    "\n",
    "DATA_PATH = '~/__DATA/DLBA_F24/topic_08'\n",
    "file_name = 'gold_prices_1979-2021.csv'\n",
    "file_path = f'{DATA_PATH}/{file_name}'"
   ]
  },
  {
   "cell_type": "code",
   "execution_count": null,
   "id": "5f82dcac-8b2b-4221-9360-b7fb45b28697",
   "metadata": {
    "tags": []
   },
   "outputs": [],
   "source": [
    "df = pd.read_csv(file_path)\n",
    "df['Date'] = pd.to_datetime(df['Date'])\n",
    "df = df.set_index('Date').resample('MS').mean()\n",
    "display(df.head())"
   ]
  },
  {
   "cell_type": "code",
   "execution_count": null,
   "id": "9c84a01b-1bcc-4c10-9fcc-2c68d49dac25",
   "metadata": {
    "tags": []
   },
   "outputs": [],
   "source": [
    "df.columns"
   ]
  },
  {
   "cell_type": "markdown",
   "id": "0fabaf5e-0e60-48eb-a305-b17cd11a8c30",
   "metadata": {},
   "source": [
    "### 3. EDA"
   ]
  },
  {
   "cell_type": "code",
   "execution_count": null,
   "id": "2be4b436-8298-4b8f-bc53-2fb3dcec9430",
   "metadata": {
    "tags": []
   },
   "outputs": [],
   "source": [
    "TARGET = 'South Africa(ZAR)'"
   ]
  },
  {
   "cell_type": "code",
   "execution_count": null,
   "id": "7431f0b2-671f-4079-9da6-32cddfd4bd8d",
   "metadata": {
    "tags": []
   },
   "outputs": [],
   "source": [
    "result = seasonal_decompose(df[TARGET])\n",
    "\n",
    "fig, (ax1, ax2, ax3, ax4) = plt.subplots(4, 1, figsize=(10, 12))\n",
    "ax1.set_title(f'Monthly gold prices in {TARGET}')\n",
    "result.observed.plot(ax=ax1, color='green')\n",
    "ax1.set_ylabel('Observed')\n",
    "result.trend.plot(ax=ax2, color='green')\n",
    "ax2.set_ylabel('Trend')\n",
    "result.seasonal.plot(ax=ax3, color='green')\n",
    "ax3.set_ylabel('Seasonal')\n",
    "result.resid.plot(ax=ax4, color='green')\n",
    "ax4.set_ylabel('Residual')\n",
    "plt.tight_layout()\n",
    "plt.show()"
   ]
  },
  {
   "cell_type": "markdown",
   "id": "3ca788bd-26c6-4a15-aeeb-588a3a85130a",
   "metadata": {},
   "source": [
    "### 4. Train-test dplit"
   ]
  },
  {
   "cell_type": "code",
   "execution_count": null,
   "id": "6c885945-1874-47f6-a864-eb0eb3ec6f99",
   "metadata": {
    "tags": []
   },
   "outputs": [],
   "source": [
    "df = pd.DataFrame({\n",
    "    'unique_id': [1] * len(df),\n",
    "    'ds': df.index,\n",
    "    'price': df['India(INR)']\n",
    "})\n",
    "display(df.head())"
   ]
  },
  {
   "cell_type": "code",
   "execution_count": null,
   "id": "941a7485-9123-4813-b377-5c9429e9a848",
   "metadata": {
    "tags": []
   },
   "outputs": [],
   "source": [
    "df_train = df[(df['ds'] <= '31-07-2019') & (df['ds'] >= '01-01-2000')]\n",
    "df_test = df[df['ds'] > '31-07-2019']"
   ]
  },
  {
   "cell_type": "code",
   "execution_count": null,
   "id": "5b6b1a31-b95e-46a6-97c4-870ad2bbbf9c",
   "metadata": {
    "tags": []
   },
   "outputs": [],
   "source": [
    "df_train.shape"
   ]
  },
  {
   "cell_type": "code",
   "execution_count": null,
   "id": "c515741f-a5fd-4828-bb29-3206f2f11efb",
   "metadata": {
    "tags": []
   },
   "outputs": [],
   "source": [
    "df_test.shape"
   ]
  },
  {
   "cell_type": "markdown",
   "id": "e8a14510-7edd-413c-be67-e08d15c9bcc6",
   "metadata": {},
   "source": [
    "### 5. Training TimesFM"
   ]
  },
  {
   "cell_type": "code",
   "execution_count": null,
   "id": "681bb67e-df18-40c8-af42-e779eda33009",
   "metadata": {
    "tags": []
   },
   "outputs": [],
   "source": [
    "# initialize the TimesFM model\n",
    "# and load the pretrained model checkpoint\n",
    "\n",
    "tfm = timesfm.TimesFm(\n",
    "    context_len=128,  # length of the context window for the model\n",
    "    horizon_len=24,  # forecasting horizon length\n",
    "    input_patch_len=32,  # Length of input patches\n",
    "    output_patch_len=128,  # Length of output patches\n",
    "    num_layers=20, \n",
    "    model_dims=1280,\n",
    "    backend=DEVICE,\n",
    ")\n",
    "tfm.load_from_checkpoint(repo_id=\"google/timesfm-1.0-200m\")"
   ]
  },
  {
   "cell_type": "code",
   "execution_count": null,
   "id": "3ba0b350-c41a-4dcc-99cf-f707b36e4140",
   "metadata": {
    "tags": []
   },
   "outputs": [],
   "source": [
    "# generate forecasts\n",
    "\n",
    "timesfm_forecast = tfm.forecast_on_df(\n",
    "    inputs=df_train,\n",
    "    freq=\"MS\",  # frequency of the time-series data (e.g., monthly start)\n",
    "    value_name='price',  # target column to predict\n",
    "    num_jobs=-1\n",
    ")\n",
    "timesfm_forecast = timesfm_forecast[['ds', 'timesfm']]"
   ]
  },
  {
   "cell_type": "markdown",
   "id": "9ca320c7-a8ff-4c5b-8918-9f2d0dea8c51",
   "metadata": {
    "tags": []
   },
   "source": [
    "### 6. Training statistical models"
   ]
  },
  {
   "cell_type": "code",
   "execution_count": null,
   "id": "109bb988-37ac-48e7-98b5-d495cd72d1ad",
   "metadata": {
    "tags": []
   },
   "outputs": [],
   "source": [
    "# let's use two classical models to compare with TimeFS\n",
    "# AutoARIMA model with annual seasonality for monthly data\n",
    "autoarima = AutoARIMA(season_length=12)\n",
    "\n",
    "# AutoETS model\n",
    "# with annual seasonality for monthly data\n",
    "autoets = AutoETS(season_length=12)"
   ]
  },
  {
   "cell_type": "code",
   "execution_count": null,
   "id": "cc3dd00f-81da-4e2b-ba2a-baaea8a1cb9e",
   "metadata": {
    "tags": []
   },
   "outputs": [],
   "source": [
    "# create StatsForecast object with models\n",
    "statforecast = StatsForecast(\n",
    "    models=[autoarima, autoets],\n",
    "    freq='MS',\n",
    "    n_jobs=-1\n",
    ")\n",
    "\n",
    "# Fit the models\n",
    "statforecast.fit(df=df_train, target_col='price')\n",
    "\n",
    "# generate forecasts\n",
    "# with horizon forecast is for 24 periods\n",
    "sf_forecast = statforecast.forecast(h=24)"
   ]
  },
  {
   "cell_type": "markdown",
   "id": "58309ab4-59ab-46d7-9d8f-378e77a51179",
   "metadata": {},
   "source": [
    "### 7. Compare results"
   ]
  },
  {
   "cell_type": "code",
   "execution_count": null,
   "id": "491a9757-f2e3-4926-b65b-fd7420f2f179",
   "metadata": {
    "tags": []
   },
   "outputs": [],
   "source": [
    "forecasts = pd.merge(timesfm_forecast, sf_forecast, on='ds')\n",
    "forecasts = pd.merge(forecasts, df_test, on='ds')"
   ]
  },
  {
   "cell_type": "code",
   "execution_count": null,
   "id": "85441489-22df-4088-9bf3-f92aa8f4739e",
   "metadata": {
    "tags": []
   },
   "outputs": [],
   "source": [
    "def error_metrics(y, y_pred):\n",
    "    \"\"\"\n",
    "    Calculates MAE, RMSE, MAPE metrics.\n",
    "\n",
    "    \"\"\"\n",
    "    y = np.array(y)\n",
    "    y_pred = np.array(y_pred)\n",
    "    metrics = {\n",
    "        'MAE': np.mean(np.abs(y - y_pred)),\n",
    "        'RMSE': np.sqrt(np.mean((y - y_pred) ** 2)),\n",
    "        'MAPE': np.mean(np.abs((y - y_pred) / y)) * 100\n",
    "    }\n",
    "    return metrics"
   ]
  },
  {
   "cell_type": "code",
   "execution_count": null,
   "id": "9bc2b44a-1755-463f-bbe1-afd64a46f921",
   "metadata": {
    "tags": []
   },
   "outputs": [],
   "source": [
    "models = ['timesfm', 'AutoARIMA', 'AutoETS']\n",
    "err_metrics = []\n",
    "for col in models:\n",
    "    y_pred = forecasts[col]\n",
    "    tmp_dict = error_metrics(\n",
    "        y=forecasts['price'],\n",
    "        y_pred=forecasts[col]\n",
    "    )\n",
    "    tmp_dict['model'] = col\n",
    "    err_metrics.append(tmp_dict)"
   ]
  },
  {
   "cell_type": "code",
   "execution_count": null,
   "id": "879440f6-b1c8-4eb9-9186-ec35a5be4ed5",
   "metadata": {
    "tags": []
   },
   "outputs": [],
   "source": [
    "pd.DataFrame(err_metrics)"
   ]
  },
  {
   "cell_type": "code",
   "execution_count": null,
   "id": "25c64743-950e-486f-8790-06d8dd178290",
   "metadata": {},
   "outputs": [],
   "source": []
  }
 ],
 "metadata": {
  "kernelspec": {
   "display_name": "Python 3 (ipykernel)",
   "language": "python",
   "name": "python3"
  },
  "language_info": {
   "codemirror_mode": {
    "name": "ipython",
    "version": 3
   },
   "file_extension": ".py",
   "mimetype": "text/x-python",
   "name": "python",
   "nbconvert_exporter": "python",
   "pygments_lexer": "ipython3",
   "version": "3.10.8"
  },
  "widgets": {
   "application/vnd.jupyter.widget-state+json": {
    "state": {
     "0e2344190d7044d4914d93b14d39bcef": {
      "model_module": "@jupyter-widgets/base",
      "model_module_version": "2.0.0",
      "model_name": "LayoutModel",
      "state": {}
     },
     "17aed0f8aa6d468e82139d5abc980150": {
      "model_module": "@jupyter-widgets/base",
      "model_module_version": "2.0.0",
      "model_name": "LayoutModel",
      "state": {}
     },
     "45490fe72b914763bb6e5638609100a8": {
      "model_module": "@jupyter-widgets/base",
      "model_module_version": "2.0.0",
      "model_name": "LayoutModel",
      "state": {}
     },
     "5f235771b8084c6a8bf63be6afa39070": {
      "model_module": "@jupyter-widgets/base",
      "model_module_version": "2.0.0",
      "model_name": "LayoutModel",
      "state": {}
     },
     "9c22989968e645abadc79e94daf045e2": {
      "model_module": "@jupyter-widgets/controls",
      "model_module_version": "2.0.0",
      "model_name": "ProgressStyleModel",
      "state": {
       "description_width": ""
      }
     },
     "9c717d0ce7584b34bc139db32e328dc1": {
      "model_module": "@jupyter-widgets/controls",
      "model_module_version": "2.0.0",
      "model_name": "HBoxModel",
      "state": {
       "children": [
        "IPY_MODEL_f2190a1e0aa84806941481dfdb087358",
        "IPY_MODEL_d704d5b35b674f5aadfa013abe99b6be",
        "IPY_MODEL_df74029144844a8f9c8d41b422bbe18d"
       ],
       "layout": "IPY_MODEL_0e2344190d7044d4914d93b14d39bcef"
      }
     },
     "c51f00f72fa346f4b8fb7daf620f8525": {
      "model_module": "@jupyter-widgets/controls",
      "model_module_version": "2.0.0",
      "model_name": "HTMLStyleModel",
      "state": {
       "description_width": "",
       "font_size": null,
       "text_color": null
      }
     },
     "cc92d80138f7432d9593ce3065c9b299": {
      "model_module": "@jupyter-widgets/controls",
      "model_module_version": "2.0.0",
      "model_name": "HTMLStyleModel",
      "state": {
       "description_width": "",
       "font_size": null,
       "text_color": null
      }
     },
     "d704d5b35b674f5aadfa013abe99b6be": {
      "model_module": "@jupyter-widgets/controls",
      "model_module_version": "2.0.0",
      "model_name": "FloatProgressModel",
      "state": {
       "bar_style": "success",
       "layout": "IPY_MODEL_5f235771b8084c6a8bf63be6afa39070",
       "max": 5,
       "style": "IPY_MODEL_9c22989968e645abadc79e94daf045e2",
       "value": 5
      }
     },
     "df74029144844a8f9c8d41b422bbe18d": {
      "model_module": "@jupyter-widgets/controls",
      "model_module_version": "2.0.0",
      "model_name": "HTMLModel",
      "state": {
       "layout": "IPY_MODEL_45490fe72b914763bb6e5638609100a8",
       "style": "IPY_MODEL_cc92d80138f7432d9593ce3065c9b299",
       "value": " 5/5 [00:00&lt;00:00, 128.63it/s]"
      }
     },
     "f2190a1e0aa84806941481dfdb087358": {
      "model_module": "@jupyter-widgets/controls",
      "model_module_version": "2.0.0",
      "model_name": "HTMLModel",
      "state": {
       "layout": "IPY_MODEL_17aed0f8aa6d468e82139d5abc980150",
       "style": "IPY_MODEL_c51f00f72fa346f4b8fb7daf620f8525",
       "value": "Fetching 5 files: 100%"
      }
     }
    },
    "version_major": 2,
    "version_minor": 0
   }
  }
 },
 "nbformat": 4,
 "nbformat_minor": 5
}
