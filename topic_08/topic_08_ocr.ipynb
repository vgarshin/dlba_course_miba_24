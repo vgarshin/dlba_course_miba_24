{
 "cells": [
  {
   "cell_type": "markdown",
   "id": "5191ba01-86ca-4697-917f-4b53566ab90c",
   "metadata": {
    "tags": []
   },
   "source": [
    "# Deep Learning for Business Applications course"
   ]
  },
  {
   "cell_type": "markdown",
   "id": "465c13a0-9590-4303-aea8-87ac464665d5",
   "metadata": {
    "tags": []
   },
   "source": [
    "## TOPIC 8: More Tasks for Deep Learning. OCR with Tesseract"
   ]
  },
  {
   "cell_type": "markdown",
   "id": "397754cf-18af-4507-ab6d-32431318aef1",
   "metadata": {},
   "source": [
    "### 1. Libraries and parameters"
   ]
  },
  {
   "cell_type": "markdown",
   "id": "8f5c1de0-d296-41fc-aa59-dfc61a31a7c6",
   "metadata": {},
   "source": [
    "Demo is based on [Tesseract OCR](https://github.com/tesseract-ocr/tesseract) framework."
   ]
  },
  {
   "cell_type": "code",
   "execution_count": null,
   "id": "77b4852e-e454-4300-9dec-0d7828bef3ad",
   "metadata": {
    "tags": []
   },
   "outputs": [],
   "source": [
    "import os\n",
    "import pytesseract\n",
    "from tqdm.auto import tqdm\n",
    "from pdf2image import convert_from_path\n",
    "from PIL import Image"
   ]
  },
  {
   "cell_type": "markdown",
   "id": "bd5434b5-942d-419a-aab7-8895c83fccc9",
   "metadata": {},
   "source": [
    "### 2. Document preprocessing"
   ]
  },
  {
   "cell_type": "code",
   "execution_count": null,
   "id": "a0b6883a-87b4-48e1-8bf4-d079790b850e",
   "metadata": {
    "tags": []
   },
   "outputs": [],
   "source": [
    "def pdf2img(file_path, img_dir, first_page, last_page, dpi=200):\n",
    "    \"\"\"\n",
    "    Turns pdf file to set of jpeg images.\n",
    "\n",
    "    \"\"\"\n",
    "    if not os.path.exists(img_dir):\n",
    "        os.makedirs(img_dir)\n",
    "    pdf_pages = convert_from_path(\n",
    "        pdf_path=file_path,\n",
    "        dpi=dpi,\n",
    "        output_folder=img_dir,\n",
    "        first_page=first_page,\n",
    "        last_page=last_page,\n",
    "        fmt='JPEG'\n",
    "    )\n",
    "    return pdf_pages\n",
    "\n",
    "\n",
    "def ocr_text(img_dir, lang='eng'):\n",
    "    \"\"\"\n",
    "    Takes the text from image.\n",
    "\n",
    "    \"\"\"\n",
    "    text = ''\n",
    "    for img_name in tqdm(sorted(os.listdir(img_dir))):\n",
    "        if '.jpg' in img_name:\n",
    "            text_tmp = str(\n",
    "                pytesseract.image_to_string(\n",
    "                    Image.open(f'{IMG_PATH}/{img_name}'),\n",
    "                    lang=lang  # `eng+rus` for two languages in document\n",
    "                )\n",
    "            )\n",
    "            text = ' '.join([text, text_tmp])\n",
    "    return text"
   ]
  },
  {
   "cell_type": "markdown",
   "id": "63553ac8-cc8f-481d-acc2-7862ffbe1737",
   "metadata": {},
   "source": [
    "#### 2.1. First test"
   ]
  },
  {
   "cell_type": "code",
   "execution_count": null,
   "id": "e32c3252-d5a0-446f-9a73-95bd94ddae6f",
   "metadata": {
    "tags": []
   },
   "outputs": [],
   "source": [
    "IMG_PATH = 'aiimg'\n",
    "PDF_PATH = '/home/jovyan/__DATA/DLBA_F24/topic_08'\n",
    "pdf_pages = pdf2img(\n",
    "    file_path=f'{PDF_PATH}/AI_for_mapping_SDGs.pdf',\n",
    "    img_dir=IMG_PATH,\n",
    "    first_page=1,\n",
    "    last_page=3\n",
    ")"
   ]
  },
  {
   "cell_type": "code",
   "execution_count": null,
   "id": "05a82cec-37f5-4d2c-b421-bfc535900f22",
   "metadata": {
    "tags": []
   },
   "outputs": [],
   "source": [
    "text = ocr_text(img_dir=IMG_PATH)"
   ]
  },
  {
   "cell_type": "code",
   "execution_count": null,
   "id": "4c92ffe5-967a-4af7-ae3e-2f496b1d19bc",
   "metadata": {
    "tags": []
   },
   "outputs": [],
   "source": [
    "print(text)"
   ]
  },
  {
   "cell_type": "markdown",
   "id": "ab16b681-6520-4cae-b383-d71fa408e440",
   "metadata": {},
   "source": [
    "#### 2.2. Second test"
   ]
  },
  {
   "cell_type": "code",
   "execution_count": null,
   "id": "43545aff-d083-4df4-a84f-f722793bf194",
   "metadata": {
    "tags": []
   },
   "outputs": [],
   "source": [
    "IMG_PATH = 'bdimg'\n",
    "PDF_PATH = '/home/jovyan/__DATA/DLBA_F24/topic_08'\n",
    "pdf_pages = pdf2img(\n",
    "    file_path=f'{PDF_PATH}/Sherlock_Holmes_The_Blue_Diamond.pdf',\n",
    "    img_dir=IMG_PATH,\n",
    "    first_page=1,\n",
    "    last_page=3\n",
    ")"
   ]
  },
  {
   "cell_type": "code",
   "execution_count": null,
   "id": "b389fb91-c3dd-465f-902f-35da99232061",
   "metadata": {
    "tags": []
   },
   "outputs": [],
   "source": [
    "text = ocr_text(img_dir=IMG_PATH)"
   ]
  },
  {
   "cell_type": "code",
   "execution_count": null,
   "id": "5be5baa9-38e5-40b2-8c33-8fb7034354ed",
   "metadata": {
    "tags": []
   },
   "outputs": [],
   "source": [
    "print(text)"
   ]
  },
  {
   "cell_type": "code",
   "execution_count": null,
   "id": "280b5f39-98e4-41fe-b336-7f5ff0a8be30",
   "metadata": {},
   "outputs": [],
   "source": []
  }
 ],
 "metadata": {
  "kernelspec": {
   "display_name": "Python 3 (ipykernel)",
   "language": "python",
   "name": "python3"
  },
  "language_info": {
   "codemirror_mode": {
    "name": "ipython",
    "version": 3
   },
   "file_extension": ".py",
   "mimetype": "text/x-python",
   "name": "python",
   "nbconvert_exporter": "python",
   "pygments_lexer": "ipython3",
   "version": "3.10.8"
  },
  "widgets": {
   "application/vnd.jupyter.widget-state+json": {
    "state": {},
    "version_major": 2,
    "version_minor": 0
   }
  }
 },
 "nbformat": 4,
 "nbformat_minor": 5
}
