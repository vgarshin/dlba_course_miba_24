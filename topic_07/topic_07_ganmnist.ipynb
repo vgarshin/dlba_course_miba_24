{
 "cells": [
  {
   "cell_type": "markdown",
   "id": "40482efc-3e1d-4c09-9db9-d7bd241319fe",
   "metadata": {
    "tags": []
   },
   "source": [
    "# Deep Learning for Business Applications course"
   ]
  },
  {
   "cell_type": "markdown",
   "id": "d6700589-4c1e-4c61-893e-b1c66cae56ee",
   "metadata": {
    "tags": []
   },
   "source": [
    "## TOPIC 7: Intro to Generative Adversarial Networks"
   ]
  },
  {
   "cell_type": "markdown",
   "id": "d93094e8-f8b5-4815-a0fd-7c4934c98d6b",
   "metadata": {},
   "source": [
    "### 1. Libraries and parameters"
   ]
  },
  {
   "cell_type": "code",
   "execution_count": null,
   "id": "a2915e4a-bbfa-468f-aef0-8e49399ef896",
   "metadata": {
    "tags": []
   },
   "outputs": [],
   "source": [
    "import torch\n",
    "import torch.nn as nn\n",
    "import torch.optim as optim\n",
    "import torchvision\n",
    "import torchvision.transforms as transforms\n",
    "import matplotlib.pyplot as plt\n",
    "\n",
    "# check if GPU available\n",
    "# (works in GPU environment only)\n",
    "DEVICE = torch.device('cuda' if torch.cuda.is_available() else 'cpu')\n",
    "print('device available:', DEVICE)"
   ]
  },
  {
   "cell_type": "code",
   "execution_count": null,
   "id": "7ce34c23-01a5-4566-80bf-624cc2b761cb",
   "metadata": {
    "tags": []
   },
   "outputs": [],
   "source": [
    "# noise dimension and channel size\n",
    "NOISE_DIM = 100\n",
    "CHANNELS = 128  # you may use 128, 256 or 512\n",
    "\n",
    "# Training hyperparameters\n",
    "NUM_EPOCHS = 20\n",
    "BATCH_SIZE = 256\n",
    "LR = .0002\n",
    "\n",
    "# other\n",
    "GEN_DATA = 'gens'\n",
    "!mkdir -p $GEN_DATA"
   ]
  },
  {
   "cell_type": "markdown",
   "id": "312c886e-21aa-4fc7-8a7e-88b64cc36f48",
   "metadata": {},
   "source": [
    "### 2. Generator and discriminator"
   ]
  },
  {
   "cell_type": "code",
   "execution_count": null,
   "id": "80e9051e-eed7-4e27-b6a0-45847542c8dc",
   "metadata": {
    "tags": []
   },
   "outputs": [],
   "source": [
    "class Generator(nn.Module):\n",
    "    def __init__(self, noise_dim, channels):\n",
    "        super(Generator, self).__init__()\n",
    "        self.noise_dim = noise_dim\n",
    "        self.main = nn.Sequential(\n",
    "            nn.Linear(noise_dim, 7 * 7 * channels),\n",
    "            nn.ReLU(True),\n",
    "            nn.Unflatten(1, (channels, 7, 7)),\n",
    "            nn.ConvTranspose2d(\n",
    "                channels, int(channels / 2), \n",
    "                5, stride=1, padding=2\n",
    "            ),\n",
    "            nn.BatchNorm2d(int(channels / 2)),\n",
    "            nn.ReLU(True),\n",
    "            nn.ConvTranspose2d(\n",
    "                int(channels / 2), int(channels / 4), \n",
    "                5, stride=2, padding=2, output_padding=1\n",
    "            ),\n",
    "            nn.BatchNorm2d(int(channels / 4)),\n",
    "            nn.ReLU(True),\n",
    "            nn.ConvTranspose2d(\n",
    "                int(channels / 4), 1, \n",
    "                5, stride=2, padding=2, output_padding=1\n",
    "            ),\n",
    "            nn.Tanh()\n",
    "        )\n",
    "\n",
    "    def forward(self, x):\n",
    "        return self.main(x)"
   ]
  },
  {
   "cell_type": "code",
   "execution_count": null,
   "id": "b86f0961-7817-4b81-a4c7-a00cc4a729ac",
   "metadata": {
    "tags": []
   },
   "outputs": [],
   "source": [
    "class Discriminator(nn.Module):\n",
    "    def __init__(self, channels):\n",
    "        super(Discriminator, self).__init__()\n",
    "        self.main = nn.Sequential(\n",
    "            nn.Conv2d(1, int(channels / 4), 5, stride=2, padding=2),\n",
    "            nn.LeakyReLU(0.2, inplace=True),\n",
    "            nn.BatchNorm2d(int(channels / 4)),\n",
    "            nn.Conv2d(\n",
    "                int(channels / 4), int(channels / 2), \n",
    "                5, stride=2, padding=2\n",
    "            ),\n",
    "            nn.LeakyReLU(0.2, inplace=True),\n",
    "            nn.BatchNorm2d(int(channels / 2)),\n",
    "            nn.Flatten(),\n",
    "            nn.Linear(7 * 7 * int(channels / 2), 1)\n",
    "        )\n",
    "\n",
    "    def forward(self, x):\n",
    "        return self.main(x)"
   ]
  },
  {
   "cell_type": "markdown",
   "id": "5f0a9ba8-178f-4be5-a2cf-d429da32ea48",
   "metadata": {
    "tags": []
   },
   "source": [
    "### 3. Data"
   ]
  },
  {
   "cell_type": "code",
   "execution_count": null,
   "id": "62aacfef-8b98-491d-a1e8-e112d2d68598",
   "metadata": {
    "tags": []
   },
   "outputs": [],
   "source": [
    "# dataset and dataloader\n",
    "transform = transforms.Compose([\n",
    "    transforms.ToTensor(),\n",
    "    transforms.Normalize((0.5,), (0.5,))\n",
    "])\n",
    "train_dataset = torchvision.datasets.MNIST(\n",
    "    root='./data',\n",
    "    train=True,\n",
    "    transform=transform,\n",
    "    download=True\n",
    ")\n",
    "train_loader = torch.utils.data.DataLoader(\n",
    "    train_dataset,\n",
    "    batch_size=BATCH_SIZE,\n",
    "    shuffle=True\n",
    ")\n",
    "\n",
    "# plot one sample\n",
    "img, label = train_dataset[0]\n",
    "plt.figure(figsize=(3, 3))\n",
    "plt.imshow(img[0], cmap='gray')\n",
    "plt.title('label of image: {}'.format(label))"
   ]
  },
  {
   "cell_type": "markdown",
   "id": "73ce3d13-277a-45a2-b491-ab40617ba631",
   "metadata": {},
   "source": [
    "### 4. Training"
   ]
  },
  {
   "cell_type": "markdown",
   "id": "89e57a62-1371-4931-9568-2d269853587d",
   "metadata": {},
   "source": [
    "#### 4.1. Objects and utilities"
   ]
  },
  {
   "cell_type": "code",
   "execution_count": null,
   "id": "1ba9e064-cf45-46a0-8f1f-20c9920a899a",
   "metadata": {
    "tags": []
   },
   "outputs": [],
   "source": [
    "# generator and discriminator\n",
    "generator = Generator(noise_dim=NOISE_DIM, channels=CHANNELS)\n",
    "generator = generator.to(DEVICE)\n",
    "discriminator = Discriminator(channels=CHANNELS)\n",
    "discriminator = discriminator.to(DEVICE)"
   ]
  },
  {
   "cell_type": "code",
   "execution_count": null,
   "id": "c8cba5d1-9013-4b80-8057-0d44dde8a788",
   "metadata": {
    "tags": []
   },
   "outputs": [],
   "source": [
    "# loss function\n",
    "criterion = nn.BCEWithLogitsLoss()\n",
    "\n",
    "# optimizers for both generator and discriminator\n",
    "generator_optimizer = optim.Adam(\n",
    "    generator.parameters(),\n",
    "    lr=LR,\n",
    "    betas=(.5, .999)\n",
    ")\n",
    "discriminator_optimizer = optim.Adam(\n",
    "    discriminator.parameters(),\n",
    "    lr=LR,\n",
    "    betas=(.5, .999)\n",
    ")"
   ]
  },
  {
   "cell_type": "code",
   "execution_count": null,
   "id": "db2a7753-fa8c-45ca-9e92-f06e90872aad",
   "metadata": {
    "tags": []
   },
   "outputs": [],
   "source": [
    "def generate_and_save_images(model, epoch, noise, path):\n",
    "    \"\"\"\n",
    "    Generates images with som input noise\n",
    "    then plots and saves generated images.\n",
    "    \n",
    "    \"\"\"\n",
    "    model.eval()\n",
    "    with torch.no_grad():\n",
    "        fake_images = model(noise).cpu()\n",
    "        fake_images = fake_images.view(fake_images.size(0), 28, 28)\n",
    "        fig = plt.figure(figsize=(4, 4))\n",
    "        for i in range(fake_images.size(0)):\n",
    "            plt.subplot(4, 4, i+1)\n",
    "            plt.imshow(fake_images[i], cmap='gray')\n",
    "            plt.axis('off')\n",
    "        plt.savefig(f'{path}/img_at_epoch_{epoch+1:03d}.png')\n",
    "        plt.show()"
   ]
  },
  {
   "cell_type": "markdown",
   "id": "dba3b01e-b50c-442f-88a6-9827d6237d63",
   "metadata": {},
   "source": [
    "#### 4.2. Training loop"
   ]
  },
  {
   "cell_type": "code",
   "execution_count": null,
   "id": "a855e8df-77ae-4a6a-9837-bcee774c4c37",
   "metadata": {
    "tags": []
   },
   "outputs": [],
   "source": [
    "for epoch in range(NUM_EPOCHS):\n",
    "    for i, data in enumerate(train_loader):\n",
    "        real_images, _ = data\n",
    "        real_images = real_images.to(DEVICE)\n",
    "\n",
    "        # train discriminator with real images\n",
    "        discriminator_optimizer.zero_grad()\n",
    "        real_labels = torch.ones(real_images.size(0), 1, device=DEVICE)\n",
    "        real_outputs = discriminator(real_images)\n",
    "        real_loss = criterion(real_outputs, real_labels)\n",
    "        real_loss.backward()\n",
    "\n",
    "        # train discriminator with fake images\n",
    "        generator.train()\n",
    "        noise = torch.randn(real_images.size(0), NOISE_DIM, device=DEVICE)\n",
    "        fake_images = generator(noise)\n",
    "        fake_labels = torch.zeros(real_images.size(0), 1, device=DEVICE)\n",
    "        fake_outputs = discriminator(fake_images.detach())\n",
    "        fake_loss = criterion(fake_outputs, fake_labels)\n",
    "        fake_loss.backward()\n",
    "        discriminator_optimizer.step()\n",
    "\n",
    "        # train generator\n",
    "        generator_optimizer.zero_grad()\n",
    "        fake_labels = torch.ones(real_images.size(0), 1, device=DEVICE)\n",
    "        fake_outputs = discriminator(fake_images)\n",
    "        gen_loss = criterion(fake_outputs, fake_labels)\n",
    "        gen_loss.backward()\n",
    "        generator_optimizer.step()\n",
    "\n",
    "        # display progress by batches\n",
    "        if i % 10 == 0:\n",
    "            print(\n",
    "                f'epoch [{epoch + 1}/{NUM_EPOCHS}], step [{i + 1}/{len(train_loader)}] | '\n",
    "                f'discriminator loss: {real_loss.item() + fake_loss.item():.4f} | '\n",
    "                f'generator loss: {gen_loss.item():.4f}     ',\n",
    "                end='\\r'\n",
    "            )\n",
    "\n",
    "    # display epoch result\n",
    "    print(\n",
    "        f'epoch [{epoch + 1}/{NUM_EPOCHS}] done | '\n",
    "        f'discriminator loss: {real_loss.item() + fake_loss.item():.4f} | '\n",
    "        f'generator loss: {gen_loss.item():.4f}               '\n",
    "    )\n",
    "    \n",
    "    # plot generated result\n",
    "    if (epoch + 1) % 5 == 0:\n",
    "        test_noise = torch.randn(16, NOISE_DIM, device=DEVICE)\n",
    "        generate_and_save_images(generator, epoch, test_noise, path=GEN_DATA)"
   ]
  },
  {
   "cell_type": "markdown",
   "id": "290ed8c0-215e-4222-9248-27b691c86a1c",
   "metadata": {},
   "source": [
    "### <font color='red'>HOME ASSIGNMENT  (Option #2)</font>"
   ]
  },
  {
   "cell_type": "markdown",
   "id": "788b7c0e-4b5c-4e77-bb93-6c78c213adb6",
   "metadata": {},
   "source": [
    "You have to make few experiments with our toy GAN:\n",
    "1. Run training process with different number of epochs. Find the epoch when generated images will become more close to real numbers (let's call it 'border' epoch).\n",
    "2. Try to change `CHANNELS` parameter. How 'border' epoch has changed? What about training rime? Why is it happening?\n",
    "3. __ADVANCED (not neseccary):__ plot graphs for generator and discrimator losses by the epochs. HINT: you may re-use code from `topic_03_finetuning` notebook."
   ]
  },
  {
   "cell_type": "code",
   "execution_count": null,
   "id": "2928b367-09b2-4f02-b82e-a5df6ef0c12d",
   "metadata": {},
   "outputs": [],
   "source": []
  }
 ],
 "metadata": {
  "kernelspec": {
   "display_name": "Python 3 (ipykernel)",
   "language": "python",
   "name": "python3"
  },
  "language_info": {
   "codemirror_mode": {
    "name": "ipython",
    "version": 3
   },
   "file_extension": ".py",
   "mimetype": "text/x-python",
   "name": "python",
   "nbconvert_exporter": "python",
   "pygments_lexer": "ipython3",
   "version": "3.10.8"
  },
  "widgets": {
   "application/vnd.jupyter.widget-state+json": {
    "state": {},
    "version_major": 2,
    "version_minor": 0
   }
  }
 },
 "nbformat": 4,
 "nbformat_minor": 5
}
