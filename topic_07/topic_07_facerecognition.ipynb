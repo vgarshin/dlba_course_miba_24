{
 "cells": [
  {
   "cell_type": "markdown",
   "id": "b29d4caf-dba9-4b5c-a287-2d3298468a7e",
   "metadata": {
    "tags": []
   },
   "source": [
    "# Deep Learning for Business Applications course"
   ]
  },
  {
   "cell_type": "markdown",
   "id": "a45c7d69-e6c7-4777-8ad3-a077cac990be",
   "metadata": {
    "tags": []
   },
   "source": [
    "## TOPIC 7: Face Recognition with DeepFace"
   ]
  },
  {
   "cell_type": "markdown",
   "id": "5c3ae5f5-ae3a-4a0d-af72-a5c39fda3cee",
   "metadata": {},
   "source": [
    "### 1. Library installation"
   ]
  },
  {
   "cell_type": "markdown",
   "id": "87c29004-7da5-4df5-a304-692a09cc7c33",
   "metadata": {},
   "source": [
    "[DeepFace](https://github.com/serengil/deepface?tab=readme-ov-filehttps://github.com/serengil/deepface?tab=readme-ov-file) is a lightweight face recognition and facial attribute analysis (age, gender, emotion and race) framework for python."
   ]
  },
  {
   "cell_type": "code",
   "execution_count": null,
   "id": "4d103aab-ffd3-4870-880d-e1b55f269086",
   "metadata": {
    "tags": []
   },
   "outputs": [],
   "source": [
    "!pip install deepface\n",
    "!pip install opencv-python"
   ]
  },
  {
   "cell_type": "code",
   "execution_count": null,
   "id": "a0425367-4dec-4ed3-8b05-cf10e4fac8d0",
   "metadata": {
    "tags": []
   },
   "outputs": [],
   "source": [
    "import os\n",
    "import cv2\n",
    "import requests\n",
    "from PIL import Image\n",
    "import numpy as np\n",
    "from deepface import DeepFace\n",
    "from matplotlib import pyplot as plt"
   ]
  },
  {
   "cell_type": "markdown",
   "id": "f752ae22-d6c6-4898-98c5-b24bf34f900f",
   "metadata": {},
   "source": [
    "### 2. Embeddings"
   ]
  },
  {
   "cell_type": "markdown",
   "id": "5476c580-fec1-468a-a5f1-cdbacd792f53",
   "metadata": {},
   "source": [
    "Let's use a [picture of a teacher](https://gsom.spbu.ru/about-gsom/faculty/garshin/) from GSOM site."
   ]
  },
  {
   "cell_type": "code",
   "execution_count": null,
   "id": "5b2c65f4-b55d-4ce8-b7db-715b2dd99398",
   "metadata": {
    "tags": []
   },
   "outputs": [],
   "source": [
    "img_url = 'https://gsom.spbu.ru/images/1faces/garshin.jpg'\n",
    "img = Image.open(\n",
    "    requests.get(img_url, stream=True).raw\n",
    ").convert('RGB')\n",
    "plt.figure(figsize=(4, 4))\n",
    "plt.imshow(img)\n",
    "plt.show()"
   ]
  },
  {
   "cell_type": "code",
   "execution_count": null,
   "id": "05bbf130-e26e-4ea7-9d2c-2dbe8804a697",
   "metadata": {
    "tags": []
   },
   "outputs": [],
   "source": [
    "!mkdir -p db"
   ]
  },
  {
   "cell_type": "code",
   "execution_count": null,
   "id": "6a141ec9-71a1-4e32-bd5b-70dcc75c9235",
   "metadata": {
    "tags": []
   },
   "outputs": [],
   "source": [
    "img.save('db/vgarshin.jpg')"
   ]
  },
  {
   "cell_type": "code",
   "execution_count": null,
   "id": "777ffcb8-f775-4eac-94d8-48faaa7acadf",
   "metadata": {
    "tags": []
   },
   "outputs": [],
   "source": [
    "def dfproc(img_path, fsize=(6, 6), model_name='VGG-Face'):\n",
    "    # load image\n",
    "    img = cv2.imread(img_path)\n",
    "    img = cv2.cvtColor(img, cv2.COLOR_BGR2RGB)\n",
    "    print('image loaded:', img_path)\n",
    "\n",
    "    # plot an image loaded\n",
    "    if fsize:\n",
    "        plt.figure(figsize=fsize)\n",
    "        plt.imshow(img)\n",
    "        plt.show()\n",
    "\n",
    "    # process with DeepFace\n",
    "    embedding_objs = DeepFace.represent(\n",
    "        img_path,\n",
    "        model_name=model_name\n",
    "    )\n",
    "\n",
    "    # draw resuls\n",
    "    for i, emb in enumerate(embedding_objs):\n",
    "        # To draw a rectangle in a face\n",
    "        face = emb['facial_area']\n",
    "        x, y, w, h = face['x'], face['y'], face['w'], face['h']\n",
    "        cv2.rectangle(\n",
    "            img,\n",
    "            (x, y),\n",
    "            (x + w, y + h),\n",
    "            (0, 255, 0),\n",
    "            2\n",
    "        )\n",
    "        descr = f'face {i}, conf={emb[\"face_confidence\"]}'\n",
    "        cv2.putText(\n",
    "            img,\n",
    "            descr,\n",
    "            (x, y),\n",
    "            cv2.FONT_HERSHEY_SIMPLEX,\n",
    "            1.25,\n",
    "            (0, 255, 0),\n",
    "            3\n",
    "        )\n",
    "    if fsize:\n",
    "        plt.figure(figsize=fsize)\n",
    "        plt.imshow(img)\n",
    "        plt.show()\n",
    "\n",
    "    return embedding_objs"
   ]
  },
  {
   "cell_type": "code",
   "execution_count": null,
   "id": "eff3da9d-9d85-4fca-882c-ec47b51b88fd",
   "metadata": {
    "tags": []
   },
   "outputs": [],
   "source": [
    "embedding_objs = dfproc(img_path='db/vgarshin.jpg')"
   ]
  },
  {
   "cell_type": "code",
   "execution_count": null,
   "id": "98a25eee-9a20-4527-9314-b0cc13ad29cd",
   "metadata": {
    "tags": []
   },
   "outputs": [],
   "source": [
    "embedding_objs = dfproc(img_path='imgs/faces1.jpg', fsize=(8, 8))"
   ]
  },
  {
   "cell_type": "code",
   "execution_count": null,
   "id": "750fe76c-c1b7-4ea5-aab6-87b6db44beb6",
   "metadata": {
    "tags": []
   },
   "outputs": [],
   "source": [
    "len(embedding_objs)"
   ]
  },
  {
   "cell_type": "code",
   "execution_count": null,
   "id": "8f058bdd-4920-4513-a2e4-0fd85b851de5",
   "metadata": {
    "tags": []
   },
   "outputs": [],
   "source": [
    "embedding_objs[0].keys()"
   ]
  },
  {
   "cell_type": "code",
   "execution_count": null,
   "id": "87564aee-f85c-4d0d-a6f6-3d06d75731de",
   "metadata": {},
   "outputs": [],
   "source": [
    "embedding_objs[0]['facial_area']"
   ]
  },
  {
   "cell_type": "code",
   "execution_count": null,
   "id": "3aa8ca2f-a82f-436b-a656-3b5316310a3e",
   "metadata": {
    "tags": []
   },
   "outputs": [],
   "source": [
    "embedding_objs[0]['face_confidence']"
   ]
  },
  {
   "cell_type": "code",
   "execution_count": null,
   "id": "d4842545-4f65-4a2e-afaa-e0f5ed01fdf9",
   "metadata": {
    "tags": []
   },
   "outputs": [],
   "source": [
    "len(embedding_objs[0]['embedding'])"
   ]
  },
  {
   "cell_type": "markdown",
   "id": "fe7695e9-4b09-4bc8-a894-49f1c322e915",
   "metadata": {},
   "source": [
    "### 3. Advanced analysis"
   ]
  },
  {
   "cell_type": "code",
   "execution_count": null,
   "id": "4f2fedd0-e7ff-4186-99c1-d615843c22e9",
   "metadata": {
    "tags": []
   },
   "outputs": [],
   "source": [
    "def dfanalyze(img_path, fsize=(6, 6)):\n",
    "    # load image\n",
    "    img = cv2.imread(img_path)\n",
    "    img = cv2.cvtColor(img, cv2.COLOR_BGR2RGB)\n",
    "    print('image loaded:', img_path)\n",
    "\n",
    "    # plot an image loaded\n",
    "    if fsize:\n",
    "        plt.figure(figsize=fsize)\n",
    "        plt.imshow(img)\n",
    "        plt.show()\n",
    "\n",
    "    # process with DeepFace\n",
    "    results = DeepFace.analyze(img_path)\n",
    "\n",
    "    # draw resuls\n",
    "    for i, res in enumerate(results):\n",
    "        # To draw a rectangle in a face\n",
    "        face = res['region']\n",
    "        x, y, w, h = face['x'], face['y'], face['w'], face['h']\n",
    "        cv2.rectangle(\n",
    "            img,\n",
    "            (x, y),\n",
    "            (x + w, y + h),\n",
    "            (0, 255, 0),\n",
    "            2\n",
    "        )\n",
    "        emo = max(res['gender'], key=res['gender'].get)\n",
    "        descr = ', '.join([\n",
    "            emo,\n",
    "            res['dominant_emotion'],\n",
    "            'age ' + str(res['age'])\n",
    "        ])\n",
    "        cv2.putText(\n",
    "            img,\n",
    "            descr,\n",
    "            (x, y),\n",
    "            cv2.FONT_HERSHEY_SIMPLEX,\n",
    "            1.25,\n",
    "            (0, 255, 0),\n",
    "            3\n",
    "        )\n",
    "    if fsize:\n",
    "        plt.figure(figsize=fsize)\n",
    "        plt.imshow(img)\n",
    "        plt.show()\n",
    "\n",
    "    return results"
   ]
  },
  {
   "cell_type": "code",
   "execution_count": null,
   "id": "f65ad89c-3a59-4afc-84d8-9aecd9af200a",
   "metadata": {
    "tags": []
   },
   "outputs": [],
   "source": [
    "results = dfanalyze(img_path='db/vgarshin.jpg')"
   ]
  },
  {
   "cell_type": "code",
   "execution_count": null,
   "id": "f433b997-6079-487f-932c-cc26b6631cac",
   "metadata": {
    "tags": []
   },
   "outputs": [],
   "source": [
    "results = dfanalyze(img_path='imgs/faces1.jpg', fsize=(8, 8))"
   ]
  },
  {
   "cell_type": "code",
   "execution_count": null,
   "id": "7990a9dd-ea40-4f9e-8f7a-7b6d76b48721",
   "metadata": {
    "tags": []
   },
   "outputs": [],
   "source": [
    "results[0]"
   ]
  },
  {
   "cell_type": "markdown",
   "id": "c14e753a-f17b-4f10-b5a3-e58826ba8892",
   "metadata": {},
   "source": [
    "### 4. Face recognition"
   ]
  },
  {
   "cell_type": "markdown",
   "id": "cc35fb0e-4ce4-4ceb-b10a-2b325870fe68",
   "metadata": {},
   "source": [
    "#### 4.1. Manual matching"
   ]
  },
  {
   "cell_type": "code",
   "execution_count": null,
   "id": "19e3c886-d8c1-44a6-809b-d5186fb6c898",
   "metadata": {
    "tags": []
   },
   "outputs": [],
   "source": [
    "MODELS = [\n",
    "    'VGG-Face',\n",
    "    'Facenet',\n",
    "    'Facenet512',\n",
    "    'OpenFace',\n",
    "    'DeepFace',\n",
    "    'DeepID',\n",
    "    'ArcFace',\n",
    "    'Dlib',\n",
    "    'SFace',\n",
    "    'GhostFaceNet'\n",
    "]"
   ]
  },
  {
   "cell_type": "code",
   "execution_count": null,
   "id": "f920fdf1-4cb9-4c65-9f1b-926d9d620d18",
   "metadata": {
    "tags": []
   },
   "outputs": [],
   "source": [
    "def cosine_sim(x, y):\n",
    "    return np.dot(x, y) / (np.linalg.norm(x) * np.linalg.norm(y))"
   ]
  },
  {
   "cell_type": "code",
   "execution_count": null,
   "id": "4a8de8aa-ed54-482d-a7cd-bde094069180",
   "metadata": {
    "tags": []
   },
   "outputs": [],
   "source": [
    "emb_vgarshin = dfproc(\n",
    "    img_path='db/vgarshin.jpg',\n",
    "    fsize=None,\n",
    "    model_name=MODELS[2]\n",
    ")\n",
    "emb_friends = dfproc(\n",
    "    img_path='imgs/faces1.jpg',\n",
    "    fsize=None,\n",
    "    model_name=MODELS[2]\n",
    ")"
   ]
  },
  {
   "cell_type": "code",
   "execution_count": null,
   "id": "1ee4a18f-70b1-4f88-b7c2-6d488d272bf6",
   "metadata": {
    "tags": []
   },
   "outputs": [],
   "source": [
    "for i, emb in enumerate(emb_friends):\n",
    "    cos_sim = cosine_sim(\n",
    "        emb_vgarshin[0]['embedding'],\n",
    "        emb['embedding']\n",
    "    )\n",
    "    print(f'vgarshin and face {i} =', cos_sim)"
   ]
  },
  {
   "cell_type": "markdown",
   "id": "0e677675-8486-4d7f-b91a-fe0b3c7401fe",
   "metadata": {},
   "source": [
    "#### 4.2. Built-in tools"
   ]
  },
  {
   "cell_type": "code",
   "execution_count": null,
   "id": "b3d0078e-b789-4ba9-a8a8-8bdd81d6181e",
   "metadata": {
    "tags": []
   },
   "outputs": [],
   "source": [
    "img_url = 'https://gsom.spbu.ru/images/1faces/gorovoi.jpg'\n",
    "img = Image.open(\n",
    "    requests.get(img_url, stream=True).raw\n",
    ").convert('RGB')\n",
    "img.save('db/vgorovoi.jpg')\n",
    "plt.figure(figsize=(4, 4))\n",
    "plt.imshow(img)\n",
    "plt.show()"
   ]
  },
  {
   "cell_type": "code",
   "execution_count": null,
   "id": "5609f5ff-188b-48d0-98e0-f9a14e2fb2ef",
   "metadata": {
    "tags": []
   },
   "outputs": [],
   "source": [
    "img_url = 'https://gsom.spbu.ru/images/1faces/bova.jpg'\n",
    "img = Image.open(\n",
    "    requests.get(img_url, stream=True).raw\n",
    ").convert('RGB')\n",
    "img.save('db/sbova.jpg')\n",
    "plt.figure(figsize=(4, 4))\n",
    "plt.imshow(img)\n",
    "plt.show()"
   ]
  },
  {
   "cell_type": "code",
   "execution_count": null,
   "id": "231054aa-a3f6-4cfc-a1ae-f6e043114657",
   "metadata": {
    "tags": []
   },
   "outputs": [],
   "source": [
    "# face verification\n",
    "\n",
    "result = DeepFace.verify(\n",
    "  img1_path=\"db/sbova.jpg\",\n",
    "  img2_path=\"db/vgarshin.jpg\",\n",
    "  model_name=MODELS[0]\n",
    ")\n",
    "print(result)"
   ]
  },
  {
   "cell_type": "code",
   "execution_count": null,
   "id": "7c179564-0d2c-4fcb-bed1-cd55298184cb",
   "metadata": {
    "tags": []
   },
   "outputs": [],
   "source": [
    "img_path = 'imgs/faces1.jpg'\n",
    "img = cv2.imread(img_path)\n",
    "img = cv2.cvtColor(img, cv2.COLOR_BGR2RGB)\n",
    "plt.figure(figsize=(6, 6))\n",
    "plt.imshow(img)\n",
    "plt.show()"
   ]
  },
  {
   "cell_type": "code",
   "execution_count": null,
   "id": "08a3d7a5-d8df-4806-972b-5b427a36dce6",
   "metadata": {
    "tags": []
   },
   "outputs": [],
   "source": [
    "# take face 1 from friends image\n",
    "\n",
    "emb_friends[1]['facial_area']"
   ]
  },
  {
   "cell_type": "code",
   "execution_count": null,
   "id": "c3d41738-069e-4cf8-8d49-bc1f8d115f72",
   "metadata": {
    "tags": []
   },
   "outputs": [],
   "source": [
    "face = emb_friends[1]['facial_area']\n",
    "x, y, w, h = face['x'], face['y'], face['w'], face['h']\n",
    "img_vgarshin = img[y:y + h, x:x + w, :]\n",
    "plt.figure(figsize=(2, 2))\n",
    "plt.imshow(img_vgarshin)\n",
    "plt.show()"
   ]
  },
  {
   "cell_type": "code",
   "execution_count": null,
   "id": "727d370f-d1e4-4f58-9be9-a2f8195416cf",
   "metadata": {
    "tags": []
   },
   "outputs": [],
   "source": [
    "# face verification\n",
    "\n",
    "result = DeepFace.verify(\n",
    "  img1_path=img_vgarshin,\n",
    "  img2_path='db/vgarshin.jpg',\n",
    "  model_name=MODELS[0]\n",
    ")\n",
    "print(result)"
   ]
  },
  {
   "cell_type": "code",
   "execution_count": null,
   "id": "b72ba684-75bf-49b4-890d-e94b455ebe0d",
   "metadata": {
    "tags": []
   },
   "outputs": [],
   "source": [
    "# face recognition\n",
    "\n",
    "results = DeepFace.find(\n",
    "  img_path=img_vgarshin,  # face to find\n",
    "  db_path='db',  # path to directory with faces\n",
    "  model_name=MODELS[0]\n",
    ")"
   ]
  },
  {
   "cell_type": "code",
   "execution_count": null,
   "id": "2002dc09-1024-4060-932d-452d7093541f",
   "metadata": {
    "tags": []
   },
   "outputs": [],
   "source": [
    "type(results)"
   ]
  },
  {
   "cell_type": "code",
   "execution_count": null,
   "id": "d0ce377a-ec65-4f0e-ad0a-470532a2f462",
   "metadata": {
    "tags": []
   },
   "outputs": [],
   "source": [
    "len(results)"
   ]
  },
  {
   "cell_type": "code",
   "execution_count": null,
   "id": "3fb298d8-889e-47af-9d68-b88b4a5300db",
   "metadata": {
    "tags": []
   },
   "outputs": [],
   "source": [
    "results[0]"
   ]
  },
  {
   "cell_type": "code",
   "execution_count": null,
   "id": "d3af7bf6-6e40-4232-a8d4-45805a47f8cc",
   "metadata": {
    "tags": []
   },
   "outputs": [],
   "source": [
    "!ls -la db/"
   ]
  },
  {
   "cell_type": "code",
   "execution_count": null,
   "id": "59162d24-c7a9-46bd-8a0f-b92da84b5ec4",
   "metadata": {
    "tags": []
   },
   "outputs": [],
   "source": [
    "!rm -rf db/.ipynb_checkpoints"
   ]
  },
  {
   "cell_type": "markdown",
   "id": "e4382c5a-da17-4163-808f-10932bac2814",
   "metadata": {},
   "source": [
    "### 5. Clean up"
   ]
  },
  {
   "cell_type": "code",
   "execution_count": null,
   "id": "bd66b6b1-90c5-4877-abb0-160ff35d6d61",
   "metadata": {
    "tags": []
   },
   "outputs": [],
   "source": [
    "!ls -la ~/.deepface"
   ]
  },
  {
   "cell_type": "code",
   "execution_count": null,
   "id": "46e27f87-becb-401c-a287-14beed42a3f0",
   "metadata": {
    "tags": []
   },
   "outputs": [],
   "source": [
    "!rm -rf ~/.deepface/weights"
   ]
  },
  {
   "cell_type": "markdown",
   "id": "48c1a2c9-fd6f-41c0-849f-76aa10a7d098",
   "metadata": {
    "tags": []
   },
   "source": [
    "### <font color='red'>HOME ASSIGNMENT (Option #1)</font>"
   ]
  },
  {
   "cell_type": "markdown",
   "id": "e21f06e8-a845-4a3e-8ce4-79da448f2a66",
   "metadata": {
    "tags": []
   },
   "source": [
    "Your goal is to make your own database of faces and test `DeepFace.verify()` and `DeepFace.find()` methods. You may use your own photos or photos of the celebrities (in a case you do not want use your face for home assignment).\n",
    "\n",
    "Please collect at least 5 images for database."
   ]
  },
  {
   "cell_type": "code",
   "execution_count": null,
   "id": "e8a3144f-fc83-420c-995e-8ff6c86f3b7e",
   "metadata": {},
   "outputs": [],
   "source": []
  }
 ],
 "metadata": {
  "kernelspec": {
   "display_name": "Python 3 (ipykernel)",
   "language": "python",
   "name": "python3"
  },
  "language_info": {
   "codemirror_mode": {
    "name": "ipython",
    "version": 3
   },
   "file_extension": ".py",
   "mimetype": "text/x-python",
   "name": "python",
   "nbconvert_exporter": "python",
   "pygments_lexer": "ipython3",
   "version": "3.10.8"
  },
  "widgets": {
   "application/vnd.jupyter.widget-state+json": {
    "state": {},
    "version_major": 2,
    "version_minor": 0
   }
  }
 },
 "nbformat": 4,
 "nbformat_minor": 5
}
