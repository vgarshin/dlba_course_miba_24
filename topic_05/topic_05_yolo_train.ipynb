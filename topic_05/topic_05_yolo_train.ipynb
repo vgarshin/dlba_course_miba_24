{
 "cells": [
  {
   "cell_type": "markdown",
   "id": "a87e2aa3-3f09-4ad1-984c-97c73f209a07",
   "metadata": {},
   "source": [
    "# Deep Learning for Business Applications course"
   ]
  },
  {
   "cell_type": "markdown",
   "id": "c99d03a9-cbd7-461c-9ca1-11c18fe9402b",
   "metadata": {
    "tags": []
   },
   "source": [
    "## TOPIC 5: Object detection problem. YOLO training"
   ]
  },
  {
   "cell_type": "markdown",
   "id": "912d75b3-2b1e-4fcc-b114-ed36248ac27b",
   "metadata": {},
   "source": [
    "### 1. Libraries"
   ]
  },
  {
   "cell_type": "code",
   "execution_count": null,
   "id": "e37b609e-7fdd-442a-9df2-8cf1d1ab6b81",
   "metadata": {
    "tags": []
   },
   "outputs": [],
   "source": [
    "!pip install ultralytics"
   ]
  },
  {
   "cell_type": "code",
   "execution_count": null,
   "id": "09b1904a-0b91-44f3-8e58-22f87b7affbb",
   "metadata": {
    "tags": []
   },
   "outputs": [],
   "source": [
    "from PIL import Image\n",
    "import matplotlib.pyplot as plt\n",
    "from ultralytics import YOLO"
   ]
  },
  {
   "cell_type": "markdown",
   "id": "b6a3685e-88da-41f1-a7d3-c4a7451f7014",
   "metadata": {},
   "source": [
    "### 2. YOLO model"
   ]
  },
  {
   "cell_type": "code",
   "execution_count": null,
   "id": "b0f39685-52f6-4c5b-b4bd-87042cc35da1",
   "metadata": {
    "tags": []
   },
   "outputs": [],
   "source": [
    "# load a pretrained model\n",
    "# (recommended for training)\n",
    "MODEL_NAME = 'yolov8n.pt'\n",
    "model = YOLO(MODEL_NAME)"
   ]
  },
  {
   "cell_type": "code",
   "execution_count": null,
   "id": "1319b0f1-6de7-4efc-bcf1-8545d174bccb",
   "metadata": {
    "tags": []
   },
   "outputs": [],
   "source": [
    "!ls -la $MODEL_NAME"
   ]
  },
  {
   "cell_type": "code",
   "execution_count": null,
   "id": "95daf38e-2419-4a1d-b852-8c00cbd055c0",
   "metadata": {
    "tags": []
   },
   "outputs": [],
   "source": [
    "# run inference on an image or list of images\n",
    "# inference by batch or a single image\n",
    "results = model('test.jpg')"
   ]
  },
  {
   "cell_type": "code",
   "execution_count": null,
   "id": "57f90022-70f9-4792-ba77-f3a880ed3c43",
   "metadata": {
    "tags": []
   },
   "outputs": [],
   "source": [
    "for result in results:\n",
    "    boxes = result.boxes  # boxes object for bounding box outputs\n",
    "    masks = result.masks  # masks object for segmentation masks outputs\n",
    "    keypoints = result.keypoints  # keypoints object for pose outputs\n",
    "    probs = result.probs  # probs object for classification outputs\n",
    "    obb = result.obb  # oriented boxes object for OBB outputs\n",
    "    img_bgr = result.plot()  # BGR-order numpy array\n",
    "    img_rgb = Image.fromarray(img_bgr[..., ::-1])  # RGB-order PIL image\n",
    "    plt.figure(figsize=(16, 8))\n",
    "    plt.imshow(img_rgb)\n",
    "    plt.show()"
   ]
  },
  {
   "cell_type": "markdown",
   "id": "f98de58b-7f25-4716-832e-54963a29f301",
   "metadata": {},
   "source": [
    "### 3. Train new classes"
   ]
  },
  {
   "cell_type": "code",
   "execution_count": null,
   "id": "5fe3059f-c774-4245-a1e0-6bd04d87870c",
   "metadata": {
    "tags": []
   },
   "outputs": [],
   "source": [
    "# train the model\n",
    "results = model.train(\n",
    "    data='burgers.yaml',\n",
    "    epochs=100\n",
    ")"
   ]
  },
  {
   "cell_type": "code",
   "execution_count": null,
   "id": "1cac3025-fe60-4faa-86a0-c5d26fe8c6db",
   "metadata": {
    "tags": []
   },
   "outputs": [],
   "source": [
    "!ls -la runs/detect/"
   ]
  },
  {
   "cell_type": "code",
   "execution_count": null,
   "id": "cb317df2-611a-49f1-83d3-0b3204d12a9f",
   "metadata": {
    "tags": []
   },
   "outputs": [],
   "source": [
    "# every new training results are stored\n",
    "# in a new folder `train`, `train1`, `train2`, etc.\n",
    "\n",
    "TRAIN_PATH = '/train'"
   ]
  },
  {
   "cell_type": "code",
   "execution_count": null,
   "id": "cd0c3e70-1906-405f-b171-1a5e02cbcaf1",
   "metadata": {
    "tags": []
   },
   "outputs": [],
   "source": [
    "!ls -la runs/detect/$TRAIN_PATH"
   ]
  },
  {
   "cell_type": "code",
   "execution_count": null,
   "id": "5e09dcd0-54cd-4020-b9ec-76187ed8afe8",
   "metadata": {
    "tags": []
   },
   "outputs": [],
   "source": [
    "# plot training results\n",
    "\n",
    "results_img = Image.open(f'runs/detect/{TRAIN_PATH}/results.png')\n",
    "plt.figure(figsize=(16, 8))\n",
    "plt.imshow(results_img)\n",
    "plt.show()"
   ]
  },
  {
   "cell_type": "code",
   "execution_count": null,
   "id": "b616a31f-3a10-4787-b988-7d76bd3bf7a4",
   "metadata": {
    "tags": []
   },
   "outputs": [],
   "source": [
    "# plot validation batch images\n",
    "\n",
    "val_img = Image.open(f'runs/detect/{TRAIN_PATH}/val_batch0_pred.jpg')\n",
    "plt.figure(figsize=(16, 16))\n",
    "plt.imshow(val_img)\n",
    "plt.show()"
   ]
  },
  {
   "cell_type": "markdown",
   "id": "e5415f8e-d39c-4552-b7de-8447737a3f4d",
   "metadata": {},
   "source": [
    "### 4. Trained model inference"
   ]
  },
  {
   "cell_type": "code",
   "execution_count": null,
   "id": "4c276e8f-1c76-44e0-a690-1712bfc7adbc",
   "metadata": {
    "tags": []
   },
   "outputs": [],
   "source": [
    "# load previously trained model\n",
    "# use `best` to load best performance model\n",
    "model = YOLO(f'runs/detect/{TRAIN_PATH}/weights/best.pt')"
   ]
  },
  {
   "cell_type": "code",
   "execution_count": null,
   "id": "ec70a852-e9e2-4306-a4f4-0b4122c066ac",
   "metadata": {
    "tags": []
   },
   "outputs": [],
   "source": [
    "# inference for the test image\n",
    "results = model('test.jpg')\n",
    "\n",
    "# plot the results of inference\n",
    "for result in results:\n",
    "    boxes = result.boxes\n",
    "    img_bgr = result.plot()\n",
    "    img_rgb = Image.fromarray(img_bgr[..., ::-1])\n",
    "    plt.imshow(img_rgb)\n",
    "    plt.show()"
   ]
  },
  {
   "cell_type": "markdown",
   "id": "a9997da4-eeab-4cb0-ba27-1e2d35a67d00",
   "metadata": {
    "tags": []
   },
   "source": [
    "### <font color='red'>HOME ASSIGNMENT</font>"
   ]
  },
  {
   "cell_type": "markdown",
   "id": "5c412f09-6d50-4505-b804-ab6c3f41d52e",
   "metadata": {},
   "source": [
    "The main goal for the home assignment is to train YOLO for a new class detection:\n",
    "1. Take the labeled data (train and validation dataset) and organize folders for training process. Use the pipeline from the class.\n",
    "2. Train the YOLO with default parameters and get first result. Then try to play with the number of epochs to train and find the optimal number of epochs.\n",
    "3. Elaborate on the results. Are you satisfied with the accuracy of detection? What improvements could be made?"
   ]
  },
  {
   "cell_type": "code",
   "execution_count": null,
   "id": "f29c6b7c-c3b6-45b5-8d94-4a16526aed56",
   "metadata": {},
   "outputs": [],
   "source": []
  }
 ],
 "metadata": {
  "kernelspec": {
   "display_name": "Python 3 (ipykernel)",
   "language": "python",
   "name": "python3"
  },
  "language_info": {
   "codemirror_mode": {
    "name": "ipython",
    "version": 3
   },
   "file_extension": ".py",
   "mimetype": "text/x-python",
   "name": "python",
   "nbconvert_exporter": "python",
   "pygments_lexer": "ipython3",
   "version": "3.10.8"
  },
  "widgets": {
   "application/vnd.jupyter.widget-state+json": {
    "state": {},
    "version_major": 2,
    "version_minor": 0
   }
  }
 },
 "nbformat": 4,
 "nbformat_minor": 5
}
