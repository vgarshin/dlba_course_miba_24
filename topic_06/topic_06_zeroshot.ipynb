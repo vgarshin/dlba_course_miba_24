{
 "cells": [
  {
   "cell_type": "markdown",
   "id": "c8d35d46-6808-433b-aee8-8eee027eeb6b",
   "metadata": {},
   "source": [
    "# Deep Learning for Business Applications course"
   ]
  },
  {
   "cell_type": "markdown",
   "id": "2757ca75-1aa4-4e25-bddd-a3cfd4cb968b",
   "metadata": {},
   "source": [
    "## TOPIC 6: Hugging Face Hub for Computer Vision. Zero-Shot Image Classification"
   ]
  },
  {
   "cell_type": "markdown",
   "id": "9b09e50c-5c7c-403b-9a1c-c3fc73d20e1d",
   "metadata": {
    "tags": []
   },
   "source": [
    "### 1. Libraries"
   ]
  },
  {
   "cell_type": "code",
   "execution_count": null,
   "id": "e0b82477-63a3-413d-94be-a9ee57359133",
   "metadata": {
    "tags": []
   },
   "outputs": [],
   "source": [
    "!pip install transformers"
   ]
  },
  {
   "cell_type": "code",
   "execution_count": null,
   "id": "4cc48903-1da9-4c5f-8076-f68449e3e02a",
   "metadata": {
    "tags": []
   },
   "outputs": [],
   "source": [
    "# you need to downgrade PyTorch for GPU usage\n",
    "# because our CUDA drivers for GPU are old\n",
    "# so uncomment lines below if you are in\n",
    "# the GPU environment\n",
    "\n",
    "#!pip uninstall -y torch torchvision\n",
    "#!pip install torch==2.0.1 torchvision==0.15.2"
   ]
  },
  {
   "cell_type": "code",
   "execution_count": null,
   "id": "2e432b4f-515b-4980-8623-e3e2f581496a",
   "metadata": {
    "tags": []
   },
   "outputs": [],
   "source": [
    "import os\n",
    "import torch\n",
    "import numpy as np\n",
    "from PIL import Image\n",
    "import matplotlib.pyplot as plt\n",
    "from transformers import CLIPProcessor, CLIPModel, utils\n",
    "\n",
    "# check if GPU available\n",
    "# (works in GPU environment only)\n",
    "DEVICE = torch.device('cuda' if torch.cuda.is_available() else 'cpu')\n",
    "print('device available:', DEVICE)\n",
    "\n",
    "# to get rid off warnings\n",
    "os.environ[\"TOKENIZERS_PARALLELISM\"] = 'false'\n",
    "# env variable to set path to download models\n",
    "os.environ['HF_HOME'] = '/home/jovyan/dlba/topic_06/cache/'"
   ]
  },
  {
   "cell_type": "code",
   "execution_count": null,
   "id": "8256378f-7bb0-4a69-973d-df1c59c677ae",
   "metadata": {
    "tags": []
   },
   "outputs": [],
   "source": [
    "!df -h | grep dev"
   ]
  },
  {
   "cell_type": "code",
   "execution_count": null,
   "id": "cadd1e18-9082-412c-aeac-457444aa4af2",
   "metadata": {
    "tags": []
   },
   "outputs": [],
   "source": [
    "!rm -rf ~/.cache/huggingface/hub\n",
    "!rm -rf /home/jovyan/dlba/topic_06/cache/hub"
   ]
  },
  {
   "cell_type": "markdown",
   "id": "c49e4d66-d7be-47d9-b74e-57b318a16bcb",
   "metadata": {
    "tags": []
   },
   "source": [
    "### 2. Model"
   ]
  },
  {
   "cell_type": "markdown",
   "id": "04b59cf1-f840-4c06-918c-3d487da6f7e7",
   "metadata": {},
   "source": [
    "[CLIP model](https://huggingface.co/openai/clip-vit-base-patch16) was developed by researchers at OpenAI."
   ]
  },
  {
   "cell_type": "code",
   "execution_count": null,
   "id": "04afcbaa-e71d-4c22-af10-007f72b48f63",
   "metadata": {
    "tags": []
   },
   "outputs": [],
   "source": [
    "model_name = 'openai/clip-vit-base-patch16'\n",
    "model = CLIPModel.from_pretrained(model_name)\n",
    "processor = CLIPProcessor.from_pretrained(model_name)"
   ]
  },
  {
   "cell_type": "code",
   "execution_count": null,
   "id": "262c79ac-9b95-412c-a094-6f18a196fd23",
   "metadata": {
    "tags": []
   },
   "outputs": [],
   "source": [
    "#`soup`, `borsch`, `trayfood`, `catburger`\n",
    "img = Image.open('imgs/trayfood.jpg')\n",
    "plt.figure(figsize=(8, 6))\n",
    "plt.imshow(img)\n",
    "plt.show()"
   ]
  },
  {
   "cell_type": "code",
   "execution_count": null,
   "id": "3ea5d7ac-c172-44f8-82bf-8d19dd22a0e7",
   "metadata": {
    "tags": []
   },
   "outputs": [],
   "source": [
    "# here we can set classes that are not\n",
    "# in a well known datasets e.g. COCO\n",
    "# and this is very cool\n",
    "\n",
    "CLASSES = [\n",
    "    'a photo of a salad',\n",
    "    'a photo of a soup',\n",
    "    'a photo of a hamburger',\n",
    "    'a bowl with borsch',\n",
    "    'a plate with soup',\n",
    "    'burger with soup and fries',\n",
    "    'burger with cat'\n",
    "]"
   ]
  },
  {
   "cell_type": "code",
   "execution_count": null,
   "id": "8918eacb-b243-4031-9a40-1a98742337ef",
   "metadata": {
    "tags": []
   },
   "outputs": [],
   "source": [
    "inputs = processor(\n",
    "    text=CLASSES,\n",
    "    images=img,\n",
    "    return_tensors='pt',\n",
    "    padding=True\n",
    ")\n",
    "outputs = model(**inputs)\n",
    "\n",
    "# this is the image-text similarity score\n",
    "logits_per_image = outputs.logits_per_image\n",
    "# we can take the softmax to get the label probabilities\n",
    "probs = logits_per_image.softmax(dim=1)\n",
    "# resulting class\n",
    "print('resulting class:', CLASSES[np.argmax(probs.detach().numpy())])"
   ]
  },
  {
   "cell_type": "markdown",
   "id": "f52e6a79-2a50-422c-80db-e8d627b1b61b",
   "metadata": {},
   "source": [
    "...with use of a `pipeline`:"
   ]
  },
  {
   "cell_type": "code",
   "execution_count": null,
   "id": "0dd17786-ebf0-45f2-8ef9-7de50aec83a4",
   "metadata": {
    "tags": []
   },
   "outputs": [],
   "source": [
    "from transformers import pipeline"
   ]
  },
  {
   "cell_type": "code",
   "execution_count": null,
   "id": "73733b18-a952-45b7-946c-e94c3d0c161b",
   "metadata": {
    "tags": []
   },
   "outputs": [],
   "source": [
    "def zeroshot(model_name, classes):\n",
    "    classifier = pipeline('zero-shot-image-classification', model=model_name)\n",
    "    scores = classifier(\n",
    "        img,\n",
    "        candidate_labels=CLASSES\n",
    "    )\n",
    "    print(\n",
    "        f'highest score is {scores[0][\"score\"]:.2f}',\n",
    "        f' for the label -{scores[0][\"label\"]}-'\n",
    "    )\n",
    "    return scores\n",
    "\n",
    "\n",
    "scores = zeroshot(model_name, CLASSES)"
   ]
  },
  {
   "cell_type": "code",
   "execution_count": null,
   "id": "13402edf-855c-4a2e-a65a-dc36f040ddc6",
   "metadata": {
    "tags": []
   },
   "outputs": [],
   "source": [
    "plt.figure(figsize=(8, 4))\n",
    "plt.bar(\n",
    "    [x['label'] for x in scores],\n",
    "    [x['score'] for x in scores],\n",
    "    color='b'\n",
    ")\n",
    "plt.xticks(rotation=90)\n",
    "plt.show()"
   ]
  },
  {
   "cell_type": "markdown",
   "id": "db3bb8e4-aaaa-4399-8355-c85b0255b59d",
   "metadata": {},
   "source": [
    "### 3. Mini-project"
   ]
  },
  {
   "cell_type": "markdown",
   "id": "14ee09d2-64ee-463a-bf45-c19c7906fc64",
   "metadata": {},
   "source": [
    "### <font color='red'>HOME ASSIGNMENT</font>"
   ]
  },
  {
   "cell_type": "markdown",
   "id": "718631a4-00aa-4cd5-83db-19b17b821e93",
   "metadata": {},
   "source": [
    "Imagine you are a computer vision engineer  and you have a project to make student canteen more digital. You are offered to deploy a CV model for meals classification. The canteen is free flow ыщ students have to take a tray with food and show it to camera. The camers takes a photo of a tray and display shows total price for a combo meal that is on a tray. Let's assume that there are limited number of meal sets available.\n",
    "\n",
    "It seems like you better use ready zero-shot framework rather than collect images, label them and finetune model.\n",
    "\n",
    "You task is as follows:\n",
    "1. Define your own classes with `MEAL_CLASSES` variable, use this variable for zero-shot model. Five classes are enough for home assignment. One class will be for one set of meal (e.g. `hamburger with fries and juice`)\n",
    "2. Collect at least one images for every class. Test that your model works well for every class (use function `zeroshot` from above)\n",
    "3. Define a dictionary with prices for every class (set of meals). Create your own function to return a total price for the meals set that student take.\n",
    "4. __(ADVANCED, NOT NECESSARY)__ Use image-from-text generated pipeline to test your work. Ask me for GPU if needed."
   ]
  },
  {
   "cell_type": "code",
   "execution_count": null,
   "id": "c783c9b9-3c18-4925-b5cf-14b2435684e9",
   "metadata": {},
   "outputs": [],
   "source": [
    "# HINT-1\n",
    "\n",
    "MEAL_CLASSES = [\n",
    "    'cutlet with mashed potatoes',\n",
    "    'vegan sausage with broccoli and lavender raff',\n",
    "    # add your options\n",
    "]"
   ]
  },
  {
   "cell_type": "code",
   "execution_count": null,
   "id": "86c3e181-7efc-4754-b080-d9a993253ed6",
   "metadata": {
    "tags": []
   },
   "outputs": [],
   "source": [
    "# HINT-2\n",
    "\n",
    "PRICES_RUR = {\n",
    "    'cutlet with mashed potatoes': 250,\n",
    "    'vegan sausage with broccoli and lavender raff': 470,\n",
    "    # add your options\n",
    "}"
   ]
  },
  {
   "cell_type": "code",
   "execution_count": null,
   "id": "5a688eac-b891-4409-b121-2073ce93b00f",
   "metadata": {},
   "outputs": [],
   "source": [
    "# HINT-3\n",
    "\n",
    "def price_for_meal_set(scores, prices_dict):\n",
    "    # you have to implement function yourself\n",
    "    return price"
   ]
  },
  {
   "cell_type": "code",
   "execution_count": null,
   "id": "ccae9d58-2fa9-45c1-8dc9-db6ba1abeac9",
   "metadata": {},
   "outputs": [],
   "source": []
  }
 ],
 "metadata": {
  "kernelspec": {
   "display_name": "Python 3 (ipykernel)",
   "language": "python",
   "name": "python3"
  },
  "language_info": {
   "codemirror_mode": {
    "name": "ipython",
    "version": 3
   },
   "file_extension": ".py",
   "mimetype": "text/x-python",
   "name": "python",
   "nbconvert_exporter": "python",
   "pygments_lexer": "ipython3",
   "version": "3.10.8"
  },
  "widgets": {
   "application/vnd.jupyter.widget-state+json": {
    "state": {
     "08227c542972486dbcd926181419032b": {
      "model_module": "@jupyter-widgets/base",
      "model_module_version": "2.0.0",
      "model_name": "LayoutModel",
      "state": {}
     },
     "096384fd7720489fba71074cd5529ca2": {
      "model_module": "@jupyter-widgets/base",
      "model_module_version": "2.0.0",
      "model_name": "LayoutModel",
      "state": {}
     },
     "09d172957d6a4f8abca5bf7993d51605": {
      "model_module": "@jupyter-widgets/base",
      "model_module_version": "2.0.0",
      "model_name": "LayoutModel",
      "state": {}
     },
     "09f0a7fb8e764c9bbaaf75945bdc952e": {
      "model_module": "@jupyter-widgets/base",
      "model_module_version": "2.0.0",
      "model_name": "LayoutModel",
      "state": {}
     },
     "0b04226312874dcebb1e7c561e34f1b5": {
      "model_module": "@jupyter-widgets/controls",
      "model_module_version": "2.0.0",
      "model_name": "HTMLStyleModel",
      "state": {
       "description_width": "",
       "font_size": null,
       "text_color": null
      }
     },
     "1265ff9d2e3d4cebbf31d9b65e95dfdf": {
      "model_module": "@jupyter-widgets/controls",
      "model_module_version": "2.0.0",
      "model_name": "HTMLModel",
      "state": {
       "layout": "IPY_MODEL_6920d6709a7148a583e9a35331446913",
       "style": "IPY_MODEL_d7d32a5fff614f629217fb826e04e61d",
       "value": " 2.22M/2.22M [00:00&lt;00:00, 6.25MB/s]"
      }
     },
     "16de85b12de74bae87efc1d39b5147f8": {
      "model_module": "@jupyter-widgets/controls",
      "model_module_version": "2.0.0",
      "model_name": "HTMLModel",
      "state": {
       "layout": "IPY_MODEL_41725aae82ab439e8cab53e763f24829",
       "style": "IPY_MODEL_afd85e19f0404dd8b6e1520f40188ad6",
       "value": " 599M/599M [00:11&lt;00:00, 51.7MB/s]"
      }
     },
     "18f429a62c2c4dd6ad35c6a86b5742ff": {
      "model_module": "@jupyter-widgets/controls",
      "model_module_version": "2.0.0",
      "model_name": "HTMLModel",
      "state": {
       "layout": "IPY_MODEL_e82084b40b86417983efe5d21b6d30d8",
       "style": "IPY_MODEL_7d910956a710485dbe41eb194496056a",
       "value": " 389/389 [00:00&lt;00:00, 49.0kB/s]"
      }
     },
     "19c150a715824ac7a786243691519795": {
      "model_module": "@jupyter-widgets/controls",
      "model_module_version": "2.0.0",
      "model_name": "HTMLModel",
      "state": {
       "layout": "IPY_MODEL_7431bbf7e3874aa6947574c8b7359a0c",
       "style": "IPY_MODEL_a2abe98818494c6f9f5fe4894b627923",
       "value": "tokenizer_config.json: 100%"
      }
     },
     "19d0524b2be644f3b04c094c09f0721d": {
      "model_module": "@jupyter-widgets/base",
      "model_module_version": "2.0.0",
      "model_name": "LayoutModel",
      "state": {}
     },
     "1a64e99f266c4e50bef6ff33f9ddae59": {
      "model_module": "@jupyter-widgets/controls",
      "model_module_version": "2.0.0",
      "model_name": "ProgressStyleModel",
      "state": {
       "description_width": ""
      }
     },
     "1d2a55aa2bfa447d8c090ad2cc14ccd6": {
      "model_module": "@jupyter-widgets/controls",
      "model_module_version": "2.0.0",
      "model_name": "HBoxModel",
      "state": {
       "children": [
        "IPY_MODEL_f2d8d7b7831846248deb29d969b3f716",
        "IPY_MODEL_9f4a0cebc86247eea3039f0df4844603",
        "IPY_MODEL_1265ff9d2e3d4cebbf31d9b65e95dfdf"
       ],
       "layout": "IPY_MODEL_24e75f49ac76400a807ff288d0d0917d"
      }
     },
     "24220d560ab548fbb484259cca3a18f3": {
      "model_module": "@jupyter-widgets/base",
      "model_module_version": "2.0.0",
      "model_name": "LayoutModel",
      "state": {}
     },
     "24e75f49ac76400a807ff288d0d0917d": {
      "model_module": "@jupyter-widgets/base",
      "model_module_version": "2.0.0",
      "model_name": "LayoutModel",
      "state": {}
     },
     "27679440557942db89f3d4226c3c752f": {
      "model_module": "@jupyter-widgets/controls",
      "model_module_version": "2.0.0",
      "model_name": "HTMLModel",
      "state": {
       "layout": "IPY_MODEL_ad9a0ceaacfd4bd1930ed4de73ccff03",
       "style": "IPY_MODEL_0b04226312874dcebb1e7c561e34f1b5",
       "value": "vocab.json: 100%"
      }
     },
     "28668df5dbb7461f990e093a8063d796": {
      "model_module": "@jupyter-widgets/controls",
      "model_module_version": "2.0.0",
      "model_name": "HTMLModel",
      "state": {
       "layout": "IPY_MODEL_2a6ed1537a1f496ea0888263cb8cab75",
       "style": "IPY_MODEL_4b2e205f2e1646228594baa7ca514542",
       "value": " 525k/525k [00:00&lt;00:00, 30.9MB/s]"
      }
     },
     "2a6ed1537a1f496ea0888263cb8cab75": {
      "model_module": "@jupyter-widgets/base",
      "model_module_version": "2.0.0",
      "model_name": "LayoutModel",
      "state": {}
     },
     "37c732a7f54a4a478935583c84ae1f71": {
      "model_module": "@jupyter-widgets/controls",
      "model_module_version": "2.0.0",
      "model_name": "HTMLModel",
      "state": {
       "layout": "IPY_MODEL_968a92a49ee84a0cac19d6daafdf8f66",
       "style": "IPY_MODEL_45a6451537a5444aa06087f669268fd3",
       "value": " 4.10k/4.10k [00:00&lt;00:00, 381kB/s]"
      }
     },
     "393d323ccedc48ed9f0cff85aa31486d": {
      "model_module": "@jupyter-widgets/controls",
      "model_module_version": "2.0.0",
      "model_name": "ProgressStyleModel",
      "state": {
       "description_width": ""
      }
     },
     "39a1d25a62fa45dcb7e4c7e39566bcc9": {
      "model_module": "@jupyter-widgets/controls",
      "model_module_version": "2.0.0",
      "model_name": "ProgressStyleModel",
      "state": {
       "description_width": ""
      }
     },
     "3c97c7a967a04209903b6c8ca5d00fb0": {
      "model_module": "@jupyter-widgets/controls",
      "model_module_version": "2.0.0",
      "model_name": "ProgressStyleModel",
      "state": {
       "description_width": ""
      }
     },
     "3d476c81a33447bba87ba6c8678bd2f2": {
      "model_module": "@jupyter-widgets/base",
      "model_module_version": "2.0.0",
      "model_name": "LayoutModel",
      "state": {}
     },
     "41725aae82ab439e8cab53e763f24829": {
      "model_module": "@jupyter-widgets/base",
      "model_module_version": "2.0.0",
      "model_name": "LayoutModel",
      "state": {}
     },
     "45a6451537a5444aa06087f669268fd3": {
      "model_module": "@jupyter-widgets/controls",
      "model_module_version": "2.0.0",
      "model_name": "HTMLStyleModel",
      "state": {
       "description_width": "",
       "font_size": null,
       "text_color": null
      }
     },
     "48242842bc5846b9a12daace622cbab5": {
      "model_module": "@jupyter-widgets/controls",
      "model_module_version": "2.0.0",
      "model_name": "ProgressStyleModel",
      "state": {
       "description_width": ""
      }
     },
     "4b2e205f2e1646228594baa7ca514542": {
      "model_module": "@jupyter-widgets/controls",
      "model_module_version": "2.0.0",
      "model_name": "HTMLStyleModel",
      "state": {
       "description_width": "",
       "font_size": null,
       "text_color": null
      }
     },
     "4b8c132509b04ec888066aa290c5ecb7": {
      "model_module": "@jupyter-widgets/base",
      "model_module_version": "2.0.0",
      "model_name": "LayoutModel",
      "state": {}
     },
     "4cb2c8ba72374ded9c220bd6ee7097f9": {
      "model_module": "@jupyter-widgets/controls",
      "model_module_version": "2.0.0",
      "model_name": "HTMLStyleModel",
      "state": {
       "description_width": "",
       "font_size": null,
       "text_color": null
      }
     },
     "4d190c291fd24abf8f417f5089dad819": {
      "model_module": "@jupyter-widgets/controls",
      "model_module_version": "2.0.0",
      "model_name": "FloatProgressModel",
      "state": {
       "bar_style": "success",
       "layout": "IPY_MODEL_f1f0fa5a264546c49ae6c4a07c4b6f98",
       "max": 4104,
       "style": "IPY_MODEL_393d323ccedc48ed9f0cff85aa31486d",
       "value": 4104
      }
     },
     "4d1dbe7a72e645f79ef76fd6233b0890": {
      "model_module": "@jupyter-widgets/controls",
      "model_module_version": "2.0.0",
      "model_name": "HBoxModel",
      "state": {
       "children": [
        "IPY_MODEL_7fb4f841e7574350943e2acf405bd2a7",
        "IPY_MODEL_645fd7789d834b83b963564f588c3e78",
        "IPY_MODEL_18f429a62c2c4dd6ad35c6a86b5742ff"
       ],
       "layout": "IPY_MODEL_19d0524b2be644f3b04c094c09f0721d"
      }
     },
     "5613651d585b407ca507edd6e9f68103": {
      "model_module": "@jupyter-widgets/controls",
      "model_module_version": "2.0.0",
      "model_name": "HBoxModel",
      "state": {
       "children": [
        "IPY_MODEL_6bec0f7ba611427fbbbb40b7986a113f",
        "IPY_MODEL_91bd0f63b7a449b291184b38da9831a6",
        "IPY_MODEL_16de85b12de74bae87efc1d39b5147f8"
       ],
       "layout": "IPY_MODEL_b69ebc17bd144ee788e9228a1af9a561"
      }
     },
     "62dda3769422486db9ef706b96ec51ad": {
      "model_module": "@jupyter-widgets/controls",
      "model_module_version": "2.0.0",
      "model_name": "HTMLModel",
      "state": {
       "layout": "IPY_MODEL_7cdb725fcf22490c9ff8f2d5591a47d0",
       "style": "IPY_MODEL_ef6ecbd728b0488384e707688c1a0594",
       "value": " 961k/961k [00:00&lt;00:00, 2.08MB/s]"
      }
     },
     "645fd7789d834b83b963564f588c3e78": {
      "model_module": "@jupyter-widgets/controls",
      "model_module_version": "2.0.0",
      "model_name": "FloatProgressModel",
      "state": {
       "bar_style": "success",
       "layout": "IPY_MODEL_ac1f4645189c4a3caec60cb79b313f87",
       "max": 389,
       "style": "IPY_MODEL_48242842bc5846b9a12daace622cbab5",
       "value": 389
      }
     },
     "6920d6709a7148a583e9a35331446913": {
      "model_module": "@jupyter-widgets/base",
      "model_module_version": "2.0.0",
      "model_name": "LayoutModel",
      "state": {}
     },
     "6bec0f7ba611427fbbbb40b7986a113f": {
      "model_module": "@jupyter-widgets/controls",
      "model_module_version": "2.0.0",
      "model_name": "HTMLModel",
      "state": {
       "layout": "IPY_MODEL_bdd43f08e059425b88837b6c6c462fb7",
       "style": "IPY_MODEL_ca76468f70a64356b43581e729abf044",
       "value": "pytorch_model.bin: 100%"
      }
     },
     "6ce1edae73544a9c827b38eab9687a79": {
      "model_module": "@jupyter-widgets/base",
      "model_module_version": "2.0.0",
      "model_name": "LayoutModel",
      "state": {}
     },
     "6dc891321d78469e907e9c7283ebfa81": {
      "model_module": "@jupyter-widgets/controls",
      "model_module_version": "2.0.0",
      "model_name": "HTMLModel",
      "state": {
       "layout": "IPY_MODEL_08227c542972486dbcd926181419032b",
       "style": "IPY_MODEL_d9d85d1b057446a7a838f281df61ba8c",
       "value": " 905/905 [00:00&lt;00:00, 109kB/s]"
      }
     },
     "7431bbf7e3874aa6947574c8b7359a0c": {
      "model_module": "@jupyter-widgets/base",
      "model_module_version": "2.0.0",
      "model_name": "LayoutModel",
      "state": {}
     },
     "75583955c32e483389f2490400654787": {
      "model_module": "@jupyter-widgets/base",
      "model_module_version": "2.0.0",
      "model_name": "LayoutModel",
      "state": {}
     },
     "7711a6db3e2f4c9aa0aaa4abaf7e3e6a": {
      "model_module": "@jupyter-widgets/base",
      "model_module_version": "2.0.0",
      "model_name": "LayoutModel",
      "state": {}
     },
     "78c323a0040b4aec94239a24b5816bf4": {
      "model_module": "@jupyter-widgets/controls",
      "model_module_version": "2.0.0",
      "model_name": "FloatProgressModel",
      "state": {
       "bar_style": "success",
       "layout": "IPY_MODEL_4b8c132509b04ec888066aa290c5ecb7",
       "max": 905,
       "style": "IPY_MODEL_f95a97b2eadc4441974738c4d3286cbd",
       "value": 905
      }
     },
     "7b1ab6ba24d84be4b3b8af2ec3b396b6": {
      "model_module": "@jupyter-widgets/base",
      "model_module_version": "2.0.0",
      "model_name": "LayoutModel",
      "state": {}
     },
     "7cdb725fcf22490c9ff8f2d5591a47d0": {
      "model_module": "@jupyter-widgets/base",
      "model_module_version": "2.0.0",
      "model_name": "LayoutModel",
      "state": {}
     },
     "7d910956a710485dbe41eb194496056a": {
      "model_module": "@jupyter-widgets/controls",
      "model_module_version": "2.0.0",
      "model_name": "HTMLStyleModel",
      "state": {
       "description_width": "",
       "font_size": null,
       "text_color": null
      }
     },
     "7e495ed8059b42d2858b1a0e77b84263": {
      "model_module": "@jupyter-widgets/controls",
      "model_module_version": "2.0.0",
      "model_name": "HBoxModel",
      "state": {
       "children": [
        "IPY_MODEL_eb83b6764c4749c1a7a1e69172794e16",
        "IPY_MODEL_ec8152bd47154ce7ae8cfed2ec0bb2af",
        "IPY_MODEL_e2b14bf6216c4fd3955f9dd1a278e554"
       ],
       "layout": "IPY_MODEL_7b1ab6ba24d84be4b3b8af2ec3b396b6"
      }
     },
     "7fb4f841e7574350943e2acf405bd2a7": {
      "model_module": "@jupyter-widgets/controls",
      "model_module_version": "2.0.0",
      "model_name": "HTMLModel",
      "state": {
       "layout": "IPY_MODEL_eebbb83e2d7146fe962c7c5d972b2356",
       "style": "IPY_MODEL_4cb2c8ba72374ded9c220bd6ee7097f9",
       "value": "special_tokens_map.json: 100%"
      }
     },
     "7ff932feda95416985f49d756cfe7fc7": {
      "model_module": "@jupyter-widgets/base",
      "model_module_version": "2.0.0",
      "model_name": "LayoutModel",
      "state": {}
     },
     "83366535bf2741c7a79fde8644f396c8": {
      "model_module": "@jupyter-widgets/base",
      "model_module_version": "2.0.0",
      "model_name": "LayoutModel",
      "state": {}
     },
     "8f23ff5d57d04a909d03a1f149bb6979": {
      "model_module": "@jupyter-widgets/controls",
      "model_module_version": "2.0.0",
      "model_name": "HTMLStyleModel",
      "state": {
       "description_width": "",
       "font_size": null,
       "text_color": null
      }
     },
     "91bd0f63b7a449b291184b38da9831a6": {
      "model_module": "@jupyter-widgets/controls",
      "model_module_version": "2.0.0",
      "model_name": "FloatProgressModel",
      "state": {
       "bar_style": "success",
       "layout": "IPY_MODEL_7ff932feda95416985f49d756cfe7fc7",
       "max": 598641023,
       "style": "IPY_MODEL_1a64e99f266c4e50bef6ff33f9ddae59",
       "value": 598641023
      }
     },
     "968a92a49ee84a0cac19d6daafdf8f66": {
      "model_module": "@jupyter-widgets/base",
      "model_module_version": "2.0.0",
      "model_name": "LayoutModel",
      "state": {}
     },
     "9f4a0cebc86247eea3039f0df4844603": {
      "model_module": "@jupyter-widgets/controls",
      "model_module_version": "2.0.0",
      "model_name": "FloatProgressModel",
      "state": {
       "bar_style": "success",
       "layout": "IPY_MODEL_75583955c32e483389f2490400654787",
       "max": 2224003,
       "style": "IPY_MODEL_a258676cc7d74ac48a9c3f74769b7c10",
       "value": 2224003
      }
     },
     "a13e0bfd493c42c99ff60db697c3b6b0": {
      "model_module": "@jupyter-widgets/controls",
      "model_module_version": "2.0.0",
      "model_name": "HTMLStyleModel",
      "state": {
       "description_width": "",
       "font_size": null,
       "text_color": null
      }
     },
     "a189ca2f32d741cf91393141ea9b1127": {
      "model_module": "@jupyter-widgets/base",
      "model_module_version": "2.0.0",
      "model_name": "LayoutModel",
      "state": {}
     },
     "a258676cc7d74ac48a9c3f74769b7c10": {
      "model_module": "@jupyter-widgets/controls",
      "model_module_version": "2.0.0",
      "model_name": "ProgressStyleModel",
      "state": {
       "description_width": ""
      }
     },
     "a2abe98818494c6f9f5fe4894b627923": {
      "model_module": "@jupyter-widgets/controls",
      "model_module_version": "2.0.0",
      "model_name": "HTMLStyleModel",
      "state": {
       "description_width": "",
       "font_size": null,
       "text_color": null
      }
     },
     "a8af6a1e843b41b58d4f556815c1a987": {
      "model_module": "@jupyter-widgets/controls",
      "model_module_version": "2.0.0",
      "model_name": "HTMLStyleModel",
      "state": {
       "description_width": "",
       "font_size": null,
       "text_color": null
      }
     },
     "abd82a065e08445f8fa389fad3114453": {
      "model_module": "@jupyter-widgets/controls",
      "model_module_version": "2.0.0",
      "model_name": "HBoxModel",
      "state": {
       "children": [
        "IPY_MODEL_19c150a715824ac7a786243691519795",
        "IPY_MODEL_78c323a0040b4aec94239a24b5816bf4",
        "IPY_MODEL_6dc891321d78469e907e9c7283ebfa81"
       ],
       "layout": "IPY_MODEL_a189ca2f32d741cf91393141ea9b1127"
      }
     },
     "ac1f4645189c4a3caec60cb79b313f87": {
      "model_module": "@jupyter-widgets/base",
      "model_module_version": "2.0.0",
      "model_name": "LayoutModel",
      "state": {}
     },
     "ac313e5eaeca4f61a5b67860f029195c": {
      "model_module": "@jupyter-widgets/controls",
      "model_module_version": "2.0.0",
      "model_name": "FloatProgressModel",
      "state": {
       "bar_style": "success",
       "layout": "IPY_MODEL_83366535bf2741c7a79fde8644f396c8",
       "max": 524619,
       "style": "IPY_MODEL_39a1d25a62fa45dcb7e4c7e39566bcc9",
       "value": 524619
      }
     },
     "ad9a0ceaacfd4bd1930ed4de73ccff03": {
      "model_module": "@jupyter-widgets/base",
      "model_module_version": "2.0.0",
      "model_name": "LayoutModel",
      "state": {}
     },
     "afd85e19f0404dd8b6e1520f40188ad6": {
      "model_module": "@jupyter-widgets/controls",
      "model_module_version": "2.0.0",
      "model_name": "HTMLStyleModel",
      "state": {
       "description_width": "",
       "font_size": null,
       "text_color": null
      }
     },
     "b5d6b1bebf324818b6c79f9f847a92f0": {
      "model_module": "@jupyter-widgets/controls",
      "model_module_version": "2.0.0",
      "model_name": "HTMLStyleModel",
      "state": {
       "description_width": "",
       "font_size": null,
       "text_color": null
      }
     },
     "b69ebc17bd144ee788e9228a1af9a561": {
      "model_module": "@jupyter-widgets/base",
      "model_module_version": "2.0.0",
      "model_name": "LayoutModel",
      "state": {}
     },
     "bdd43f08e059425b88837b6c6c462fb7": {
      "model_module": "@jupyter-widgets/base",
      "model_module_version": "2.0.0",
      "model_name": "LayoutModel",
      "state": {}
     },
     "c80985a42dfc469ba5112cc45bc110cb": {
      "model_module": "@jupyter-widgets/base",
      "model_module_version": "2.0.0",
      "model_name": "LayoutModel",
      "state": {}
     },
     "ca25e9cfa61140a990922f3a3df48249": {
      "model_module": "@jupyter-widgets/controls",
      "model_module_version": "2.0.0",
      "model_name": "ProgressStyleModel",
      "state": {
       "description_width": ""
      }
     },
     "ca76468f70a64356b43581e729abf044": {
      "model_module": "@jupyter-widgets/controls",
      "model_module_version": "2.0.0",
      "model_name": "HTMLStyleModel",
      "state": {
       "description_width": "",
       "font_size": null,
       "text_color": null
      }
     },
     "d7d32a5fff614f629217fb826e04e61d": {
      "model_module": "@jupyter-widgets/controls",
      "model_module_version": "2.0.0",
      "model_name": "HTMLStyleModel",
      "state": {
       "description_width": "",
       "font_size": null,
       "text_color": null
      }
     },
     "d9d85d1b057446a7a838f281df61ba8c": {
      "model_module": "@jupyter-widgets/controls",
      "model_module_version": "2.0.0",
      "model_name": "HTMLStyleModel",
      "state": {
       "description_width": "",
       "font_size": null,
       "text_color": null
      }
     },
     "dbeb3119832a4861940dd0de21f6c2af": {
      "model_module": "@jupyter-widgets/controls",
      "model_module_version": "2.0.0",
      "model_name": "FloatProgressModel",
      "state": {
       "bar_style": "success",
       "layout": "IPY_MODEL_ffa33cfec7014d5998f253dcfd334f4f",
       "max": 961143,
       "style": "IPY_MODEL_3c97c7a967a04209903b6c8ca5d00fb0",
       "value": 961143
      }
     },
     "dfc1016bf8bc4b8fa0dc4413a450dfdc": {
      "model_module": "@jupyter-widgets/controls",
      "model_module_version": "2.0.0",
      "model_name": "HTMLModel",
      "state": {
       "layout": "IPY_MODEL_09d172957d6a4f8abca5bf7993d51605",
       "style": "IPY_MODEL_8f23ff5d57d04a909d03a1f149bb6979",
       "value": "config.json: 100%"
      }
     },
     "e2802faf220c44d294c6efb24fb8356c": {
      "model_module": "@jupyter-widgets/controls",
      "model_module_version": "2.0.0",
      "model_name": "HTMLStyleModel",
      "state": {
       "description_width": "",
       "font_size": null,
       "text_color": null
      }
     },
     "e2b14bf6216c4fd3955f9dd1a278e554": {
      "model_module": "@jupyter-widgets/controls",
      "model_module_version": "2.0.0",
      "model_name": "HTMLModel",
      "state": {
       "layout": "IPY_MODEL_09f0a7fb8e764c9bbaaf75945bdc952e",
       "style": "IPY_MODEL_b5d6b1bebf324818b6c79f9f847a92f0",
       "value": " 316/316 [00:00&lt;00:00, 40.2kB/s]"
      }
     },
     "e3994d60f3424b4eb92bff38bdf6ae05": {
      "model_module": "@jupyter-widgets/controls",
      "model_module_version": "2.0.0",
      "model_name": "HBoxModel",
      "state": {
       "children": [
        "IPY_MODEL_dfc1016bf8bc4b8fa0dc4413a450dfdc",
        "IPY_MODEL_4d190c291fd24abf8f417f5089dad819",
        "IPY_MODEL_37c732a7f54a4a478935583c84ae1f71"
       ],
       "layout": "IPY_MODEL_3d476c81a33447bba87ba6c8678bd2f2"
      }
     },
     "e7a02d844c004c1c93ba31c8d7753c65": {
      "model_module": "@jupyter-widgets/base",
      "model_module_version": "2.0.0",
      "model_name": "LayoutModel",
      "state": {}
     },
     "e82084b40b86417983efe5d21b6d30d8": {
      "model_module": "@jupyter-widgets/base",
      "model_module_version": "2.0.0",
      "model_name": "LayoutModel",
      "state": {}
     },
     "eb83b6764c4749c1a7a1e69172794e16": {
      "model_module": "@jupyter-widgets/controls",
      "model_module_version": "2.0.0",
      "model_name": "HTMLModel",
      "state": {
       "layout": "IPY_MODEL_c80985a42dfc469ba5112cc45bc110cb",
       "style": "IPY_MODEL_a13e0bfd493c42c99ff60db697c3b6b0",
       "value": "preprocessor_config.json: 100%"
      }
     },
     "ec8152bd47154ce7ae8cfed2ec0bb2af": {
      "model_module": "@jupyter-widgets/controls",
      "model_module_version": "2.0.0",
      "model_name": "FloatProgressModel",
      "state": {
       "bar_style": "success",
       "layout": "IPY_MODEL_e7a02d844c004c1c93ba31c8d7753c65",
       "max": 316,
       "style": "IPY_MODEL_ca25e9cfa61140a990922f3a3df48249",
       "value": 316
      }
     },
     "edbff6e0489a4df7916ca5183ed3f8b9": {
      "model_module": "@jupyter-widgets/controls",
      "model_module_version": "2.0.0",
      "model_name": "HBoxModel",
      "state": {
       "children": [
        "IPY_MODEL_f8774c7635c1427aaeb1d64f9b02cd98",
        "IPY_MODEL_ac313e5eaeca4f61a5b67860f029195c",
        "IPY_MODEL_28668df5dbb7461f990e093a8063d796"
       ],
       "layout": "IPY_MODEL_6ce1edae73544a9c827b38eab9687a79"
      }
     },
     "eebbb83e2d7146fe962c7c5d972b2356": {
      "model_module": "@jupyter-widgets/base",
      "model_module_version": "2.0.0",
      "model_name": "LayoutModel",
      "state": {}
     },
     "ef6ecbd728b0488384e707688c1a0594": {
      "model_module": "@jupyter-widgets/controls",
      "model_module_version": "2.0.0",
      "model_name": "HTMLStyleModel",
      "state": {
       "description_width": "",
       "font_size": null,
       "text_color": null
      }
     },
     "f1f0fa5a264546c49ae6c4a07c4b6f98": {
      "model_module": "@jupyter-widgets/base",
      "model_module_version": "2.0.0",
      "model_name": "LayoutModel",
      "state": {}
     },
     "f2d8d7b7831846248deb29d969b3f716": {
      "model_module": "@jupyter-widgets/controls",
      "model_module_version": "2.0.0",
      "model_name": "HTMLModel",
      "state": {
       "layout": "IPY_MODEL_24220d560ab548fbb484259cca3a18f3",
       "style": "IPY_MODEL_a8af6a1e843b41b58d4f556815c1a987",
       "value": "tokenizer.json: 100%"
      }
     },
     "f353ad7fc36f4b8ba1d4627f9da7c47e": {
      "model_module": "@jupyter-widgets/controls",
      "model_module_version": "2.0.0",
      "model_name": "HBoxModel",
      "state": {
       "children": [
        "IPY_MODEL_27679440557942db89f3d4226c3c752f",
        "IPY_MODEL_dbeb3119832a4861940dd0de21f6c2af",
        "IPY_MODEL_62dda3769422486db9ef706b96ec51ad"
       ],
       "layout": "IPY_MODEL_096384fd7720489fba71074cd5529ca2"
      }
     },
     "f8774c7635c1427aaeb1d64f9b02cd98": {
      "model_module": "@jupyter-widgets/controls",
      "model_module_version": "2.0.0",
      "model_name": "HTMLModel",
      "state": {
       "layout": "IPY_MODEL_7711a6db3e2f4c9aa0aaa4abaf7e3e6a",
       "style": "IPY_MODEL_e2802faf220c44d294c6efb24fb8356c",
       "value": "merges.txt: 100%"
      }
     },
     "f95a97b2eadc4441974738c4d3286cbd": {
      "model_module": "@jupyter-widgets/controls",
      "model_module_version": "2.0.0",
      "model_name": "ProgressStyleModel",
      "state": {
       "description_width": ""
      }
     },
     "ffa33cfec7014d5998f253dcfd334f4f": {
      "model_module": "@jupyter-widgets/base",
      "model_module_version": "2.0.0",
      "model_name": "LayoutModel",
      "state": {}
     }
    },
    "version_major": 2,
    "version_minor": 0
   }
  }
 },
 "nbformat": 4,
 "nbformat_minor": 5
}
