{
 "cells": [
  {
   "cell_type": "markdown",
   "id": "c8d35d46-6808-433b-aee8-8eee027eeb6b",
   "metadata": {},
   "source": [
    "# Deep Learning for Business Applications course"
   ]
  },
  {
   "cell_type": "markdown",
   "id": "2757ca75-1aa4-4e25-bddd-a3cfd4cb968b",
   "metadata": {},
   "source": [
    "## TOPIC 6: Hugging Face Hub for Computer Vision. Zero-Shot Image Classification"
   ]
  },
  {
   "cell_type": "markdown",
   "id": "9b09e50c-5c7c-403b-9a1c-c3fc73d20e1d",
   "metadata": {
    "tags": []
   },
   "source": [
    "### 1. Libraries"
   ]
  },
  {
   "cell_type": "code",
   "execution_count": null,
   "id": "e0b82477-63a3-413d-94be-a9ee57359133",
   "metadata": {
    "tags": []
   },
   "outputs": [],
   "source": [
    "!pip install transformers"
   ]
  },
  {
   "cell_type": "code",
   "execution_count": null,
   "id": "4cc48903-1da9-4c5f-8076-f68449e3e02a",
   "metadata": {
    "tags": []
   },
   "outputs": [],
   "source": [
    "# you need to downgrade PyTorch for GPU usage\n",
    "# because our CUDA drivers for GPU are old\n",
    "# so uncomment lines below if you are in\n",
    "# the GPU environment\n",
    "\n",
    "#!pip uninstall -y torch torchvision\n",
    "#!pip install torch==2.0.1 torchvision==0.15.2"
   ]
  },
  {
   "cell_type": "code",
   "execution_count": null,
   "id": "2e432b4f-515b-4980-8623-e3e2f581496a",
   "metadata": {
    "tags": []
   },
   "outputs": [],
   "source": [
    "import os\n",
    "import torch\n",
    "import numpy as np\n",
    "from PIL import Image\n",
    "import matplotlib.pyplot as plt\n",
    "from transformers import CLIPProcessor, CLIPModel, utils\n",
    "\n",
    "# check if GPU available\n",
    "# (works in GPU environment only)\n",
    "DEVICE = torch.device('cuda' if torch.cuda.is_available() else 'cpu')\n",
    "print('device available:', DEVICE)\n",
    "\n",
    "# to get rid off warnings\n",
    "os.environ[\"TOKENIZERS_PARALLELISM\"] = 'false'\n",
    "# env variable to set path to download models\n",
    "os.environ['HF_HOME'] = '/home/jovyan/dlba/topic_06/cache/'"
   ]
  },
  {
   "cell_type": "code",
   "execution_count": null,
   "id": "8256378f-7bb0-4a69-973d-df1c59c677ae",
   "metadata": {
    "tags": []
   },
   "outputs": [],
   "source": [
    "!df -h | grep dev"
   ]
  },
  {
   "cell_type": "code",
   "execution_count": null,
   "id": "cadd1e18-9082-412c-aeac-457444aa4af2",
   "metadata": {
    "tags": []
   },
   "outputs": [],
   "source": [
    "!rm -rf ~/.cache/huggingface/hub\n",
    "!rm -rf /home/jovyan/dlba/topic_06/cache/hub"
   ]
  },
  {
   "cell_type": "markdown",
   "id": "c49e4d66-d7be-47d9-b74e-57b318a16bcb",
   "metadata": {
    "tags": []
   },
   "source": [
    "### 2. Model"
   ]
  },
  {
   "cell_type": "markdown",
   "id": "04b59cf1-f840-4c06-918c-3d487da6f7e7",
   "metadata": {},
   "source": [
    "[CLIP model](https://huggingface.co/openai/clip-vit-base-patch16) was developed by researchers at OpenAI."
   ]
  },
  {
   "cell_type": "code",
   "execution_count": null,
   "id": "04afcbaa-e71d-4c22-af10-007f72b48f63",
   "metadata": {
    "tags": []
   },
   "outputs": [],
   "source": [
    "model_name = 'openai/clip-vit-base-patch16'\n",
    "model = CLIPModel.from_pretrained(model_name)\n",
    "processor = CLIPProcessor.from_pretrained(model_name)"
   ]
  },
  {
   "cell_type": "code",
   "execution_count": null,
   "id": "262c79ac-9b95-412c-a094-6f18a196fd23",
   "metadata": {
    "tags": []
   },
   "outputs": [],
   "source": [
    "#`soup`, `borsch`, `trayfood`, `catburger`\n",
    "img = Image.open('imgs/catburger.jpg')\n",
    "plt.figure(figsize=(8, 6))\n",
    "plt.imshow(img)\n",
    "plt.show()"
   ]
  },
  {
   "cell_type": "code",
   "execution_count": null,
   "id": "3ea5d7ac-c172-44f8-82bf-8d19dd22a0e7",
   "metadata": {
    "tags": []
   },
   "outputs": [],
   "source": [
    "# here we can set classes that are not\n",
    "# in a well known datasets e.g. COCO\n",
    "# and this is very cool\n",
    "\n",
    "CLASSES = [\n",
    "    'a photo of a salad',\n",
    "    'a photo of a soup',\n",
    "    'a photo of a hamburger',\n",
    "    'a bowl with borsch',\n",
    "    'a plate with soup',\n",
    "    'burger with soup and fries',\n",
    "    'burger with cat'\n",
    "]"
   ]
  },
  {
   "cell_type": "code",
   "execution_count": null,
   "id": "8918eacb-b243-4031-9a40-1a98742337ef",
   "metadata": {
    "tags": []
   },
   "outputs": [],
   "source": [
    "inputs = processor(\n",
    "    text=CLASSES,\n",
    "    images=img,\n",
    "    return_tensors='pt',\n",
    "    padding=True\n",
    ")\n",
    "outputs = model(**inputs)\n",
    "\n",
    "# this is the image-text similarity score\n",
    "logits_per_image = outputs.logits_per_image\n",
    "# we can take the softmax to get the label probabilities\n",
    "probs = logits_per_image.softmax(dim=1)\n",
    "# resulting class\n",
    "print('resulting class:', CLASSES[np.argmax(probs.detach().numpy())])"
   ]
  },
  {
   "cell_type": "markdown",
   "id": "f52e6a79-2a50-422c-80db-e8d627b1b61b",
   "metadata": {},
   "source": [
    "...with use of a `pipeline`:"
   ]
  },
  {
   "cell_type": "code",
   "execution_count": null,
   "id": "0dd17786-ebf0-45f2-8ef9-7de50aec83a4",
   "metadata": {
    "tags": []
   },
   "outputs": [],
   "source": [
    "from transformers import pipeline"
   ]
  },
  {
   "cell_type": "code",
   "execution_count": null,
   "id": "73733b18-a952-45b7-946c-e94c3d0c161b",
   "metadata": {
    "tags": []
   },
   "outputs": [],
   "source": [
    "def zeroshot(model_name, classes):\n",
    "    classifier = pipeline('zero-shot-image-classification', model=model_name)\n",
    "    scores = classifier(\n",
    "        img,\n",
    "        candidate_labels=CLASSES\n",
    "    )\n",
    "    print(\n",
    "        f'highest score is {scores[0][\"score\"]:.2f}',\n",
    "        f' for the label -{scores[0][\"label\"]}-'\n",
    "    )\n",
    "    return scores\n",
    "\n",
    "\n",
    "scores = zeroshot(model_name, CLASSES)"
   ]
  },
  {
   "cell_type": "code",
   "execution_count": null,
   "id": "13402edf-855c-4a2e-a65a-dc36f040ddc6",
   "metadata": {
    "tags": []
   },
   "outputs": [],
   "source": [
    "plt.figure(figsize=(8, 4))\n",
    "plt.bar(\n",
    "    [x['label'] for x in scores],\n",
    "    [x['score'] for x in scores],\n",
    "    color='b'\n",
    ")\n",
    "plt.xticks(rotation=90)\n",
    "plt.show()"
   ]
  },
  {
   "cell_type": "markdown",
   "id": "db3bb8e4-aaaa-4399-8355-c85b0255b59d",
   "metadata": {},
   "source": [
    "### 3. Mini-project"
   ]
  },
  {
   "cell_type": "markdown",
   "id": "14ee09d2-64ee-463a-bf45-c19c7906fc64",
   "metadata": {},
   "source": [
    "### <font color='red'>HOME ASSIGNMENT</font>"
   ]
  },
  {
   "cell_type": "markdown",
   "id": "718631a4-00aa-4cd5-83db-19b17b821e93",
   "metadata": {},
   "source": [
    "Imagine you are a computer vision engineer  and you have a project to make student canteen more digital. You are offered to deploy a CV model for meals classification. The canteen is free flow ыщ students have to take a tray with food and show it to camera. The camers takes a photo of a tray and display shows total price for a combo meal that is on a tray. Let's assume that there are limited number of meal sets available.\n",
    "\n",
    "It seems like you better use ready zero-shot framework rather than collect images, label them and finetune model.\n",
    "\n",
    "You task is as follows:\n",
    "1. Define your own classes with `MEAL_CLASSES` variable, use this variable for zero-shot model. Five classes are enough for home assignment. One class will be for one set of meal (e.g. `hamburger with fries and juice`)\n",
    "2. Collect at least one images for every class. Test that your model works well for every class (use function `zeroshot` from above)\n",
    "3. Define a dictionary with prices for every class (set of meals). Create your own function to return a total price for the meals set that student take.\n",
    "4. __(ADVANCED, NOT NECESSARY)__ Use image-from-text generated pipeline to test your work. Ask me for GPU if needed."
   ]
  },
  {
   "cell_type": "code",
   "execution_count": null,
   "id": "c783c9b9-3c18-4925-b5cf-14b2435684e9",
   "metadata": {},
   "outputs": [],
   "source": [
    "# HINT-1\n",
    "\n",
    "MEAL_CLASSES = [\n",
    "    'cutlet with mashed potatoes',\n",
    "    'vegan sausage with broccoli and lavender raff',\n",
    "    # add your options\n",
    "]"
   ]
  },
  {
   "cell_type": "code",
   "execution_count": null,
   "id": "86c3e181-7efc-4754-b080-d9a993253ed6",
   "metadata": {
    "tags": []
   },
   "outputs": [],
   "source": [
    "# HINT-2\n",
    "\n",
    "PRICES_RUR = {\n",
    "    'cutlet with mashed potatoes': 250,\n",
    "    'vegan sausage with broccoli and lavender raff': 470,\n",
    "    # add your options\n",
    "}"
   ]
  },
  {
   "cell_type": "code",
   "execution_count": null,
   "id": "5a688eac-b891-4409-b121-2073ce93b00f",
   "metadata": {},
   "outputs": [],
   "source": [
    "# HINT-3\n",
    "\n",
    "def price_for_meal_set(scores, prices_dict):\n",
    "    # you have to implement function yourself\n",
    "    return price"
   ]
  },
  {
   "cell_type": "code",
   "execution_count": null,
   "id": "ccae9d58-2fa9-45c1-8dc9-db6ba1abeac9",
   "metadata": {},
   "outputs": [],
   "source": []
  }
 ],
 "metadata": {
  "kernelspec": {
   "display_name": "Python 3 (ipykernel)",
   "language": "python",
   "name": "python3"
  },
  "language_info": {
   "codemirror_mode": {
    "name": "ipython",
    "version": 3
   },
   "file_extension": ".py",
   "mimetype": "text/x-python",
   "name": "python",
   "nbconvert_exporter": "python",
   "pygments_lexer": "ipython3",
   "version": "3.10.8"
  },
  "widgets": {
   "application/vnd.jupyter.widget-state+json": {
    "state": {
     "034f07f8031f4a21a4d90e151a467aa9": {
      "model_module": "@jupyter-widgets/controls",
      "model_module_version": "2.0.0",
      "model_name": "HTMLModel",
      "state": {
       "layout": "IPY_MODEL_0cb3aa45809b4d02b15ddb5eec03405a",
       "style": "IPY_MODEL_736768b667df423ba34740e856780866",
       "value": " 4.10k/4.10k [00:00&lt;00:00, 386kB/s]"
      }
     },
     "03a11b2726b142d7971cd6f60e551acf": {
      "model_module": "@jupyter-widgets/controls",
      "model_module_version": "2.0.0",
      "model_name": "ProgressStyleModel",
      "state": {
       "description_width": ""
      }
     },
     "04f32d85df074752a45fff2b2ae21a07": {
      "model_module": "@jupyter-widgets/controls",
      "model_module_version": "2.0.0",
      "model_name": "HTMLStyleModel",
      "state": {
       "description_width": "",
       "font_size": null,
       "text_color": null
      }
     },
     "094ec774e3df458c938ff44d949e248c": {
      "model_module": "@jupyter-widgets/base",
      "model_module_version": "2.0.0",
      "model_name": "LayoutModel",
      "state": {}
     },
     "0983eac1e7314091b415d4ae4b8e59e6": {
      "model_module": "@jupyter-widgets/base",
      "model_module_version": "2.0.0",
      "model_name": "LayoutModel",
      "state": {}
     },
     "0b17b7c55c9c442493d8237f4509446d": {
      "model_module": "@jupyter-widgets/base",
      "model_module_version": "2.0.0",
      "model_name": "LayoutModel",
      "state": {}
     },
     "0cb3aa45809b4d02b15ddb5eec03405a": {
      "model_module": "@jupyter-widgets/base",
      "model_module_version": "2.0.0",
      "model_name": "LayoutModel",
      "state": {}
     },
     "0d08da5932e74d22b1ac6a48a8ec6995": {
      "model_module": "@jupyter-widgets/controls",
      "model_module_version": "2.0.0",
      "model_name": "HTMLModel",
      "state": {
       "layout": "IPY_MODEL_6cf4fba872224223b3dcc68720381100",
       "style": "IPY_MODEL_a505f0a985454a3780666a2b2df8bdc7",
       "value": "vocab.json: 100%"
      }
     },
     "0e92a55062744c45b9698c0ff10dffab": {
      "model_module": "@jupyter-widgets/controls",
      "model_module_version": "2.0.0",
      "model_name": "HTMLStyleModel",
      "state": {
       "description_width": "",
       "font_size": null,
       "text_color": null
      }
     },
     "1193183dd5c44b809975a58275fa455d": {
      "model_module": "@jupyter-widgets/controls",
      "model_module_version": "2.0.0",
      "model_name": "HTMLModel",
      "state": {
       "layout": "IPY_MODEL_d240967757da4b5b9e58fb98430653dd",
       "style": "IPY_MODEL_42c09f18666c4391b9ef8c83fbb951a9",
       "value": "config.json: 100%"
      }
     },
     "150cdb9918fd479eab886f31807e30de": {
      "model_module": "@jupyter-widgets/controls",
      "model_module_version": "2.0.0",
      "model_name": "HTMLModel",
      "state": {
       "layout": "IPY_MODEL_1db814ce81884e1299640b96885d3352",
       "style": "IPY_MODEL_192da3de1b95428abaac28089089b7ae",
       "value": "tokenizer_config.json: 100%"
      }
     },
     "1565f06697c84a11b06ab6126f6ced7e": {
      "model_module": "@jupyter-widgets/base",
      "model_module_version": "2.0.0",
      "model_name": "LayoutModel",
      "state": {}
     },
     "1600f289e53d41208bd3ba7e1acb1cdf": {
      "model_module": "@jupyter-widgets/controls",
      "model_module_version": "2.0.0",
      "model_name": "HTMLStyleModel",
      "state": {
       "description_width": "",
       "font_size": null,
       "text_color": null
      }
     },
     "190a4e4c60ba493597bd245d1385c3dd": {
      "model_module": "@jupyter-widgets/controls",
      "model_module_version": "2.0.0",
      "model_name": "HTMLModel",
      "state": {
       "layout": "IPY_MODEL_f040826f16014a00a1935c95f8a7157d",
       "style": "IPY_MODEL_1600f289e53d41208bd3ba7e1acb1cdf",
       "value": " 389/389 [00:00&lt;00:00, 50.1kB/s]"
      }
     },
     "192da3de1b95428abaac28089089b7ae": {
      "model_module": "@jupyter-widgets/controls",
      "model_module_version": "2.0.0",
      "model_name": "HTMLStyleModel",
      "state": {
       "description_width": "",
       "font_size": null,
       "text_color": null
      }
     },
     "1d820b1d3bb949b4a3d791cf7011b622": {
      "model_module": "@jupyter-widgets/controls",
      "model_module_version": "2.0.0",
      "model_name": "ProgressStyleModel",
      "state": {
       "description_width": ""
      }
     },
     "1da66dd0a2614b5c9a40d3b2ac1cbfb0": {
      "model_module": "@jupyter-widgets/controls",
      "model_module_version": "2.0.0",
      "model_name": "ProgressStyleModel",
      "state": {
       "description_width": ""
      }
     },
     "1db814ce81884e1299640b96885d3352": {
      "model_module": "@jupyter-widgets/base",
      "model_module_version": "2.0.0",
      "model_name": "LayoutModel",
      "state": {}
     },
     "1f106ca2054243caabaefd8a410eae0b": {
      "model_module": "@jupyter-widgets/controls",
      "model_module_version": "2.0.0",
      "model_name": "HTMLModel",
      "state": {
       "layout": "IPY_MODEL_a36d8f06165a410dabc7bc074cf5816d",
       "style": "IPY_MODEL_2195cc186d194310a04599f523d33f16",
       "value": " 316/316 [00:00&lt;00:00, 40.7kB/s]"
      }
     },
     "2195cc186d194310a04599f523d33f16": {
      "model_module": "@jupyter-widgets/controls",
      "model_module_version": "2.0.0",
      "model_name": "HTMLStyleModel",
      "state": {
       "description_width": "",
       "font_size": null,
       "text_color": null
      }
     },
     "246303fd29e546e8835c2b6a8754a9cc": {
      "model_module": "@jupyter-widgets/controls",
      "model_module_version": "2.0.0",
      "model_name": "HTMLStyleModel",
      "state": {
       "description_width": "",
       "font_size": null,
       "text_color": null
      }
     },
     "260b2ac269974adeae49acae314c38e6": {
      "model_module": "@jupyter-widgets/base",
      "model_module_version": "2.0.0",
      "model_name": "LayoutModel",
      "state": {}
     },
     "27c22964474544cdaa395faeb3e9fb82": {
      "model_module": "@jupyter-widgets/controls",
      "model_module_version": "2.0.0",
      "model_name": "HBoxModel",
      "state": {
       "children": [
        "IPY_MODEL_d1b009d29b1649079f295328952ab4e0",
        "IPY_MODEL_44b7e0e04ce94f39b0ed7edbc62cff3a",
        "IPY_MODEL_78506151aeee4705bef5266dfbe1a86f"
       ],
       "layout": "IPY_MODEL_1565f06697c84a11b06ab6126f6ced7e"
      }
     },
     "2f359ec1c41b42548aa022239956028b": {
      "model_module": "@jupyter-widgets/controls",
      "model_module_version": "2.0.0",
      "model_name": "ProgressStyleModel",
      "state": {
       "description_width": ""
      }
     },
     "343d00b2332947f49c497615f1ea0367": {
      "model_module": "@jupyter-widgets/base",
      "model_module_version": "2.0.0",
      "model_name": "LayoutModel",
      "state": {}
     },
     "37fa00c7de464e61a091830e9a839e44": {
      "model_module": "@jupyter-widgets/base",
      "model_module_version": "2.0.0",
      "model_name": "LayoutModel",
      "state": {}
     },
     "3a79aa40cd6e41f7b998ad89a331dfa2": {
      "model_module": "@jupyter-widgets/controls",
      "model_module_version": "2.0.0",
      "model_name": "HBoxModel",
      "state": {
       "children": [
        "IPY_MODEL_1193183dd5c44b809975a58275fa455d",
        "IPY_MODEL_eae5d68af0f34fd2908ed9da67f985fe",
        "IPY_MODEL_034f07f8031f4a21a4d90e151a467aa9"
       ],
       "layout": "IPY_MODEL_e1200f9bd5924b9fb04cf7c08abf4ad9"
      }
     },
     "3b0d90df00be462f9e0d696135ea7985": {
      "model_module": "@jupyter-widgets/base",
      "model_module_version": "2.0.0",
      "model_name": "LayoutModel",
      "state": {}
     },
     "3daf458b43d44a6b898d4983e2f807fd": {
      "model_module": "@jupyter-widgets/base",
      "model_module_version": "2.0.0",
      "model_name": "LayoutModel",
      "state": {}
     },
     "3eda834763004469a5a6ee5215d2f1ba": {
      "model_module": "@jupyter-widgets/controls",
      "model_module_version": "2.0.0",
      "model_name": "HTMLModel",
      "state": {
       "layout": "IPY_MODEL_b4e5277ac3b141988557ca11bb8b65df",
       "style": "IPY_MODEL_57f8987923cd44fe9770c89132e77e9d",
       "value": " 599M/599M [00:05&lt;00:00, 112MB/s]"
      }
     },
     "408a175ef0df405b85b294741beb49c8": {
      "model_module": "@jupyter-widgets/controls",
      "model_module_version": "2.0.0",
      "model_name": "ProgressStyleModel",
      "state": {
       "description_width": ""
      }
     },
     "41d6010e587d417192c670f5c58a073a": {
      "model_module": "@jupyter-widgets/controls",
      "model_module_version": "2.0.0",
      "model_name": "HBoxModel",
      "state": {
       "children": [
        "IPY_MODEL_0d08da5932e74d22b1ac6a48a8ec6995",
        "IPY_MODEL_b66a64c28557427a81393f486580fba8",
        "IPY_MODEL_660c17db7fc84dc3a60ac10bfff8f5b3"
       ],
       "layout": "IPY_MODEL_9015a37df7a34b66846fe6b89be3207b"
      }
     },
     "42c09f18666c4391b9ef8c83fbb951a9": {
      "model_module": "@jupyter-widgets/controls",
      "model_module_version": "2.0.0",
      "model_name": "HTMLStyleModel",
      "state": {
       "description_width": "",
       "font_size": null,
       "text_color": null
      }
     },
     "42f89e32183b4b498e4926621474c1dc": {
      "model_module": "@jupyter-widgets/controls",
      "model_module_version": "2.0.0",
      "model_name": "ProgressStyleModel",
      "state": {
       "description_width": ""
      }
     },
     "44b7e0e04ce94f39b0ed7edbc62cff3a": {
      "model_module": "@jupyter-widgets/controls",
      "model_module_version": "2.0.0",
      "model_name": "FloatProgressModel",
      "state": {
       "bar_style": "success",
       "layout": "IPY_MODEL_effef39931de41c08d4e90d86bccab53",
       "max": 2224003,
       "style": "IPY_MODEL_bb88dad676aa49b8aa68774f9aa75490",
       "value": 2224003
      }
     },
     "4f517fb8705e4822a060f5eb7475b1b0": {
      "model_module": "@jupyter-widgets/controls",
      "model_module_version": "2.0.0",
      "model_name": "HTMLModel",
      "state": {
       "layout": "IPY_MODEL_094ec774e3df458c938ff44d949e248c",
       "style": "IPY_MODEL_637bef2856d04718b7620414707680a7",
       "value": "merges.txt: 100%"
      }
     },
     "57f8987923cd44fe9770c89132e77e9d": {
      "model_module": "@jupyter-widgets/controls",
      "model_module_version": "2.0.0",
      "model_name": "HTMLStyleModel",
      "state": {
       "description_width": "",
       "font_size": null,
       "text_color": null
      }
     },
     "5cbe8537f49b43e9af865301a273a1b5": {
      "model_module": "@jupyter-widgets/base",
      "model_module_version": "2.0.0",
      "model_name": "LayoutModel",
      "state": {}
     },
     "5df0de8e20ce434b809af00aa6c74f54": {
      "model_module": "@jupyter-widgets/base",
      "model_module_version": "2.0.0",
      "model_name": "LayoutModel",
      "state": {}
     },
     "637bef2856d04718b7620414707680a7": {
      "model_module": "@jupyter-widgets/controls",
      "model_module_version": "2.0.0",
      "model_name": "HTMLStyleModel",
      "state": {
       "description_width": "",
       "font_size": null,
       "text_color": null
      }
     },
     "660c17db7fc84dc3a60ac10bfff8f5b3": {
      "model_module": "@jupyter-widgets/controls",
      "model_module_version": "2.0.0",
      "model_name": "HTMLModel",
      "state": {
       "layout": "IPY_MODEL_7ed805f48b5c4512bb32fdf133f93bed",
       "style": "IPY_MODEL_9d585cc62da343eca6f62135cca929c7",
       "value": " 961k/961k [00:00&lt;00:00, 2.07MB/s]"
      }
     },
     "6875bbf95d224485bd41bfe628be8b13": {
      "model_module": "@jupyter-widgets/controls",
      "model_module_version": "2.0.0",
      "model_name": "HTMLModel",
      "state": {
       "layout": "IPY_MODEL_0983eac1e7314091b415d4ae4b8e59e6",
       "style": "IPY_MODEL_98adf5d862f94f02b0632ab4f34316ae",
       "value": " 905/905 [00:00&lt;00:00, 117kB/s]"
      }
     },
     "6a039cae22494e2486a7ab56139ceee7": {
      "model_module": "@jupyter-widgets/controls",
      "model_module_version": "2.0.0",
      "model_name": "FloatProgressModel",
      "state": {
       "bar_style": "success",
       "layout": "IPY_MODEL_3b0d90df00be462f9e0d696135ea7985",
       "max": 524619,
       "style": "IPY_MODEL_42f89e32183b4b498e4926621474c1dc",
       "value": 524619
      }
     },
     "6cf4fba872224223b3dcc68720381100": {
      "model_module": "@jupyter-widgets/base",
      "model_module_version": "2.0.0",
      "model_name": "LayoutModel",
      "state": {}
     },
     "736768b667df423ba34740e856780866": {
      "model_module": "@jupyter-widgets/controls",
      "model_module_version": "2.0.0",
      "model_name": "HTMLStyleModel",
      "state": {
       "description_width": "",
       "font_size": null,
       "text_color": null
      }
     },
     "78506151aeee4705bef5266dfbe1a86f": {
      "model_module": "@jupyter-widgets/controls",
      "model_module_version": "2.0.0",
      "model_name": "HTMLModel",
      "state": {
       "layout": "IPY_MODEL_37fa00c7de464e61a091830e9a839e44",
       "style": "IPY_MODEL_ab283688793a437d8ed71cd6c1cd0e65",
       "value": " 2.22M/2.22M [00:00&lt;00:00, 15.1MB/s]"
      }
     },
     "7d0b243845e0462ab9025171d20e139d": {
      "model_module": "@jupyter-widgets/controls",
      "model_module_version": "2.0.0",
      "model_name": "HTMLModel",
      "state": {
       "layout": "IPY_MODEL_f5534c758f28458ebc8fdbac33e56542",
       "style": "IPY_MODEL_adc17ec6aca3411e84d39e6824d6be4b",
       "value": "special_tokens_map.json: 100%"
      }
     },
     "7ed805f48b5c4512bb32fdf133f93bed": {
      "model_module": "@jupyter-widgets/base",
      "model_module_version": "2.0.0",
      "model_name": "LayoutModel",
      "state": {}
     },
     "81cc07d6df2e495cb125ac4311dd1c56": {
      "model_module": "@jupyter-widgets/controls",
      "model_module_version": "2.0.0",
      "model_name": "ProgressStyleModel",
      "state": {
       "description_width": ""
      }
     },
     "828d98ee657043aeaa0408ecb955a1ed": {
      "model_module": "@jupyter-widgets/base",
      "model_module_version": "2.0.0",
      "model_name": "LayoutModel",
      "state": {}
     },
     "83d55a74af234d05827593cbe03f7cf0": {
      "model_module": "@jupyter-widgets/controls",
      "model_module_version": "2.0.0",
      "model_name": "HTMLModel",
      "state": {
       "layout": "IPY_MODEL_828d98ee657043aeaa0408ecb955a1ed",
       "style": "IPY_MODEL_0e92a55062744c45b9698c0ff10dffab",
       "value": "preprocessor_config.json: 100%"
      }
     },
     "86066c755f4f4e1e8b5890e613f6359a": {
      "model_module": "@jupyter-widgets/controls",
      "model_module_version": "2.0.0",
      "model_name": "FloatProgressModel",
      "state": {
       "bar_style": "success",
       "layout": "IPY_MODEL_8995edbe251143f49e644bb679a98703",
       "max": 389,
       "style": "IPY_MODEL_1d820b1d3bb949b4a3d791cf7011b622",
       "value": 389
      }
     },
     "87793f28e7ab48f4b52457ae74ed781a": {
      "model_module": "@jupyter-widgets/controls",
      "model_module_version": "2.0.0",
      "model_name": "HBoxModel",
      "state": {
       "children": [
        "IPY_MODEL_7d0b243845e0462ab9025171d20e139d",
        "IPY_MODEL_86066c755f4f4e1e8b5890e613f6359a",
        "IPY_MODEL_190a4e4c60ba493597bd245d1385c3dd"
       ],
       "layout": "IPY_MODEL_b23c3227438644d3a35217ce45fcc1c1"
      }
     },
     "8995edbe251143f49e644bb679a98703": {
      "model_module": "@jupyter-widgets/base",
      "model_module_version": "2.0.0",
      "model_name": "LayoutModel",
      "state": {}
     },
     "9015a37df7a34b66846fe6b89be3207b": {
      "model_module": "@jupyter-widgets/base",
      "model_module_version": "2.0.0",
      "model_name": "LayoutModel",
      "state": {}
     },
     "927032849dc8423b8f8087aa5a78de29": {
      "model_module": "@jupyter-widgets/base",
      "model_module_version": "2.0.0",
      "model_name": "LayoutModel",
      "state": {}
     },
     "9461e5b417d24368a72e5cb97f25ce82": {
      "model_module": "@jupyter-widgets/base",
      "model_module_version": "2.0.0",
      "model_name": "LayoutModel",
      "state": {}
     },
     "98adf5d862f94f02b0632ab4f34316ae": {
      "model_module": "@jupyter-widgets/controls",
      "model_module_version": "2.0.0",
      "model_name": "HTMLStyleModel",
      "state": {
       "description_width": "",
       "font_size": null,
       "text_color": null
      }
     },
     "9d585cc62da343eca6f62135cca929c7": {
      "model_module": "@jupyter-widgets/controls",
      "model_module_version": "2.0.0",
      "model_name": "HTMLStyleModel",
      "state": {
       "description_width": "",
       "font_size": null,
       "text_color": null
      }
     },
     "9e87185348ec43729886b2e60af3e44b": {
      "model_module": "@jupyter-widgets/controls",
      "model_module_version": "2.0.0",
      "model_name": "HTMLModel",
      "state": {
       "layout": "IPY_MODEL_927032849dc8423b8f8087aa5a78de29",
       "style": "IPY_MODEL_04f32d85df074752a45fff2b2ae21a07",
       "value": " 525k/525k [00:00&lt;00:00, 1.51MB/s]"
      }
     },
     "9f9cbeeff0604d45addcd715b21eca37": {
      "model_module": "@jupyter-widgets/base",
      "model_module_version": "2.0.0",
      "model_name": "LayoutModel",
      "state": {}
     },
     "a36d8f06165a410dabc7bc074cf5816d": {
      "model_module": "@jupyter-widgets/base",
      "model_module_version": "2.0.0",
      "model_name": "LayoutModel",
      "state": {}
     },
     "a505f0a985454a3780666a2b2df8bdc7": {
      "model_module": "@jupyter-widgets/controls",
      "model_module_version": "2.0.0",
      "model_name": "HTMLStyleModel",
      "state": {
       "description_width": "",
       "font_size": null,
       "text_color": null
      }
     },
     "ab283688793a437d8ed71cd6c1cd0e65": {
      "model_module": "@jupyter-widgets/controls",
      "model_module_version": "2.0.0",
      "model_name": "HTMLStyleModel",
      "state": {
       "description_width": "",
       "font_size": null,
       "text_color": null
      }
     },
     "adc17ec6aca3411e84d39e6824d6be4b": {
      "model_module": "@jupyter-widgets/controls",
      "model_module_version": "2.0.0",
      "model_name": "HTMLStyleModel",
      "state": {
       "description_width": "",
       "font_size": null,
       "text_color": null
      }
     },
     "ae88a0d5e11c4a3cb6584766981d9dd0": {
      "model_module": "@jupyter-widgets/controls",
      "model_module_version": "2.0.0",
      "model_name": "FloatProgressModel",
      "state": {
       "bar_style": "success",
       "layout": "IPY_MODEL_c2eb0059cbc84f2fa7c53b5d48d206f4",
       "max": 598641023,
       "style": "IPY_MODEL_03a11b2726b142d7971cd6f60e551acf",
       "value": 598641023
      }
     },
     "b23c3227438644d3a35217ce45fcc1c1": {
      "model_module": "@jupyter-widgets/base",
      "model_module_version": "2.0.0",
      "model_name": "LayoutModel",
      "state": {}
     },
     "b4e5277ac3b141988557ca11bb8b65df": {
      "model_module": "@jupyter-widgets/base",
      "model_module_version": "2.0.0",
      "model_name": "LayoutModel",
      "state": {}
     },
     "b53c66c36e6449db96e3de5a661519e1": {
      "model_module": "@jupyter-widgets/controls",
      "model_module_version": "2.0.0",
      "model_name": "FloatProgressModel",
      "state": {
       "bar_style": "success",
       "layout": "IPY_MODEL_9f9cbeeff0604d45addcd715b21eca37",
       "max": 316,
       "style": "IPY_MODEL_81cc07d6df2e495cb125ac4311dd1c56",
       "value": 316
      }
     },
     "b66a64c28557427a81393f486580fba8": {
      "model_module": "@jupyter-widgets/controls",
      "model_module_version": "2.0.0",
      "model_name": "FloatProgressModel",
      "state": {
       "bar_style": "success",
       "layout": "IPY_MODEL_343d00b2332947f49c497615f1ea0367",
       "max": 961143,
       "style": "IPY_MODEL_408a175ef0df405b85b294741beb49c8",
       "value": 961143
      }
     },
     "bb88dad676aa49b8aa68774f9aa75490": {
      "model_module": "@jupyter-widgets/controls",
      "model_module_version": "2.0.0",
      "model_name": "ProgressStyleModel",
      "state": {
       "description_width": ""
      }
     },
     "bcf1295ded62449fb41a0ca66bd2129a": {
      "model_module": "@jupyter-widgets/controls",
      "model_module_version": "2.0.0",
      "model_name": "HTMLModel",
      "state": {
       "layout": "IPY_MODEL_5df0de8e20ce434b809af00aa6c74f54",
       "style": "IPY_MODEL_f8fcc3a27f2244d786e4259fd1357c2c",
       "value": "pytorch_model.bin: 100%"
      }
     },
     "c2eb0059cbc84f2fa7c53b5d48d206f4": {
      "model_module": "@jupyter-widgets/base",
      "model_module_version": "2.0.0",
      "model_name": "LayoutModel",
      "state": {}
     },
     "ca2c7ddafc0b448a8fd7bc473c23244a": {
      "model_module": "@jupyter-widgets/controls",
      "model_module_version": "2.0.0",
      "model_name": "HBoxModel",
      "state": {
       "children": [
        "IPY_MODEL_bcf1295ded62449fb41a0ca66bd2129a",
        "IPY_MODEL_ae88a0d5e11c4a3cb6584766981d9dd0",
        "IPY_MODEL_3eda834763004469a5a6ee5215d2f1ba"
       ],
       "layout": "IPY_MODEL_5cbe8537f49b43e9af865301a273a1b5"
      }
     },
     "d1b009d29b1649079f295328952ab4e0": {
      "model_module": "@jupyter-widgets/controls",
      "model_module_version": "2.0.0",
      "model_name": "HTMLModel",
      "state": {
       "layout": "IPY_MODEL_eca98410b8b541eca0de1a995cbb05db",
       "style": "IPY_MODEL_246303fd29e546e8835c2b6a8754a9cc",
       "value": "tokenizer.json: 100%"
      }
     },
     "d240967757da4b5b9e58fb98430653dd": {
      "model_module": "@jupyter-widgets/base",
      "model_module_version": "2.0.0",
      "model_name": "LayoutModel",
      "state": {}
     },
     "e1200f9bd5924b9fb04cf7c08abf4ad9": {
      "model_module": "@jupyter-widgets/base",
      "model_module_version": "2.0.0",
      "model_name": "LayoutModel",
      "state": {}
     },
     "e2c8469e10874f7790d1b4a07f142b99": {
      "model_module": "@jupyter-widgets/controls",
      "model_module_version": "2.0.0",
      "model_name": "HBoxModel",
      "state": {
       "children": [
        "IPY_MODEL_4f517fb8705e4822a060f5eb7475b1b0",
        "IPY_MODEL_6a039cae22494e2486a7ab56139ceee7",
        "IPY_MODEL_9e87185348ec43729886b2e60af3e44b"
       ],
       "layout": "IPY_MODEL_9461e5b417d24368a72e5cb97f25ce82"
      }
     },
     "eae5d68af0f34fd2908ed9da67f985fe": {
      "model_module": "@jupyter-widgets/controls",
      "model_module_version": "2.0.0",
      "model_name": "FloatProgressModel",
      "state": {
       "bar_style": "success",
       "layout": "IPY_MODEL_0b17b7c55c9c442493d8237f4509446d",
       "max": 4104,
       "style": "IPY_MODEL_1da66dd0a2614b5c9a40d3b2ac1cbfb0",
       "value": 4104
      }
     },
     "eca98410b8b541eca0de1a995cbb05db": {
      "model_module": "@jupyter-widgets/base",
      "model_module_version": "2.0.0",
      "model_name": "LayoutModel",
      "state": {}
     },
     "efecc29cbc944a4089738b4223c6e8f4": {
      "model_module": "@jupyter-widgets/controls",
      "model_module_version": "2.0.0",
      "model_name": "HBoxModel",
      "state": {
       "children": [
        "IPY_MODEL_150cdb9918fd479eab886f31807e30de",
        "IPY_MODEL_f81ac7c1ee984c3ab11bd7fedc887439",
        "IPY_MODEL_6875bbf95d224485bd41bfe628be8b13"
       ],
       "layout": "IPY_MODEL_fc85bb7028f84e11828e89c6bbd97685"
      }
     },
     "effef39931de41c08d4e90d86bccab53": {
      "model_module": "@jupyter-widgets/base",
      "model_module_version": "2.0.0",
      "model_name": "LayoutModel",
      "state": {}
     },
     "f040826f16014a00a1935c95f8a7157d": {
      "model_module": "@jupyter-widgets/base",
      "model_module_version": "2.0.0",
      "model_name": "LayoutModel",
      "state": {}
     },
     "f5534c758f28458ebc8fdbac33e56542": {
      "model_module": "@jupyter-widgets/base",
      "model_module_version": "2.0.0",
      "model_name": "LayoutModel",
      "state": {}
     },
     "f5d52b9e2cb64547872bc7e2683017a7": {
      "model_module": "@jupyter-widgets/controls",
      "model_module_version": "2.0.0",
      "model_name": "HBoxModel",
      "state": {
       "children": [
        "IPY_MODEL_83d55a74af234d05827593cbe03f7cf0",
        "IPY_MODEL_b53c66c36e6449db96e3de5a661519e1",
        "IPY_MODEL_1f106ca2054243caabaefd8a410eae0b"
       ],
       "layout": "IPY_MODEL_3daf458b43d44a6b898d4983e2f807fd"
      }
     },
     "f81ac7c1ee984c3ab11bd7fedc887439": {
      "model_module": "@jupyter-widgets/controls",
      "model_module_version": "2.0.0",
      "model_name": "FloatProgressModel",
      "state": {
       "bar_style": "success",
       "layout": "IPY_MODEL_260b2ac269974adeae49acae314c38e6",
       "max": 905,
       "style": "IPY_MODEL_2f359ec1c41b42548aa022239956028b",
       "value": 905
      }
     },
     "f8fcc3a27f2244d786e4259fd1357c2c": {
      "model_module": "@jupyter-widgets/controls",
      "model_module_version": "2.0.0",
      "model_name": "HTMLStyleModel",
      "state": {
       "description_width": "",
       "font_size": null,
       "text_color": null
      }
     },
     "fc85bb7028f84e11828e89c6bbd97685": {
      "model_module": "@jupyter-widgets/base",
      "model_module_version": "2.0.0",
      "model_name": "LayoutModel",
      "state": {}
     }
    },
    "version_major": 2,
    "version_minor": 0
   }
  }
 },
 "nbformat": 4,
 "nbformat_minor": 5
}
