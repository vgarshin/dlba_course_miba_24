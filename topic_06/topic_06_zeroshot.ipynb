{
 "cells": [
  {
   "cell_type": "markdown",
   "id": "c8d35d46-6808-433b-aee8-8eee027eeb6b",
   "metadata": {},
   "source": [
    "# Deep Learning for Business Applications course"
   ]
  },
  {
   "cell_type": "markdown",
   "id": "2757ca75-1aa4-4e25-bddd-a3cfd4cb968b",
   "metadata": {},
   "source": [
    "## TOPIC 6: Hugging Face Hub for Computer Vision. Zero-Shot Image Classification"
   ]
  },
  {
   "cell_type": "markdown",
   "id": "9b09e50c-5c7c-403b-9a1c-c3fc73d20e1d",
   "metadata": {
    "tags": []
   },
   "source": [
    "### 1. Libraries"
   ]
  },
  {
   "cell_type": "code",
   "execution_count": null,
   "id": "e0b82477-63a3-413d-94be-a9ee57359133",
   "metadata": {
    "tags": []
   },
   "outputs": [],
   "source": [
    "!pip install transformers"
   ]
  },
  {
   "cell_type": "code",
   "execution_count": null,
   "id": "4cc48903-1da9-4c5f-8076-f68449e3e02a",
   "metadata": {
    "tags": []
   },
   "outputs": [],
   "source": [
    "# you need to downgrade PyTorch for GPU usage\n",
    "# because our CUDA drivers for GPU are old\n",
    "# so uncomment lines below if you are in\n",
    "# the GPU environment\n",
    "\n",
    "#!pip uninstall -y torch torchvision\n",
    "#!pip install torch==2.0.1 torchvision==0.15.2"
   ]
  },
  {
   "cell_type": "code",
   "execution_count": null,
   "id": "2e432b4f-515b-4980-8623-e3e2f581496a",
   "metadata": {
    "tags": []
   },
   "outputs": [],
   "source": [
    "import os\n",
    "import torch\n",
    "import numpy as np\n",
    "from PIL import Image\n",
    "import matplotlib.pyplot as plt\n",
    "from transformers import CLIPProcessor, CLIPModel\n",
    "\n",
    "# check if GPU available\n",
    "# (works in GPU environment only)\n",
    "DEVICE = torch.device('cuda' if torch.cuda.is_available() else 'cpu')\n",
    "print('device available:', DEVICE)\n",
    "\n",
    "# to get rid off warnings\n",
    "os.environ[\"TOKENIZERS_PARALLELISM\"] = 'false'"
   ]
  },
  {
   "cell_type": "code",
   "execution_count": null,
   "id": "8256378f-7bb0-4a69-973d-df1c59c677ae",
   "metadata": {
    "tags": []
   },
   "outputs": [],
   "source": [
    "!df -h | grep dev/vdb"
   ]
  },
  {
   "cell_type": "code",
   "execution_count": null,
   "id": "cadd1e18-9082-412c-aeac-457444aa4af2",
   "metadata": {
    "tags": []
   },
   "outputs": [],
   "source": [
    "!rm -rf ~/.cache/huggingface/hub"
   ]
  },
  {
   "cell_type": "markdown",
   "id": "c49e4d66-d7be-47d9-b74e-57b318a16bcb",
   "metadata": {
    "tags": []
   },
   "source": [
    "### 2. Model"
   ]
  },
  {
   "cell_type": "markdown",
   "id": "04b59cf1-f840-4c06-918c-3d487da6f7e7",
   "metadata": {},
   "source": [
    "[CLIP model](https://huggingface.co/openai/clip-vit-base-patch16) was developed by researchers at OpenAI."
   ]
  },
  {
   "cell_type": "code",
   "execution_count": null,
   "id": "04afcbaa-e71d-4c22-af10-007f72b48f63",
   "metadata": {
    "tags": []
   },
   "outputs": [],
   "source": [
    "model_name = 'openai/clip-vit-base-patch16'\n",
    "model = CLIPModel.from_pretrained(model_name)\n",
    "processor = CLIPProcessor.from_pretrained(model_name)"
   ]
  },
  {
   "cell_type": "code",
   "execution_count": null,
   "id": "262c79ac-9b95-412c-a094-6f18a196fd23",
   "metadata": {
    "tags": []
   },
   "outputs": [],
   "source": [
    "img = Image.open('imgs/catburger.jpg')  # `soup`, `borsch`, `trayfood`, `catburger`\n",
    "plt.figure(figsize=(8, 6))\n",
    "plt.imshow(img)\n",
    "plt.show()"
   ]
  },
  {
   "cell_type": "code",
   "execution_count": null,
   "id": "3ea5d7ac-c172-44f8-82bf-8d19dd22a0e7",
   "metadata": {
    "tags": []
   },
   "outputs": [],
   "source": [
    "# here we can set classes that are not \n",
    "# in a well known datasets e.g. COCO\n",
    "# and this is very cool\n",
    "\n",
    "CLASSES = [\n",
    "    'a photo of a salad', \n",
    "    'a photo of a soup', \n",
    "    'a photo of a hamburger',\n",
    "    'a bowl with borsch',\n",
    "    'a plate with soup',\n",
    "    'burger with soup and fries', \n",
    "    'burger with cat'\n",
    "]"
   ]
  },
  {
   "cell_type": "code",
   "execution_count": null,
   "id": "8918eacb-b243-4031-9a40-1a98742337ef",
   "metadata": {
    "tags": []
   },
   "outputs": [],
   "source": [
    "inputs = processor(\n",
    "    text=CLASSES,\n",
    "    images=img,\n",
    "    return_tensors='pt',\n",
    "    padding=True\n",
    ")\n",
    "outputs = model(**inputs)\n",
    "\n",
    "# this is the image-text similarity score\n",
    "logits_per_image = outputs.logits_per_image\n",
    "# we can take the softmax to get the label probabilities\n",
    "probs = logits_per_image.softmax(dim=1)\n",
    "# resulting class\n",
    "print('resulting class:', CLASSES[np.argmax(probs.detach().numpy())])"
   ]
  },
  {
   "cell_type": "markdown",
   "id": "f52e6a79-2a50-422c-80db-e8d627b1b61b",
   "metadata": {},
   "source": [
    "...with use of a `pipeline`:"
   ]
  },
  {
   "cell_type": "code",
   "execution_count": null,
   "id": "0dd17786-ebf0-45f2-8ef9-7de50aec83a4",
   "metadata": {
    "tags": []
   },
   "outputs": [],
   "source": [
    "from transformers import pipeline"
   ]
  },
  {
   "cell_type": "code",
   "execution_count": null,
   "id": "73733b18-a952-45b7-946c-e94c3d0c161b",
   "metadata": {
    "tags": []
   },
   "outputs": [],
   "source": [
    "def zeroshot(model_name, classes):\n",
    "    classifier = pipeline('zero-shot-image-classification', model=model_name)\n",
    "    scores = classifier(\n",
    "        img,\n",
    "        candidate_labels=CLASSES\n",
    "    )\n",
    "    print(\n",
    "        f'highest score is {scores[0][\"score\"]:.2f}',\n",
    "        f' for the label -{scores[0][\"label\"]}-'\n",
    "    )\n",
    "    return scores\n",
    "\n",
    "\n",
    "scores = zeroshot(model_name, CLASSES)"
   ]
  },
  {
   "cell_type": "code",
   "execution_count": null,
   "id": "13402edf-855c-4a2e-a65a-dc36f040ddc6",
   "metadata": {
    "tags": []
   },
   "outputs": [],
   "source": [
    "plt.figure(figsize=(8, 4))\n",
    "plt.bar(\n",
    "    [x['label'] for x in scores],\n",
    "    [x['score'] for x in scores],\n",
    "    color='b'\n",
    ")\n",
    "plt.xticks(rotation=90)\n",
    "plt.show()"
   ]
  },
  {
   "cell_type": "markdown",
   "id": "db3bb8e4-aaaa-4399-8355-c85b0255b59d",
   "metadata": {},
   "source": [
    "### 3. Mini-project"
   ]
  },
  {
   "cell_type": "markdown",
   "id": "14ee09d2-64ee-463a-bf45-c19c7906fc64",
   "metadata": {},
   "source": [
    "### <font color='red'>HOME ASSIGNMENT</font>"
   ]
  },
  {
   "cell_type": "markdown",
   "id": "718631a4-00aa-4cd5-83db-19b17b821e93",
   "metadata": {},
   "source": [
    "Imagine you are a computer vision engineer  and you have a project to make student canteen more digital. You are offered to deploy a CV model for meals classification. The canteen is free flow ыщ students have to take a tray with food and show it to camera. The camers takes a photo of a tray and display shows total price for a combo meal that is on a tray. Let's assume that there are limited number of meal sets available.\n",
    "\n",
    "It seems like you better use ready zero-shot framework rather than collect images, label them and finetune model.\n",
    "\n",
    "You task is as follows:\n",
    "1. Define your own classes with `MEAL_CLASSES` variable, use this variable for zero-shot model. Five classes are enough for home assignment. One class will be for one set of meal (e.g. `hamburger with fries and juice`)\n",
    "2. Collect at least one images for every class. Test that your model works well for every class (use function `zeroshot` from above)\n",
    "3. Define a dictionary with prices for every class (set of meals). Create your own function to return a total price for the meals set that student take.\n",
    "4. __(ADVANCED, NOT NECESSARY)__ Use image-from-text generated pipeline to test your work. Ask me for GPU if needed."
   ]
  },
  {
   "cell_type": "code",
   "execution_count": null,
   "id": "c783c9b9-3c18-4925-b5cf-14b2435684e9",
   "metadata": {},
   "outputs": [],
   "source": [
    "# HINT-1\n",
    "\n",
    "MEAL_CLASSES = [\n",
    "    'cutlet with mashed potatoes',\n",
    "    'vegan sausage with broccoli and lavender raff',\n",
    "    # add your options\n",
    "]"
   ]
  },
  {
   "cell_type": "code",
   "execution_count": null,
   "id": "86c3e181-7efc-4754-b080-d9a993253ed6",
   "metadata": {
    "tags": []
   },
   "outputs": [],
   "source": [
    "# HINT-2\n",
    "\n",
    "PRICES_RUR = {\n",
    "    'cutlet with mashed potatoes': 250,\n",
    "    'vegan sausage with broccoli and lavender raff': 470,\n",
    "    # add your options\n",
    "}"
   ]
  },
  {
   "cell_type": "code",
   "execution_count": null,
   "id": "5a688eac-b891-4409-b121-2073ce93b00f",
   "metadata": {},
   "outputs": [],
   "source": [
    "# HINT-3\n",
    "\n",
    "def price_for_meal_set(scores, prices_dict):\n",
    "    # you have to implement function yourself\n",
    "    return price"
   ]
  },
  {
   "cell_type": "code",
   "execution_count": null,
   "id": "ccae9d58-2fa9-45c1-8dc9-db6ba1abeac9",
   "metadata": {},
   "outputs": [],
   "source": []
  }
 ],
 "metadata": {
  "kernelspec": {
   "display_name": "Python 3 (ipykernel)",
   "language": "python",
   "name": "python3"
  },
  "language_info": {
   "codemirror_mode": {
    "name": "ipython",
    "version": 3
   },
   "file_extension": ".py",
   "mimetype": "text/x-python",
   "name": "python",
   "nbconvert_exporter": "python",
   "pygments_lexer": "ipython3",
   "version": "3.10.8"
  },
  "widgets": {
   "application/vnd.jupyter.widget-state+json": {
    "state": {
     "06c1bccf670244ccbc6f45a2c79619af": {
      "model_module": "@jupyter-widgets/controls",
      "model_module_version": "2.0.0",
      "model_name": "HTMLStyleModel",
      "state": {
       "description_width": "",
       "font_size": null,
       "text_color": null
      }
     },
     "0ea03f96cc624804a677ca871c3838e1": {
      "model_module": "@jupyter-widgets/controls",
      "model_module_version": "2.0.0",
      "model_name": "FloatProgressModel",
      "state": {
       "bar_style": "success",
       "layout": "IPY_MODEL_6dbcbd69e7a54f43bf5f6843e4053416",
       "max": 389,
       "style": "IPY_MODEL_2db59576f17548e1949630883e31795b",
       "value": 389
      }
     },
     "14b101923f6b45a9b64d7e4db3ce7ad4": {
      "model_module": "@jupyter-widgets/controls",
      "model_module_version": "2.0.0",
      "model_name": "HTMLStyleModel",
      "state": {
       "description_width": "",
       "font_size": null,
       "text_color": null
      }
     },
     "1ae8d5408c3d45e2ad468b333fd83254": {
      "model_module": "@jupyter-widgets/controls",
      "model_module_version": "2.0.0",
      "model_name": "HTMLStyleModel",
      "state": {
       "description_width": "",
       "font_size": null,
       "text_color": null
      }
     },
     "1cee9a827ba14aa385f0d88e46b61b70": {
      "model_module": "@jupyter-widgets/base",
      "model_module_version": "2.0.0",
      "model_name": "LayoutModel",
      "state": {}
     },
     "2044ac374bbe425fa885b13afd1bc18d": {
      "model_module": "@jupyter-widgets/controls",
      "model_module_version": "2.0.0",
      "model_name": "HTMLModel",
      "state": {
       "layout": "IPY_MODEL_e093f96f28644d3ea2cadfc4908a5c72",
       "style": "IPY_MODEL_14b101923f6b45a9b64d7e4db3ce7ad4",
       "value": "pytorch_model.bin: 100%"
      }
     },
     "2426bb5340e245a3bc09dec6df73cf56": {
      "model_module": "@jupyter-widgets/controls",
      "model_module_version": "2.0.0",
      "model_name": "HTMLModel",
      "state": {
       "layout": "IPY_MODEL_4c81bcb1b5704a82b8732e7e0bb1d62d",
       "style": "IPY_MODEL_ae0a2d4c42ee49619d163d4f946015ef",
       "value": "tokenizer.json: 100%"
      }
     },
     "2ad457bf360942fdb05b2bb76abff419": {
      "model_module": "@jupyter-widgets/base",
      "model_module_version": "2.0.0",
      "model_name": "LayoutModel",
      "state": {}
     },
     "2c401430dda04b42b5552654b2104a75": {
      "model_module": "@jupyter-widgets/base",
      "model_module_version": "2.0.0",
      "model_name": "LayoutModel",
      "state": {}
     },
     "2db59576f17548e1949630883e31795b": {
      "model_module": "@jupyter-widgets/controls",
      "model_module_version": "2.0.0",
      "model_name": "ProgressStyleModel",
      "state": {
       "description_width": ""
      }
     },
     "2e687e7b6894451bbb6e2705a0e2d553": {
      "model_module": "@jupyter-widgets/base",
      "model_module_version": "2.0.0",
      "model_name": "LayoutModel",
      "state": {}
     },
     "34ef470f3b814d24869f3fe1d6b8deef": {
      "model_module": "@jupyter-widgets/controls",
      "model_module_version": "2.0.0",
      "model_name": "HTMLModel",
      "state": {
       "layout": "IPY_MODEL_65d70bee2eaa4928917d138ec356dafd",
       "style": "IPY_MODEL_836120134a90420daf2a3d35abb320dd",
       "value": " 389/389 [00:00&lt;00:00, 30.6kB/s]"
      }
     },
     "3b34f2ea423c42b5a424f4d41210be40": {
      "model_module": "@jupyter-widgets/controls",
      "model_module_version": "2.0.0",
      "model_name": "HTMLStyleModel",
      "state": {
       "description_width": "",
       "font_size": null,
       "text_color": null
      }
     },
     "3d38e7a218114a20a7e1b0d3fc4ddec0": {
      "model_module": "@jupyter-widgets/controls",
      "model_module_version": "2.0.0",
      "model_name": "HBoxModel",
      "state": {
       "children": [
        "IPY_MODEL_7ae9c3cde570438a9b3ed4eee0fd33d6",
        "IPY_MODEL_f43d73a5781d4cc3b26e929ba54dbe12",
        "IPY_MODEL_916a07ea6ed64a7f96e4438aef9012f9"
       ],
       "layout": "IPY_MODEL_823562c907634f4b80ed509c59b3c177"
      }
     },
     "41862349749e4d53b6daed148540152d": {
      "model_module": "@jupyter-widgets/base",
      "model_module_version": "2.0.0",
      "model_name": "LayoutModel",
      "state": {}
     },
     "4373dac843a244fe958c7fc0bd6479f7": {
      "model_module": "@jupyter-widgets/controls",
      "model_module_version": "2.0.0",
      "model_name": "HTMLModel",
      "state": {
       "layout": "IPY_MODEL_caeabfa25aa54f88b2d98673d64adbb3",
       "style": "IPY_MODEL_b3cfb376506446e7afba8e584ca37d6c",
       "value": "merges.txt: 100%"
      }
     },
     "473a2b7edb4f474dbdb185b1ce115b75": {
      "model_module": "@jupyter-widgets/base",
      "model_module_version": "2.0.0",
      "model_name": "LayoutModel",
      "state": {}
     },
     "4c0228b8be32406c9c7a8c1a78a49f6d": {
      "model_module": "@jupyter-widgets/base",
      "model_module_version": "2.0.0",
      "model_name": "LayoutModel",
      "state": {}
     },
     "4c81bcb1b5704a82b8732e7e0bb1d62d": {
      "model_module": "@jupyter-widgets/base",
      "model_module_version": "2.0.0",
      "model_name": "LayoutModel",
      "state": {}
     },
     "4e51d329b085408c977c75ea68a385fb": {
      "model_module": "@jupyter-widgets/controls",
      "model_module_version": "2.0.0",
      "model_name": "HTMLModel",
      "state": {
       "layout": "IPY_MODEL_b3c8c3a488d044068ed75041adc14b82",
       "style": "IPY_MODEL_959da25c80e0412c8fe8084c7b20646a",
       "value": " 599M/599M [00:06&lt;00:00, 99.4MB/s]"
      }
     },
     "5afd474ba86c44ad8981f2cbeed8363d": {
      "model_module": "@jupyter-widgets/controls",
      "model_module_version": "2.0.0",
      "model_name": "HTMLModel",
      "state": {
       "layout": "IPY_MODEL_2ad457bf360942fdb05b2bb76abff419",
       "style": "IPY_MODEL_cfc0606e34234a65b967c825e16133fa",
       "value": " 905/905 [00:00&lt;00:00, 72.0kB/s]"
      }
     },
     "5e6c3dd6ecbf472184068f730a972660": {
      "model_module": "@jupyter-widgets/controls",
      "model_module_version": "2.0.0",
      "model_name": "HBoxModel",
      "state": {
       "children": [
        "IPY_MODEL_f95f201647334af2b1d170ad8ec62ee6",
        "IPY_MODEL_f491c5aae9f94962b8c1456181b0560f",
        "IPY_MODEL_5afd474ba86c44ad8981f2cbeed8363d"
       ],
       "layout": "IPY_MODEL_79be52f557d1464e8f1675e157dd15eb"
      }
     },
     "6089aec1edf740658d71d9738aaba3fd": {
      "model_module": "@jupyter-widgets/base",
      "model_module_version": "2.0.0",
      "model_name": "LayoutModel",
      "state": {}
     },
     "645e4374662f4df6b3fce093a1b73683": {
      "model_module": "@jupyter-widgets/controls",
      "model_module_version": "2.0.0",
      "model_name": "HTMLModel",
      "state": {
       "layout": "IPY_MODEL_7199acd939574ff595860617b1f33d35",
       "style": "IPY_MODEL_65429b191d784c3c953be91e0e66b28b",
       "value": " 316/316 [00:00&lt;00:00, 22.9kB/s]"
      }
     },
     "6495c087d8f145b4b1d1625fae7f9be4": {
      "model_module": "@jupyter-widgets/controls",
      "model_module_version": "2.0.0",
      "model_name": "FloatProgressModel",
      "state": {
       "bar_style": "success",
       "layout": "IPY_MODEL_4c0228b8be32406c9c7a8c1a78a49f6d",
       "max": 598641023,
       "style": "IPY_MODEL_7417f30b71384b4fac6bfd3ef68101cb",
       "value": 598641023
      }
     },
     "65429b191d784c3c953be91e0e66b28b": {
      "model_module": "@jupyter-widgets/controls",
      "model_module_version": "2.0.0",
      "model_name": "HTMLStyleModel",
      "state": {
       "description_width": "",
       "font_size": null,
       "text_color": null
      }
     },
     "65d70bee2eaa4928917d138ec356dafd": {
      "model_module": "@jupyter-widgets/base",
      "model_module_version": "2.0.0",
      "model_name": "LayoutModel",
      "state": {}
     },
     "67e88bafe49e43b8a43e6ba1ea81b687": {
      "model_module": "@jupyter-widgets/base",
      "model_module_version": "2.0.0",
      "model_name": "LayoutModel",
      "state": {}
     },
     "693700c650b14554a5e18a588ba6bc78": {
      "model_module": "@jupyter-widgets/base",
      "model_module_version": "2.0.0",
      "model_name": "LayoutModel",
      "state": {}
     },
     "6c39c0dc781b43a6bf9d47ca745be473": {
      "model_module": "@jupyter-widgets/controls",
      "model_module_version": "2.0.0",
      "model_name": "HTMLModel",
      "state": {
       "layout": "IPY_MODEL_67e88bafe49e43b8a43e6ba1ea81b687",
       "style": "IPY_MODEL_06c1bccf670244ccbc6f45a2c79619af",
       "value": " 525k/525k [00:00&lt;00:00, 1.52MB/s]"
      }
     },
     "6d922692625f4421a2d635fdb0d0047c": {
      "model_module": "@jupyter-widgets/base",
      "model_module_version": "2.0.0",
      "model_name": "LayoutModel",
      "state": {}
     },
     "6dbcbd69e7a54f43bf5f6843e4053416": {
      "model_module": "@jupyter-widgets/base",
      "model_module_version": "2.0.0",
      "model_name": "LayoutModel",
      "state": {}
     },
     "6dcc3069c2114a1b8bb75fca5922ddd0": {
      "model_module": "@jupyter-widgets/base",
      "model_module_version": "2.0.0",
      "model_name": "LayoutModel",
      "state": {}
     },
     "6de0a09e6d6041bfae8f5ad1bd608cec": {
      "model_module": "@jupyter-widgets/controls",
      "model_module_version": "2.0.0",
      "model_name": "HBoxModel",
      "state": {
       "children": [
        "IPY_MODEL_8d4adeecabeb497b87f756a037fa1eee",
        "IPY_MODEL_a3157f30a7a1460a91d5384acb32676d",
        "IPY_MODEL_645e4374662f4df6b3fce093a1b73683"
       ],
       "layout": "IPY_MODEL_aa730a7e070b4312b05fd40d193f1e99"
      }
     },
     "7199acd939574ff595860617b1f33d35": {
      "model_module": "@jupyter-widgets/base",
      "model_module_version": "2.0.0",
      "model_name": "LayoutModel",
      "state": {}
     },
     "7417f30b71384b4fac6bfd3ef68101cb": {
      "model_module": "@jupyter-widgets/controls",
      "model_module_version": "2.0.0",
      "model_name": "ProgressStyleModel",
      "state": {
       "description_width": ""
      }
     },
     "77ad25a224974379bed3215753bca5b9": {
      "model_module": "@jupyter-widgets/controls",
      "model_module_version": "2.0.0",
      "model_name": "HTMLModel",
      "state": {
       "layout": "IPY_MODEL_8bfc460a740d4a4c8e5949cc27ef0be2",
       "style": "IPY_MODEL_93cd495207eb46459f6c0c5a354c9782",
       "value": "config.json: 100%"
      }
     },
     "794dce438d364db8a93d73bc4fb9a5cd": {
      "model_module": "@jupyter-widgets/controls",
      "model_module_version": "2.0.0",
      "model_name": "HTMLStyleModel",
      "state": {
       "description_width": "",
       "font_size": null,
       "text_color": null
      }
     },
     "79be52f557d1464e8f1675e157dd15eb": {
      "model_module": "@jupyter-widgets/base",
      "model_module_version": "2.0.0",
      "model_name": "LayoutModel",
      "state": {}
     },
     "7ae9c3cde570438a9b3ed4eee0fd33d6": {
      "model_module": "@jupyter-widgets/controls",
      "model_module_version": "2.0.0",
      "model_name": "HTMLModel",
      "state": {
       "layout": "IPY_MODEL_b55eff5b5fe447ed85aea469cdc968ae",
       "style": "IPY_MODEL_a3909e2a66fb4e6999ddb0daa7715055",
       "value": "vocab.json: 100%"
      }
     },
     "823562c907634f4b80ed509c59b3c177": {
      "model_module": "@jupyter-widgets/base",
      "model_module_version": "2.0.0",
      "model_name": "LayoutModel",
      "state": {}
     },
     "836120134a90420daf2a3d35abb320dd": {
      "model_module": "@jupyter-widgets/controls",
      "model_module_version": "2.0.0",
      "model_name": "HTMLStyleModel",
      "state": {
       "description_width": "",
       "font_size": null,
       "text_color": null
      }
     },
     "850946311236468a9dad44438ccc58b3": {
      "model_module": "@jupyter-widgets/controls",
      "model_module_version": "2.0.0",
      "model_name": "FloatProgressModel",
      "state": {
       "bar_style": "success",
       "layout": "IPY_MODEL_693700c650b14554a5e18a588ba6bc78",
       "max": 524619,
       "style": "IPY_MODEL_c56e577e05c74ab78be0571025b02858",
       "value": 524619
      }
     },
     "880b23190cfc499bb84f44fec4fcf0bc": {
      "model_module": "@jupyter-widgets/base",
      "model_module_version": "2.0.0",
      "model_name": "LayoutModel",
      "state": {}
     },
     "8bfc460a740d4a4c8e5949cc27ef0be2": {
      "model_module": "@jupyter-widgets/base",
      "model_module_version": "2.0.0",
      "model_name": "LayoutModel",
      "state": {}
     },
     "8d4adeecabeb497b87f756a037fa1eee": {
      "model_module": "@jupyter-widgets/controls",
      "model_module_version": "2.0.0",
      "model_name": "HTMLModel",
      "state": {
       "layout": "IPY_MODEL_880b23190cfc499bb84f44fec4fcf0bc",
       "style": "IPY_MODEL_1ae8d5408c3d45e2ad468b333fd83254",
       "value": "preprocessor_config.json: 100%"
      }
     },
     "9103f930d5e247fc85a3c1254248adbb": {
      "model_module": "@jupyter-widgets/controls",
      "model_module_version": "2.0.0",
      "model_name": "HTMLStyleModel",
      "state": {
       "description_width": "",
       "font_size": null,
       "text_color": null
      }
     },
     "916a07ea6ed64a7f96e4438aef9012f9": {
      "model_module": "@jupyter-widgets/controls",
      "model_module_version": "2.0.0",
      "model_name": "HTMLModel",
      "state": {
       "layout": "IPY_MODEL_6dcc3069c2114a1b8bb75fca5922ddd0",
       "style": "IPY_MODEL_9103f930d5e247fc85a3c1254248adbb",
       "value": " 961k/961k [00:00&lt;00:00, 2.10MB/s]"
      }
     },
     "93cd495207eb46459f6c0c5a354c9782": {
      "model_module": "@jupyter-widgets/controls",
      "model_module_version": "2.0.0",
      "model_name": "HTMLStyleModel",
      "state": {
       "description_width": "",
       "font_size": null,
       "text_color": null
      }
     },
     "9494b627ee004162bffa0fdf3cbef011": {
      "model_module": "@jupyter-widgets/controls",
      "model_module_version": "2.0.0",
      "model_name": "HBoxModel",
      "state": {
       "children": [
        "IPY_MODEL_2426bb5340e245a3bc09dec6df73cf56",
        "IPY_MODEL_c50d280c7a7d48558df665da7cf6a4f5",
        "IPY_MODEL_fe4321c5f87a4e76980fdc5a6fc8df14"
       ],
       "layout": "IPY_MODEL_41862349749e4d53b6daed148540152d"
      }
     },
     "959da25c80e0412c8fe8084c7b20646a": {
      "model_module": "@jupyter-widgets/controls",
      "model_module_version": "2.0.0",
      "model_name": "HTMLStyleModel",
      "state": {
       "description_width": "",
       "font_size": null,
       "text_color": null
      }
     },
     "9c1b62f370444f949f693e9f3666127b": {
      "model_module": "@jupyter-widgets/controls",
      "model_module_version": "2.0.0",
      "model_name": "HTMLStyleModel",
      "state": {
       "description_width": "",
       "font_size": null,
       "text_color": null
      }
     },
     "a18e5d46fcc34301b5e09a4abc75932f": {
      "model_module": "@jupyter-widgets/base",
      "model_module_version": "2.0.0",
      "model_name": "LayoutModel",
      "state": {}
     },
     "a3157f30a7a1460a91d5384acb32676d": {
      "model_module": "@jupyter-widgets/controls",
      "model_module_version": "2.0.0",
      "model_name": "FloatProgressModel",
      "state": {
       "bar_style": "success",
       "layout": "IPY_MODEL_b056f212d439414a8b9bbc2897e2fb0d",
       "max": 316,
       "style": "IPY_MODEL_bfc81b5df4d643f1aa022978a5a3868c",
       "value": 316
      }
     },
     "a3909e2a66fb4e6999ddb0daa7715055": {
      "model_module": "@jupyter-widgets/controls",
      "model_module_version": "2.0.0",
      "model_name": "HTMLStyleModel",
      "state": {
       "description_width": "",
       "font_size": null,
       "text_color": null
      }
     },
     "a7e5270a0ae4474b951bfb81ef55126b": {
      "model_module": "@jupyter-widgets/controls",
      "model_module_version": "2.0.0",
      "model_name": "HTMLStyleModel",
      "state": {
       "description_width": "",
       "font_size": null,
       "text_color": null
      }
     },
     "aa730a7e070b4312b05fd40d193f1e99": {
      "model_module": "@jupyter-widgets/base",
      "model_module_version": "2.0.0",
      "model_name": "LayoutModel",
      "state": {}
     },
     "abb7c9e1144f415f8348b4ea6619ed80": {
      "model_module": "@jupyter-widgets/base",
      "model_module_version": "2.0.0",
      "model_name": "LayoutModel",
      "state": {}
     },
     "ae0a2d4c42ee49619d163d4f946015ef": {
      "model_module": "@jupyter-widgets/controls",
      "model_module_version": "2.0.0",
      "model_name": "HTMLStyleModel",
      "state": {
       "description_width": "",
       "font_size": null,
       "text_color": null
      }
     },
     "b056f212d439414a8b9bbc2897e2fb0d": {
      "model_module": "@jupyter-widgets/base",
      "model_module_version": "2.0.0",
      "model_name": "LayoutModel",
      "state": {}
     },
     "b2a056f525564300b7ba79c328547e94": {
      "model_module": "@jupyter-widgets/controls",
      "model_module_version": "2.0.0",
      "model_name": "FloatProgressModel",
      "state": {
       "bar_style": "success",
       "layout": "IPY_MODEL_c91b0a86f7774db7a3c04aa1fd7d0608",
       "max": 4104,
       "style": "IPY_MODEL_eb642492fce4471db0b7b80b2e1c4572",
       "value": 4104
      }
     },
     "b3c8c3a488d044068ed75041adc14b82": {
      "model_module": "@jupyter-widgets/base",
      "model_module_version": "2.0.0",
      "model_name": "LayoutModel",
      "state": {}
     },
     "b3cfb376506446e7afba8e584ca37d6c": {
      "model_module": "@jupyter-widgets/controls",
      "model_module_version": "2.0.0",
      "model_name": "HTMLStyleModel",
      "state": {
       "description_width": "",
       "font_size": null,
       "text_color": null
      }
     },
     "b55eff5b5fe447ed85aea469cdc968ae": {
      "model_module": "@jupyter-widgets/base",
      "model_module_version": "2.0.0",
      "model_name": "LayoutModel",
      "state": {}
     },
     "bd02974e489c43e0a0856c257e5831b1": {
      "model_module": "@jupyter-widgets/controls",
      "model_module_version": "2.0.0",
      "model_name": "ProgressStyleModel",
      "state": {
       "description_width": ""
      }
     },
     "bdca4a0a21a146259b47524578dfe575": {
      "model_module": "@jupyter-widgets/controls",
      "model_module_version": "2.0.0",
      "model_name": "HBoxModel",
      "state": {
       "children": [
        "IPY_MODEL_2044ac374bbe425fa885b13afd1bc18d",
        "IPY_MODEL_6495c087d8f145b4b1d1625fae7f9be4",
        "IPY_MODEL_4e51d329b085408c977c75ea68a385fb"
       ],
       "layout": "IPY_MODEL_2e687e7b6894451bbb6e2705a0e2d553"
      }
     },
     "bfc81b5df4d643f1aa022978a5a3868c": {
      "model_module": "@jupyter-widgets/controls",
      "model_module_version": "2.0.0",
      "model_name": "ProgressStyleModel",
      "state": {
       "description_width": ""
      }
     },
     "bfe05b6215ee405cb960ff58d12b5e2c": {
      "model_module": "@jupyter-widgets/controls",
      "model_module_version": "2.0.0",
      "model_name": "HBoxModel",
      "state": {
       "children": [
        "IPY_MODEL_77ad25a224974379bed3215753bca5b9",
        "IPY_MODEL_b2a056f525564300b7ba79c328547e94",
        "IPY_MODEL_dc67e0f5124749d794a4091937b77764"
       ],
       "layout": "IPY_MODEL_2c401430dda04b42b5552654b2104a75"
      }
     },
     "c05e75eb803645a594820a59d76405a5": {
      "model_module": "@jupyter-widgets/base",
      "model_module_version": "2.0.0",
      "model_name": "LayoutModel",
      "state": {}
     },
     "c35552e3edd242c889bb2f9af6909c73": {
      "model_module": "@jupyter-widgets/controls",
      "model_module_version": "2.0.0",
      "model_name": "ProgressStyleModel",
      "state": {
       "description_width": ""
      }
     },
     "c50d280c7a7d48558df665da7cf6a4f5": {
      "model_module": "@jupyter-widgets/controls",
      "model_module_version": "2.0.0",
      "model_name": "FloatProgressModel",
      "state": {
       "bar_style": "success",
       "layout": "IPY_MODEL_1cee9a827ba14aa385f0d88e46b61b70",
       "max": 2224003,
       "style": "IPY_MODEL_c35552e3edd242c889bb2f9af6909c73",
       "value": 2224003
      }
     },
     "c56e577e05c74ab78be0571025b02858": {
      "model_module": "@jupyter-widgets/controls",
      "model_module_version": "2.0.0",
      "model_name": "ProgressStyleModel",
      "state": {
       "description_width": ""
      }
     },
     "c766b846fe5147bdb43ddcd839b9bb81": {
      "model_module": "@jupyter-widgets/base",
      "model_module_version": "2.0.0",
      "model_name": "LayoutModel",
      "state": {}
     },
     "c91b0a86f7774db7a3c04aa1fd7d0608": {
      "model_module": "@jupyter-widgets/base",
      "model_module_version": "2.0.0",
      "model_name": "LayoutModel",
      "state": {}
     },
     "caeabfa25aa54f88b2d98673d64adbb3": {
      "model_module": "@jupyter-widgets/base",
      "model_module_version": "2.0.0",
      "model_name": "LayoutModel",
      "state": {}
     },
     "cfc0606e34234a65b967c825e16133fa": {
      "model_module": "@jupyter-widgets/controls",
      "model_module_version": "2.0.0",
      "model_name": "HTMLStyleModel",
      "state": {
       "description_width": "",
       "font_size": null,
       "text_color": null
      }
     },
     "d31d00deae4d4c42a755ee0fd8af488a": {
      "model_module": "@jupyter-widgets/controls",
      "model_module_version": "2.0.0",
      "model_name": "HBoxModel",
      "state": {
       "children": [
        "IPY_MODEL_ed1573856fe0413195e4b97d785d46ff",
        "IPY_MODEL_0ea03f96cc624804a677ca871c3838e1",
        "IPY_MODEL_34ef470f3b814d24869f3fe1d6b8deef"
       ],
       "layout": "IPY_MODEL_d56c9f06034f4660a8f65f2ba6b1af6e"
      }
     },
     "d56c9f06034f4660a8f65f2ba6b1af6e": {
      "model_module": "@jupyter-widgets/base",
      "model_module_version": "2.0.0",
      "model_name": "LayoutModel",
      "state": {}
     },
     "dc67e0f5124749d794a4091937b77764": {
      "model_module": "@jupyter-widgets/controls",
      "model_module_version": "2.0.0",
      "model_name": "HTMLModel",
      "state": {
       "layout": "IPY_MODEL_c766b846fe5147bdb43ddcd839b9bb81",
       "style": "IPY_MODEL_794dce438d364db8a93d73bc4fb9a5cd",
       "value": " 4.10k/4.10k [00:00&lt;00:00, 246kB/s]"
      }
     },
     "e093f96f28644d3ea2cadfc4908a5c72": {
      "model_module": "@jupyter-widgets/base",
      "model_module_version": "2.0.0",
      "model_name": "LayoutModel",
      "state": {}
     },
     "eb642492fce4471db0b7b80b2e1c4572": {
      "model_module": "@jupyter-widgets/controls",
      "model_module_version": "2.0.0",
      "model_name": "ProgressStyleModel",
      "state": {
       "description_width": ""
      }
     },
     "ed1573856fe0413195e4b97d785d46ff": {
      "model_module": "@jupyter-widgets/controls",
      "model_module_version": "2.0.0",
      "model_name": "HTMLModel",
      "state": {
       "layout": "IPY_MODEL_473a2b7edb4f474dbdb185b1ce115b75",
       "style": "IPY_MODEL_9c1b62f370444f949f693e9f3666127b",
       "value": "special_tokens_map.json: 100%"
      }
     },
     "f2ff499e8f424a229f83f4588ce280c8": {
      "model_module": "@jupyter-widgets/controls",
      "model_module_version": "2.0.0",
      "model_name": "HBoxModel",
      "state": {
       "children": [
        "IPY_MODEL_4373dac843a244fe958c7fc0bd6479f7",
        "IPY_MODEL_850946311236468a9dad44438ccc58b3",
        "IPY_MODEL_6c39c0dc781b43a6bf9d47ca745be473"
       ],
       "layout": "IPY_MODEL_6d922692625f4421a2d635fdb0d0047c"
      }
     },
     "f43d73a5781d4cc3b26e929ba54dbe12": {
      "model_module": "@jupyter-widgets/controls",
      "model_module_version": "2.0.0",
      "model_name": "FloatProgressModel",
      "state": {
       "bar_style": "success",
       "layout": "IPY_MODEL_abb7c9e1144f415f8348b4ea6619ed80",
       "max": 961143,
       "style": "IPY_MODEL_bd02974e489c43e0a0856c257e5831b1",
       "value": 961143
      }
     },
     "f491c5aae9f94962b8c1456181b0560f": {
      "model_module": "@jupyter-widgets/controls",
      "model_module_version": "2.0.0",
      "model_name": "FloatProgressModel",
      "state": {
       "bar_style": "success",
       "layout": "IPY_MODEL_c05e75eb803645a594820a59d76405a5",
       "max": 905,
       "style": "IPY_MODEL_fb40b4e39e2c40a1a56a63f5decd7ef1",
       "value": 905
      }
     },
     "f95f201647334af2b1d170ad8ec62ee6": {
      "model_module": "@jupyter-widgets/controls",
      "model_module_version": "2.0.0",
      "model_name": "HTMLModel",
      "state": {
       "layout": "IPY_MODEL_a18e5d46fcc34301b5e09a4abc75932f",
       "style": "IPY_MODEL_a7e5270a0ae4474b951bfb81ef55126b",
       "value": "tokenizer_config.json: 100%"
      }
     },
     "fb40b4e39e2c40a1a56a63f5decd7ef1": {
      "model_module": "@jupyter-widgets/controls",
      "model_module_version": "2.0.0",
      "model_name": "ProgressStyleModel",
      "state": {
       "description_width": ""
      }
     },
     "fe4321c5f87a4e76980fdc5a6fc8df14": {
      "model_module": "@jupyter-widgets/controls",
      "model_module_version": "2.0.0",
      "model_name": "HTMLModel",
      "state": {
       "layout": "IPY_MODEL_6089aec1edf740658d71d9738aaba3fd",
       "style": "IPY_MODEL_3b34f2ea423c42b5a424f4d41210be40",
       "value": " 2.22M/2.22M [00:00&lt;00:00, 9.68MB/s]"
      }
     }
    },
    "version_major": 2,
    "version_minor": 0
   }
  }
 },
 "nbformat": 4,
 "nbformat_minor": 5
}
